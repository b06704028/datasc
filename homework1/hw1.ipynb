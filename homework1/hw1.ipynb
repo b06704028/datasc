{
 "cells": [
  {
   "cell_type": "code",
   "execution_count": 3,
   "metadata": {},
   "outputs": [
    {
     "name": "stdout",
     "output_type": "stream",
     "text": [
      "['台北', '高雄', '台中', '桃園', '新竹', '彰化', '台南', '苗栗', '雲林', '嘉義', '屏東', '宜蘭', '南投', '台東', '花蓮', '澎湖']\n"
     ]
    },
    {
     "data": {
      "image/png": "[encoded data removed]",
      "text/plain": [
       "<Figure size 936x576 with 2 Axes>"
      ]
     },
     "metadata": {
      "needs_background": "light"
     },
     "output_type": "display_data"
    }
   ],
   "source": [
    "from email.mime.text import MIMEText\n",
    "from email.mime.multipart import MIMEMultipart\n",
    "from email.mime.application import MIMEApplication\n",
    "import xlrd\n",
    "import xlwt\n",
    "import matplotlib\n",
    "import matplotlib.pyplot as plt\n",
    "import numpy as np\n",
    "file_r = \"野村證券CRM.xlsx\" #資料們\n",
    "book_r = xlrd.open_workbook(file_r,encoding_override=\"utf-8\")\n",
    "sheet_1 = book_r.sheet_by_index(1)\n",
    "onshore_postcode_list = []\n",
    "onshore_sddress_list = []\n",
    "tw = {\"台北\":0,\"宜蘭\":0,\"桃園\":0,\"新竹\":0,\"苗栗\":0,\"彰化\":0,\"台中\":0,\"南投\":0,\"台南\":0,\"嘉義\":0,\"雲林\":0,\"高雄\":0,\"屏東\":0,\"台東\":0,\"花蓮\":0,\"澎湖\":0}\n",
    "# 讀取文件\n",
    "for p in range(1,101):\n",
    "    on_postcode = sheet_1.cell_value(rowx=p,colx=17)\n",
    "    onshore_postcode_list.append(on_postcode)\n",
    "    on_adr = sheet_1.cell_value(rowx=p,colx=18)\n",
    "    onshore_sddress_list.append(on_adr)\n",
    "    # email_name = sheet_1.cell_value(rowx=p,colx=2)\n",
    "    # email_list.append(email_name)\n",
    "#print(onshore_postcode_list)\n",
    "for i in tw:\n",
    "    for on_po in onshore_sddress_list:\n",
    "        if i in on_po:\n",
    "            tw[str(i)] = tw[str(i)]+1  \n",
    "font = {'family' : 'DFKai-SB',\n",
    "'weight' : 'bold',\n",
    "'size'  : '10'} #字型設定\n",
    "plt.rc('font', **font) #字型設定 # pass in the font dict as kwargs\n",
    "plt.rc('axes',unicode_minus=False) #字型設定\n",
    "plt.subplots(figsize=(13, 8)) #圖形大小\n",
    "ax1 = plt.subplot(2,2,1)\n",
    "#第一行第二列图形\n",
    "ax2 = plt.subplot(2,2,2)\n",
    "#选择ax1\n",
    "plt.sca(ax1)\n",
    "tw_place1 = [*tw] #抓出tw dict的keys\n",
    "plt.bar(tw_place1, list(tw.values()),color = 'darkorange', label='各地區人數')\n",
    "plt.legend(loc='lower left')\n",
    "plt.ylabel('人數')\n",
    "plt.title(\"各地區人數\")\n",
    "yaxis = np.arange(0,20,5)\n",
    "#plt.ylim(0,20)\n",
    "plt.yticks(yaxis)\n",
    "plt.legend()\n",
    "plt.sca(ax2)\n",
    "sort_tw_value = list(tw.values())\n",
    "sort_tw_value.sort(reverse=True)\n",
    "sort_tw = [[k, tw[k]] for k in sorted(tw, key=tw.get, reverse=True)] \n",
    "# sort value後，以list方式儲存\n",
    "#print(sort_tw)\n",
    "sort_tw_place = []\n",
    "for h in range(len(sort_tw)):\n",
    "    sort_tw_place.append(sort_tw[h][0])\n",
    "print(sort_tw_place)\n",
    "plt.bar(sort_tw_place, sort_tw_value,color = 'darkgreen', label='各地區人數')\n",
    "plt.legend(loc='lower left')\n",
    "plt.ylabel('人數')\n",
    "plt.title(\"各地區人數\")\n",
    "yaxis = np.arange(0,20,5)\n",
    "plt.yticks(yaxis)\n",
    "plt.legend()\n",
    "#plt.savefig('C:\\\\Users\\\\Will\\\\Desktop\\\\MACD6.png') #存成圖檔\n",
    "plt.show()\n",
    "#print(tw)"
   ]
  },
  {
   "cell_type": "code",
   "execution_count": null,
   "metadata": {},
   "outputs": [],
   "source": []
  }
 ],
 "metadata": {
  "kernelspec": {
   "display_name": "Python 3",
   "language": "python",
   "name": "python3"
  },
  "language_info": {
   "codemirror_mode": {
    "name": "ipython",
    "version": 3
   },
   "file_extension": ".py",
   "mimetype": "text/x-python",
   "name": "python",
   "nbconvert_exporter": "python",
   "pygments_lexer": "ipython3",
   "version": "3.6.4"
  }
 },
 "nbformat": 4,
 "nbformat_minor": 2
}
