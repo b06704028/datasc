{
 "cells": [
  {
   "cell_type": "markdown",
   "metadata": {},
   "source": [
    "# 美國 ETF 迴歸資料整理"
   ]
  },
  {
   "cell_type": "markdown",
   "metadata": {},
   "source": [
    "### 開啟檔案"
   ]
  },
  {
   "cell_type": "code",
   "execution_count": 282,
   "metadata": {},
   "outputs": [],
   "source": [
    "import pickle\n",
    "import pandas as pd\n",
    "import datetime"
   ]
  },
  {
   "cell_type": "code",
   "execution_count": 283,
   "metadata": {},
   "outputs": [],
   "source": [
    "with open('Total_score.pickle', 'rb') as file1:\n",
    "    score = pickle.load(file1)\n",
    "with open(\"/Users/daphne/JupyterProjects/ETF/迴歸/美國etf_VOX.pickle\", 'rb') as file2:\n",
    "    ETF = pickle.load(file2)\n",
    "    ETF_index = ETF.reset_index()"
   ]
  },
  {
   "cell_type": "code",
   "execution_count": 284,
   "metadata": {},
   "outputs": [
    {
     "data": {
      "text/html": [
       "<div>\n",
       "<style scoped>\n",
       "    .dataframe tbody tr th:only-of-type {\n",
       "        vertical-align: middle;\n",
       "    }\n",
       "\n",
       "    .dataframe tbody tr th {\n",
       "        vertical-align: top;\n",
       "    }\n",
       "\n",
       "    .dataframe thead th {\n",
       "        text-align: right;\n",
       "    }\n",
       "</style>\n",
       "<table border=\"1\" class=\"dataframe\">\n",
       "  <thead>\n",
       "    <tr style=\"text-align: right;\">\n",
       "      <th></th>\n",
       "      <th>Date</th>\n",
       "      <th>High</th>\n",
       "      <th>Low</th>\n",
       "      <th>Open</th>\n",
       "      <th>Close</th>\n",
       "      <th>Volume</th>\n",
       "      <th>Adj Close</th>\n",
       "    </tr>\n",
       "  </thead>\n",
       "  <tbody>\n",
       "    <tr>\n",
       "      <th>0</th>\n",
       "      <td>2016-05-31</td>\n",
       "      <td>92.669998</td>\n",
       "      <td>91.989998</td>\n",
       "      <td>92.279999</td>\n",
       "      <td>92.389999</td>\n",
       "      <td>650300.0</td>\n",
       "      <td>84.752113</td>\n",
       "    </tr>\n",
       "    <tr>\n",
       "      <th>1</th>\n",
       "      <td>2016-06-01</td>\n",
       "      <td>92.419998</td>\n",
       "      <td>90.919998</td>\n",
       "      <td>92.309998</td>\n",
       "      <td>91.430000</td>\n",
       "      <td>420500.0</td>\n",
       "      <td>83.871483</td>\n",
       "    </tr>\n",
       "    <tr>\n",
       "      <th>2</th>\n",
       "      <td>2016-06-02</td>\n",
       "      <td>92.190002</td>\n",
       "      <td>91.099998</td>\n",
       "      <td>91.400002</td>\n",
       "      <td>92.190002</td>\n",
       "      <td>151900.0</td>\n",
       "      <td>84.568649</td>\n",
       "    </tr>\n",
       "    <tr>\n",
       "      <th>3</th>\n",
       "      <td>2016-06-03</td>\n",
       "      <td>92.019997</td>\n",
       "      <td>91.000000</td>\n",
       "      <td>91.889999</td>\n",
       "      <td>91.529999</td>\n",
       "      <td>221700.0</td>\n",
       "      <td>83.963211</td>\n",
       "    </tr>\n",
       "    <tr>\n",
       "      <th>4</th>\n",
       "      <td>2016-06-06</td>\n",
       "      <td>92.129997</td>\n",
       "      <td>91.599998</td>\n",
       "      <td>91.709999</td>\n",
       "      <td>91.730003</td>\n",
       "      <td>182700.0</td>\n",
       "      <td>84.146683</td>\n",
       "    </tr>\n",
       "  </tbody>\n",
       "</table>\n",
       "</div>"
      ],
      "text/plain": [
       "        Date       High        Low       Open      Close    Volume  Adj Close\n",
       "0 2016-05-31  92.669998  91.989998  92.279999  92.389999  650300.0  84.752113\n",
       "1 2016-06-01  92.419998  90.919998  92.309998  91.430000  420500.0  83.871483\n",
       "2 2016-06-02  92.190002  91.099998  91.400002  92.190002  151900.0  84.568649\n",
       "3 2016-06-03  92.019997  91.000000  91.889999  91.529999  221700.0  83.963211\n",
       "4 2016-06-06  92.129997  91.599998  91.709999  91.730003  182700.0  84.146683"
      ]
     },
     "execution_count": 284,
     "metadata": {},
     "output_type": "execute_result"
    }
   ],
   "source": [
    "ETF_index.head()"
   ]
  },
  {
   "cell_type": "code",
   "execution_count": 285,
   "metadata": {},
   "outputs": [
    {
     "data": {
      "text/html": [
       "<div>\n",
       "<style scoped>\n",
       "    .dataframe tbody tr th:only-of-type {\n",
       "        vertical-align: middle;\n",
       "    }\n",
       "\n",
       "    .dataframe tbody tr th {\n",
       "        vertical-align: top;\n",
       "    }\n",
       "\n",
       "    .dataframe thead th {\n",
       "        text-align: right;\n",
       "    }\n",
       "</style>\n",
       "<table border=\"1\" class=\"dataframe\">\n",
       "  <thead>\n",
       "    <tr style=\"text-align: right;\">\n",
       "      <th></th>\n",
       "      <th>High</th>\n",
       "      <th>Low</th>\n",
       "      <th>Open</th>\n",
       "      <th>Close</th>\n",
       "      <th>Volume</th>\n",
       "      <th>Adj Close</th>\n",
       "      <th>Change</th>\n",
       "    </tr>\n",
       "    <tr>\n",
       "      <th>Date</th>\n",
       "      <th></th>\n",
       "      <th></th>\n",
       "      <th></th>\n",
       "      <th></th>\n",
       "      <th></th>\n",
       "      <th></th>\n",
       "      <th></th>\n",
       "    </tr>\n",
       "  </thead>\n",
       "  <tbody>\n",
       "    <tr>\n",
       "      <th>2016-05-31</th>\n",
       "      <td>92.669998</td>\n",
       "      <td>91.989998</td>\n",
       "      <td>92.279999</td>\n",
       "      <td>92.389999</td>\n",
       "      <td>650300.0</td>\n",
       "      <td>84.752113</td>\n",
       "      <td>0.110001</td>\n",
       "    </tr>\n",
       "    <tr>\n",
       "      <th>2016-06-01</th>\n",
       "      <td>92.419998</td>\n",
       "      <td>90.919998</td>\n",
       "      <td>92.309998</td>\n",
       "      <td>91.430000</td>\n",
       "      <td>420500.0</td>\n",
       "      <td>83.871483</td>\n",
       "      <td>-0.879997</td>\n",
       "    </tr>\n",
       "    <tr>\n",
       "      <th>2016-06-02</th>\n",
       "      <td>92.190002</td>\n",
       "      <td>91.099998</td>\n",
       "      <td>91.400002</td>\n",
       "      <td>92.190002</td>\n",
       "      <td>151900.0</td>\n",
       "      <td>84.568649</td>\n",
       "      <td>0.790001</td>\n",
       "    </tr>\n",
       "    <tr>\n",
       "      <th>2016-06-03</th>\n",
       "      <td>92.019997</td>\n",
       "      <td>91.000000</td>\n",
       "      <td>91.889999</td>\n",
       "      <td>91.529999</td>\n",
       "      <td>221700.0</td>\n",
       "      <td>83.963211</td>\n",
       "      <td>-0.360001</td>\n",
       "    </tr>\n",
       "    <tr>\n",
       "      <th>2016-06-06</th>\n",
       "      <td>92.129997</td>\n",
       "      <td>91.599998</td>\n",
       "      <td>91.709999</td>\n",
       "      <td>91.730003</td>\n",
       "      <td>182700.0</td>\n",
       "      <td>84.146683</td>\n",
       "      <td>0.020004</td>\n",
       "    </tr>\n",
       "  </tbody>\n",
       "</table>\n",
       "</div>"
      ],
      "text/plain": [
       "                 High        Low       Open      Close    Volume  Adj Close  \\\n",
       "Date                                                                          \n",
       "2016-05-31  92.669998  91.989998  92.279999  92.389999  650300.0  84.752113   \n",
       "2016-06-01  92.419998  90.919998  92.309998  91.430000  420500.0  83.871483   \n",
       "2016-06-02  92.190002  91.099998  91.400002  92.190002  151900.0  84.568649   \n",
       "2016-06-03  92.019997  91.000000  91.889999  91.529999  221700.0  83.963211   \n",
       "2016-06-06  92.129997  91.599998  91.709999  91.730003  182700.0  84.146683   \n",
       "\n",
       "              Change  \n",
       "Date                  \n",
       "2016-05-31  0.110001  \n",
       "2016-06-01 -0.879997  \n",
       "2016-06-02  0.790001  \n",
       "2016-06-03 -0.360001  \n",
       "2016-06-06  0.020004  "
      ]
     },
     "execution_count": 285,
     "metadata": {},
     "output_type": "execute_result"
    }
   ],
   "source": [
    "ETF['Change'] = ETF[\"Close\"] - ETF[\"Open\"]\n",
    "ETF.head()"
   ]
  },
  {
   "cell_type": "markdown",
   "metadata": {},
   "source": [
    "### 1. 比對新聞與ETF開盤的共同日期\n",
    "（確保數據可以對照）"
   ]
  },
  {
   "cell_type": "code",
   "execution_count": 286,
   "metadata": {},
   "outputs": [],
   "source": [
    "cnt = 0\n",
    "dates = []\n",
    "for date in score.keys():\n",
    "    #print('date', date)\n",
    "    for d in ETF_index['Date']:\n",
    "        #print(d)\n",
    "        if date == d.date():\n",
    "            dates.append(date)\n",
    "            cnt+=1\n",
    "\n",
    "#print(dates[0])\n",
    "#print(dates)\n"
   ]
  },
  {
   "cell_type": "code",
   "execution_count": 287,
   "metadata": {},
   "outputs": [
    {
     "data": {
      "text/plain": [
       "236"
      ]
     },
     "execution_count": 287,
     "metadata": {},
     "output_type": "execute_result"
    }
   ],
   "source": [
    "cnt"
   ]
  },
  {
   "cell_type": "markdown",
   "metadata": {},
   "source": [
    "### 2. 整理迴歸資料：日期、收盤價、波動幅度、情緒分數"
   ]
  },
  {
   "cell_type": "code",
   "execution_count": 288,
   "metadata": {},
   "outputs": [],
   "source": [
    "reg_ETF = []\n",
    "\n",
    "for d in dates:\n",
    "    p = ETF.loc[d][\"Close\"]  # Y\n",
    "    c = ETF.loc[d][\"Change\"]\n",
    "    s = score[d]   # X\n",
    "    ss = score[d]**2\n",
    "    set = [d, p, c, s, ss]\n",
    "\n",
    "    reg_ETF.append(set)\n",
    "    \n",
    "#print(reg_ETF)"
   ]
  },
  {
   "cell_type": "markdown",
   "metadata": {},
   "source": [
    "### 3. 轉成 .csv"
   ]
  },
  {
   "cell_type": "code",
   "execution_count": 290,
   "metadata": {},
   "outputs": [
    {
     "name": "stdout",
     "output_type": "stream",
     "text": [
      "           Date      Price    Change  Score   Square\n",
      "0    2018-06-15  86.750000  0.550003  -17.0    289.0\n",
      "1    2018-06-18  86.489998  0.239998    3.0      9.0\n",
      "2    2018-06-19  86.989998  1.189995 -282.0  79524.0\n",
      "3    2018-06-20  86.940002 -0.529999  -44.0   1936.0\n",
      "4    2018-06-21  86.220001 -0.930000  -57.0   3249.0\n",
      "5    2018-06-22  86.750000  0.360001  -40.0   1600.0\n",
      "6    2018-06-25  85.660004 -0.889999    6.0     36.0\n",
      "7    2018-06-26  85.769997 -0.090004    4.0     16.0\n",
      "8    2018-06-27  84.910004 -0.869995  -84.0   7056.0\n",
      "9    2018-06-28  85.260002  1.029999  -50.0   2500.0\n",
      "10   2018-06-29  84.919998 -0.389999  -38.0   1444.0\n",
      "11   2018-07-02  85.190002  0.790001   -6.0     36.0\n",
      "12   2018-07-03  84.750000 -0.629997    1.0      1.0\n",
      "13   2018-07-05  86.389999  0.669998   -3.0      9.0\n",
      "14   2018-07-06  87.370003  1.010002  -40.0   1600.0\n",
      "15   2018-07-09  87.750000 -0.139999  -15.0    225.0\n",
      "16   2018-07-10  88.029999  0.089996   30.0    900.0\n",
      "17   2018-07-11  87.180000 -0.120003  -69.0   4761.0\n",
      "18   2018-07-12  88.110001  0.779999  -85.0   7225.0\n",
      "19   2018-07-13  87.889999 -0.139999  -41.0   1681.0\n",
      "20   2018-07-16  87.660004 -0.169998   14.0    196.0\n",
      "21   2018-07-17  87.500000  0.510002  -14.0    196.0\n",
      "22   2018-07-18  86.980003 -0.349998    3.0      9.0\n",
      "23   2018-07-19  86.300003 -0.519997   20.0    400.0\n",
      "24   2018-07-20  85.970001 -0.290001  -23.0    529.0\n",
      "25   2018-07-23  86.160004  0.250000    5.0     25.0\n",
      "26   2018-07-24  86.849998 -0.450005   24.0    576.0\n",
      "27   2018-07-25  86.680000 -0.019997   25.0    625.0\n",
      "28   2018-07-26  85.300003  0.610001  -15.0    225.0\n",
      "29   2018-07-27  84.650002 -0.820000   15.0    225.0\n",
      "..          ...        ...       ...    ...      ...\n",
      "206  2019-04-17  87.820000 -0.099998   13.0    169.0\n",
      "207  2019-04-18  87.919998 -0.010002    3.0      9.0\n",
      "208  2019-04-22  88.330002  0.580002   16.0    256.0\n",
      "209  2019-04-23  89.150002  0.660004    3.0      9.0\n",
      "210  2019-04-24  88.529999 -0.459999    1.0      1.0\n",
      "211  2019-04-25  89.150002 -0.449997    3.0      9.0\n",
      "212  2019-04-26  89.820000  0.510002   -1.0      1.0\n",
      "213  2019-04-30  88.580002 -0.269997   17.0    289.0\n",
      "214  2019-05-01  88.040001 -0.769997   24.0    576.0\n",
      "215  2019-05-03  88.790001  0.690002    6.0     36.0\n",
      "216  2019-05-06  88.839996  1.439995   -5.0     25.0\n",
      "217  2019-05-07  87.550003 -0.629997   52.0   2704.0\n",
      "218  2019-05-08  87.290001 -0.190002   40.0   1600.0\n",
      "219  2019-05-09  87.209999  0.540001   42.0   1764.0\n",
      "220  2019-05-10  87.309998  0.220001   32.0   1024.0\n",
      "221  2019-05-13  84.989998 -0.830002  -57.0   3249.0\n",
      "222  2019-05-14  85.180000 -0.150002  -17.0    289.0\n",
      "223  2019-05-15  86.860001  2.020004   10.0    100.0\n",
      "224  2019-05-16  87.589996  0.659996  -37.0   1369.0\n",
      "225  2019-05-17  87.230003  0.330002    0.0      0.0\n",
      "226  2019-05-20  86.419998 -0.300003    5.0     25.0\n",
      "227  2019-05-21  87.230003  0.290001   20.0    400.0\n",
      "228  2019-05-22  87.000000  0.070000   19.0    361.0\n",
      "229  2019-05-23  85.860001 -0.300003  -34.0   1156.0\n",
      "230  2019-05-24  85.949997 -0.320000  -12.0    144.0\n",
      "231  2019-05-28  85.959999 -0.200005   15.0    225.0\n",
      "232  2019-05-29  85.099998 -0.459999  -10.0    100.0\n",
      "233  2019-05-30  85.160004 -0.089996   -2.0      4.0\n",
      "234  2019-05-31  83.570000 -0.529999  -34.0   1156.0\n",
      "235  2019-06-04  83.089996  1.009995   -2.0      4.0\n",
      "\n",
      "[236 rows x 5 columns]\n"
     ]
    }
   ],
   "source": [
    "# list to csv\n",
    "import csv\n",
    "name = ['Date', 'Price', 'Change', 'Score', 'Square']\n",
    "raw = pd.DataFrame(columns=name, data = reg_ETF)\n",
    "print(raw)\n",
    "raw.to_csv('reg_s_VOX.csv')"
   ]
  }
 ],
 "metadata": {
  "kernelspec": {
   "display_name": "Python 3",
   "language": "python",
   "name": "python3"
  },
  "language_info": {
   "codemirror_mode": {
    "name": "ipython",
    "version": 3
   },
   "file_extension": ".py",
   "mimetype": "text/x-python",
   "name": "python",
   "nbconvert_exporter": "python",
   "pygments_lexer": "ipython3",
   "version": "3.7.1"
  }
 },
 "nbformat": 4,
 "nbformat_minor": 2
}
