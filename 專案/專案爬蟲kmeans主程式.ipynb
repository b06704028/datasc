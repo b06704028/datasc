{
 "cells": [
  {
   "cell_type": "code",
   "execution_count": null,
   "metadata": {},
   "outputs": [],
   "source": [
    "#提高流量好方法     不再執行\n",
    "#!jupyter notebook --NotebookApp.iopub_data_rate_limit=1000000000"
   ]
  },
  {
   "cell_type": "markdown",
   "metadata": {},
   "source": [
    "一、研究子主題:如何從現有的台灣經濟新聞標題中，分辨何時的事件會對市場造成負面影響?\n",
    "\n",
    "二、專案目標:由於脫歐相關新聞中同時包含對股市會造成正面影響及負面影響的資訊，只透過單一關鍵字(中美貿易戰)不一定能看出該新聞對市場判斷的影響，因此希望透過數據探勘及機器學習，找出經濟新聞標題常見關鍵字與中美貿易戰事件正負面的關係。 真正能代表脫歐相關新聞中，分別代表正負面事件的常見關鍵詞。\n",
    "\n",
    "三、研究方式: 透過PYTHON進行資料找尋、整理和分析，用xlwt將資料存成csv。再透過結疤、nltk情緒分析找出正負面關鍵詞，用sklearn進行K-means分群分析，並用matplotlib製作出視覺化圖表，以找出真正能代表中美貿易戰相關新聞中，分別代表正負面事件的常見關鍵詞。\n",
    "\n",
    "四、研究步驟:\n",
    "1. 設定想研究的資料目標、事件和資料範圍(時間、項目)\n",
    "2. 透過爬蟲經濟日報，找出有貿易戰標籤的新聞網址\n",
    "3. 再用網址逐一獲得3000多篇文章中的時間、標題及簡介\n",
    "4. 將一整串的標題轉換成單一的詞彙，並找出最常出現的詞彙\n",
    "5. 使用nltk情緒分析判定正面及負面詞彙\n",
    "6. 計算每天正負詞彙量的比例\n",
    "7. 決定分群數量\n",
    "8. 用k means分出群\n",
    "9. k means及nltk分類法的小結論"
   ]
  },
  {
   "cell_type": "markdown",
   "metadata": {},
   "source": [
    "1.設定想研究的資料目標、事件和資料範圍(時間、項目)\n",
    "為了判斷接下來一年內中貿易戰新聞對於股市投資人的影響，我們將時間軸往回推一年(2018/6~2019/5)，並以經濟日報作為台灣部分新聞的主要來源。希望能夠確認如經濟日報這類的權威性文章對台灣etf投資人會有怎麼樣的影響，首先以台灣元大50etf投資人的行為當成研究目標。"
   ]
  },
  {
   "cell_type": "markdown",
   "metadata": {},
   "source": [
    "2.透過爬蟲經濟日報，找出有貿易戰標籤的新聞網址\n",
    "我們發現經濟日報會將與中美貿易戰相關的新聞加上「貿易戰」的標籤，並可透過搜尋此標籤找到過去的相關新聞，並呈現在151個頁面中。\n",
    "由於這151個頁面中會多次重複同樣的新聞網址，導致抓取到的新聞網址數多達30萬個，甚至超過excel列數，因此存了六個檔案，但後來覺得應該只要一個檔案但持續換行就好。"
   ]
  },
  {
   "cell_type": "code",
   "execution_count": 1,
   "metadata": {},
   "outputs": [],
   "source": [
    "# #-------------------------------------收集經濟日報有貿易戰tag的文章網址---------勿再執行\n",
    "import sys\n",
    "import os\n",
    "import requests, json, csv, datetime\n",
    "import re\n",
    "from xlwt import *\n",
    "from xlrd import *\n",
    "import pickle\n",
    "import requests\n",
    "from datetime import datetime\n",
    "from bs4 import BeautifulSoup\n",
    "import time\n",
    "break_point = str()\n",
    "udn_a_list = []\n",
    "udn_a_href_list_all = []\n",
    "udn_a_href_list_news_addr = []\n",
    "url = 'https://money.udn.com/search/tagging/1001/貿易戰/3'\n",
    "row_1 = 0\n",
    "file1 = Workbook(encoding = 'utf-8')\n",
    "table1 = file1.add_sheet('文字內容')\n",
    "for count in range(1,70):\n",
    "    if row_1 > 65530:\n",
    "        break_point = g\n",
    "        break \n",
    "    udn_url_twse = 'https://money.udn.com/search/tagging/1001/貿易戰/'+str(count)\n",
    "    time.sleep(1)\n",
    "    udn_res = requests.get(udn_url_twse)\n",
    "    udn_res.encoding = \"UTF-8\"\n",
    "    udn_soup = BeautifulSoup(udn_res.text)\n",
    "    #print(udn_soup)\n",
    "    udn_a_list_o = udn_soup.find_all(\"a\")\n",
    "    #print(udn_a_list_o)\n",
    "    for l in udn_a_list_o:\n",
    "        cn1 = l.name\n",
    "        udn_a_list.append(cn1)\n",
    "        try:\n",
    "            cn2 = l['href']\n",
    "            udn_a_href_list_all.append(cn2)\n",
    "        except:\n",
    "            t=1\n",
    "    for g in udn_a_href_list_all:\n",
    "        if 'https://money.udn.com/money/story/' in g:\n",
    "            udn_a_href_list_news_addr.append(g)\n",
    "            table1.write(row_1,0,g)\n",
    "            row_1 += 1 \n",
    "            if row_1 > 65530:\n",
    "                break_point = g\n",
    "                print(g)\n",
    "                break \n",
    "            #print(row_1)         \n",
    "#print(udn_a_href_list_news_addr)\n",
    "file1.save('C:\\\\Users\\\\Will\\\\Desktop\\\\經濟日報貿易戰新聞網址.csv')"
   ]
  },
  {
   "cell_type": "code",
   "execution_count": 2,
   "metadata": {},
   "outputs": [],
   "source": [
    "#---------------已儲存勿再執行\n",
    "row_1 = 0\n",
    "file1 = Workbook(encoding = 'utf-8')\n",
    "table1 = file1.add_sheet('文字內容')\n",
    "for count in range(71,110):\n",
    "    if row_1 > 65530:\n",
    "        break_point = g\n",
    "        print(count)\n",
    "        break \n",
    "    udn_url_twse = 'https://money.udn.com/search/tagging/1001/貿易戰/'+str(count)\n",
    "    time.sleep(1)\n",
    "    udn_res = requests.get(udn_url_twse)\n",
    "    udn_res.encoding = \"UTF-8\"\n",
    "    udn_soup = BeautifulSoup(udn_res.text)\n",
    "    #print(udn_soup)\n",
    "    udn_a_list_o = udn_soup.find_all(\"a\")\n",
    "    #print(udn_a_list_o)\n",
    "    for l in udn_a_list_o:\n",
    "        cn1 = l.name\n",
    "        udn_a_list.append(cn1)\n",
    "        try:\n",
    "            cn2 = l['href']\n",
    "            udn_a_href_list_all.append(cn2)\n",
    "        except:\n",
    "            t=1\n",
    "    for g in udn_a_href_list_all:\n",
    "        if 'https://money.udn.com/money/story/' in g:\n",
    "            udn_a_href_list_news_addr.append(g)\n",
    "            table1.write(row_1,0,g)\n",
    "            row_1 += 1 \n",
    "            if row_1 > 65530:\n",
    "                break_point = g\n",
    "                print(g)\n",
    "                print(count)\n",
    "                break \n",
    "            #print(row_1)         \n",
    "#print(udn_a_href_list_news_addr)\n",
    "file1.save('C:\\\\Users\\\\Will\\\\Desktop\\\\經濟日報貿易戰新聞網址2.csv')"
   ]
  },
  {
   "cell_type": "code",
   "execution_count": 3,
   "metadata": {},
   "outputs": [],
   "source": [
    "#---------------已儲存勿再執行\n",
    "row_1 = 0\n",
    "file1 = Workbook(encoding = 'utf-8')\n",
    "table1 = file1.add_sheet('文字內容')\n",
    "for count in range(96,120):\n",
    "    if row_1 > 65530:\n",
    "        break_point = g\n",
    "        print(count)\n",
    "        break \n",
    "    udn_url_twse = 'https://money.udn.com/search/tagging/1001/貿易戰/'+str(count)\n",
    "    time.sleep(1)\n",
    "    udn_res = requests.get(udn_url_twse)\n",
    "    udn_res.encoding = \"UTF-8\"\n",
    "    udn_soup = BeautifulSoup(udn_res.text)\n",
    "    #print(udn_soup)\n",
    "    udn_a_list_o = udn_soup.find_all(\"a\")\n",
    "    #print(udn_a_list_o)\n",
    "    for l in udn_a_list_o:\n",
    "        cn1 = l.name\n",
    "        udn_a_list.append(cn1)\n",
    "        try:\n",
    "            cn2 = l['href']\n",
    "            udn_a_href_list_all.append(cn2)\n",
    "        except:\n",
    "            t=1\n",
    "    for g in udn_a_href_list_all:\n",
    "        if 'https://money.udn.com/money/story/' in g:\n",
    "            udn_a_href_list_news_addr.append(g)\n",
    "            table1.write(row_1,0,g)\n",
    "            row_1 += 1 \n",
    "            if row_1 > 65530:\n",
    "                break_point = g\n",
    "                print(g)\n",
    "                print(count)\n",
    "                break \n",
    "            #print(row_1)         \n",
    "#print(udn_a_href_list_news_addr)\n",
    "file1.save('C:\\\\Users\\\\Will\\\\Desktop\\\\經濟日報貿易戰新聞網址3.csv')"
   ]
  },
  {
   "cell_type": "code",
   "execution_count": 4,
   "metadata": {},
   "outputs": [],
   "source": [
    "#---------------已儲存勿再執行\n",
    "row_1 = 0\n",
    "file1 = Workbook(encoding = 'utf-8')\n",
    "table1 = file1.add_sheet('文字內容')\n",
    "for count in range(114,140):\n",
    "    if row_1 > 65530:\n",
    "        break_point = g\n",
    "        print(count)\n",
    "        break \n",
    "    udn_url_twse = 'https://money.udn.com/search/tagging/1001/貿易戰/'+str(count)\n",
    "    time.sleep(1)\n",
    "    udn_res = requests.get(udn_url_twse)\n",
    "    udn_res.encoding = \"UTF-8\"\n",
    "    udn_soup = BeautifulSoup(udn_res.text)\n",
    "    #print(udn_soup)\n",
    "    udn_a_list_o = udn_soup.find_all(\"a\")\n",
    "    #print(udn_a_list_o)\n",
    "    for l in udn_a_list_o:\n",
    "        cn1 = l.name\n",
    "        udn_a_list.append(cn1)\n",
    "        try:\n",
    "            cn2 = l['href']\n",
    "            udn_a_href_list_all.append(cn2)\n",
    "        except:\n",
    "            t=1\n",
    "    for g in udn_a_href_list_all:\n",
    "        if 'https://money.udn.com/money/story/' in g:\n",
    "            udn_a_href_list_news_addr.append(g)\n",
    "            table1.write(row_1,0,g)\n",
    "            row_1 += 1 \n",
    "            if row_1 > 65530:\n",
    "                break_point = g\n",
    "                print(g)\n",
    "                print(count)\n",
    "                break \n",
    "            #print(row_1)         \n",
    "#print(udn_a_href_list_news_addr)\n",
    "file1.save('C:\\\\Users\\\\Will\\\\Desktop\\\\經濟日報貿易戰新聞網址4.csv')"
   ]
  },
  {
   "cell_type": "code",
   "execution_count": 5,
   "metadata": {},
   "outputs": [],
   "source": [
    "#---------------已儲存勿再執行\n",
    "row_1 = 0\n",
    "file1 = Workbook(encoding = 'utf-8')\n",
    "table1 = file1.add_sheet('文字內容')\n",
    "for count in range(130,150):\n",
    "    if row_1 > 65530:\n",
    "        break_point = g\n",
    "        print(count)\n",
    "        break \n",
    "    udn_url_twse = 'https://money.udn.com/search/tagging/1001/貿易戰/'+str(count)\n",
    "    time.sleep(1)\n",
    "    udn_res = requests.get(udn_url_twse)\n",
    "    udn_res.encoding = \"UTF-8\"\n",
    "    udn_soup = BeautifulSoup(udn_res.text)\n",
    "    #print(udn_soup)\n",
    "    udn_a_list_o = udn_soup.find_all(\"a\")\n",
    "    #print(udn_a_list_o)\n",
    "    for l in udn_a_list_o:\n",
    "        cn1 = l.name\n",
    "        udn_a_list.append(cn1)\n",
    "        try:\n",
    "            cn2 = l['href']\n",
    "            udn_a_href_list_all.append(cn2)\n",
    "        except:\n",
    "            t=1\n",
    "    for g in udn_a_href_list_all:\n",
    "        if 'https://money.udn.com/money/story/' in g:\n",
    "            udn_a_href_list_news_addr.append(g)\n",
    "            table1.write(row_1,0,g)\n",
    "            row_1 += 1 \n",
    "            if row_1 > 65530:\n",
    "                break_point = g\n",
    "                print(g)\n",
    "                print(count)\n",
    "                break \n",
    "            #print(row_1)         \n",
    "#print(udn_a_href_list_news_addr)\n",
    "file1.save('C:\\\\Users\\\\Will\\\\Desktop\\\\經濟日報貿易戰新聞網址5.csv')"
   ]
  },
  {
   "cell_type": "code",
   "execution_count": 6,
   "metadata": {},
   "outputs": [],
   "source": [
    "#---------------已儲存勿再執行\n",
    "row_1 = 0\n",
    "file1 = Workbook(encoding = 'utf-8')\n",
    "table1 = file1.add_sheet('文字內容')\n",
    "for count in range(145,155):\n",
    "    if row_1 > 65530:\n",
    "        break_point = g\n",
    "        print(count)\n",
    "        break \n",
    "    udn_url_twse = 'https://money.udn.com/search/tagging/1001/貿易戰/'+str(count)\n",
    "    time.sleep(1)\n",
    "    udn_res = requests.get(udn_url_twse)\n",
    "    udn_res.encoding = \"UTF-8\"\n",
    "    udn_soup = BeautifulSoup(udn_res.text)\n",
    "    #print(udn_soup)\n",
    "    udn_a_list_o = udn_soup.find_all(\"a\")\n",
    "    #print(udn_a_list_o)\n",
    "    for l in udn_a_list_o:\n",
    "        cn1 = l.name\n",
    "        udn_a_list.append(cn1)\n",
    "        try:\n",
    "            cn2 = l['href']\n",
    "            udn_a_href_list_all.append(cn2)\n",
    "        except:\n",
    "            t=1\n",
    "    for g in udn_a_href_list_all:\n",
    "        if 'https://money.udn.com/money/story/' in g:\n",
    "            udn_a_href_list_news_addr.append(g)\n",
    "            table1.write(row_1,0,g)\n",
    "            row_1 += 1 \n",
    "            if row_1 > 65530:\n",
    "                break_point = g\n",
    "                print(g)\n",
    "                print(count)\n",
    "                break \n",
    "            #print(row_1)         \n",
    "#print(udn_a_href_list_news_addr)\n",
    "file1.save('C:\\\\Users\\\\Will\\\\Desktop\\\\經濟日報貿易戰新聞網址6.csv')"
   ]
  },
  {
   "cell_type": "markdown",
   "metadata": {},
   "source": [
    "2.透過爬蟲經濟日報，找出有貿易戰標籤的新聞網址\n",
    "在其他地方整理好重複的網址資訊，發現過去一年內共有3083則與貿易戰相關的新聞，並存成csv檔案。"
   ]
  },
  {
   "cell_type": "code",
   "execution_count": 2,
   "metadata": {},
   "outputs": [
    {
     "name": "stdout",
     "output_type": "stream",
     "text": [
      "https://money.udn.com/money/story/5641/3238233\n"
     ]
    }
   ],
   "source": [
    "import xlrd\n",
    "udn_a_href_list_news_addr_short =  []\n",
    "file_r = 'C:\\\\Users\\\\Will\\\\Desktop\\\\經濟日報貿易戰新聞網址新.csv'\n",
    "book_r = xlrd.open_workbook(file_r,encoding_override=\"utf-8\")\n",
    "sheet_1 = book_r.sheet_by_index(0)\n",
    "for y in range(3083):\n",
    "    udn_a_href_list_news_addr_short.append(sheet_1.cell_value(rowx=y,colx=0))   \n",
    "print(udn_a_href_list_news_addr_short[-3])"
   ]
  },
  {
   "cell_type": "code",
   "execution_count": null,
   "metadata": {},
   "outputs": [],
   "source": [
    "3.再用網址逐一獲得3000多篇文章中的時間、標題及簡介\n",
    "讀入網址檔案，並逐一獲得需要的內容，存成csv檔案。(過程中被擋了超級多次，後來發現使用管院網路就不會被擋)"
   ]
  },
  {
   "cell_type": "code",
   "execution_count": 1,
   "metadata": {},
   "outputs": [],
   "source": [
    "#--------------------抓取經濟日報日期標題簡介，並存成csv、pickle-----勿再執行\n",
    "import sys\n",
    "import os\n",
    "import requests, json, csv, datetime\n",
    "import re\n",
    "from xlrd import *\n",
    "import pickle\n",
    "import requests\n",
    "from datetime import datetime\n",
    "from bs4 import BeautifulSoup\n",
    "import time\n",
    "from xlwt import *\n",
    "udn_a_href_list_news_addr_short_new=[]\n",
    "file_r = \"C:\\\\Users\\\\Will\\\\Desktop\\\\經濟日報貿易戰新聞網址新.csv\"\n",
    "book_r = xlrd.open_workbook(file_r,encoding_override=\"utf-8\")\n",
    "sheet_1 = book_r.sheet_by_index(0)\n",
    "for t in range(3083):\n",
    "    udn_a_href_list_news_addr_short_new.append(sheet_1.cell_value(rowx=t,colx=0))\n",
    "row = 0\n",
    "file = Workbook(encoding = 'utf-8')\n",
    "#指定file以utf-8的格式打开\n",
    "table = file.add_sheet('文字內容')\n",
    "udn_adr_a_list_o_title = []\n",
    "udn_adr_a_list_o_description = []\n",
    "udn_adr_a_list_o_date = []    \n",
    "print(\"check p 1\")\n",
    "print(len(udn_a_href_list_news_addr_short_new))\n",
    "print(udn_a_href_list_news_addr_short_new)\n",
    "try:\n",
    "    for adr in udn_a_href_list_news_addr_short_new:\n",
    "        #time.sleep(1)\n",
    "        udn_adr_res = requests.get(adr,verify = False)\n",
    "        udn_adr_res.encoding = \"UTF-8\"\n",
    "        udn_adr_soup = BeautifulSoup(udn_adr_res.text)\n",
    "        #print(udn_adr_soup)\n",
    "        udn_adr_a_find_title = udn_adr_soup.find_all(\"meta\",property=\"og:title\")\n",
    "        udn_adr_a_list_o_title.append(udn_adr_a_find_title[0]['content'])\n",
    "        udn_adr_a_find_description = udn_adr_soup.find_all(\"meta\",attrs={'name':\"description\"})\n",
    "        udn_adr_a_list_o_description.append(udn_adr_a_find_description[0]['content'])\n",
    "        udn_adr_a_find_date = udn_adr_soup.find_all(\"meta\",attrs={'name':\"date\"})\n",
    "        table.write(row,0,udn_adr_a_find_date[0]['content'])\n",
    "        table.write(row,1,udn_adr_a_find_title[0]['content'])\n",
    "        table.write(row,2,udn_adr_a_find_description[0]['content'])\n",
    "        row +=1\n",
    "        #print(row)\n",
    "    print(udn_adr_a_list_o_title[-3])\n",
    "    print(udn_adr_a_list_o_description[-3])\n",
    "    print(udn_adr_a_list_o_date[-3])\n",
    "    file.save('C:\\\\Users\\\\Will\\\\Desktop\\\\經濟日報文字內容2.csv')\n",
    "except BaseException:\n",
    "    file.save('C:\\\\Users\\\\Will\\\\Desktop\\\\經濟日報文字內容2.csv')\n",
    "    print(udn_adr_a_list_o_title)\n",
    "    print(udn_adr_a_list_o_description)\n",
    "    print(udn_adr_a_list_o_date)"
   ]
  },
  {
   "cell_type": "markdown",
   "metadata": {},
   "source": [
    "3.再用網址逐一獲得3000多篇文章中的時間、標題及簡介\n",
    "再從csv中拿取資料，轉換成list"
   ]
  },
  {
   "cell_type": "code",
   "execution_count": 4,
   "metadata": {},
   "outputs": [],
   "source": [
    "#-----------------取得經濟日報文字內容\n",
    "from xlrd import *\n",
    "from xlwt import *\n",
    "import pickle\n",
    "all_udn_news_data_dict = {'date':[],'title':[],'summary':[]}\n",
    "file_r = \"C:\\\\Users\\\\Will\\\\Desktop\\\\經濟日報文字內容2.csv\"\n",
    "book_r = xlrd.open_workbook(file_r,encoding_override=\"utf-8\")\n",
    "sheet_1 = book_r.sheet_by_index(0)\n",
    "for t in range(3083):\n",
    "    all_udn_news_data_dict['date'].append(sheet_1.cell_value(rowx=t,colx=0))\n",
    "for t in range(3083):\n",
    "    all_udn_news_data_dict['title'].append(sheet_1.cell_value(rowx=t,colx=1))\n",
    "for t in range(3083):\n",
    "    all_udn_news_data_dict['summary'].append(sheet_1.cell_value(rowx=t,colx=2))\n",
    "# file = open('經濟日報內容.pickle', 'wb')\n",
    "# pickle.dump(all_udn_news_data_dict, file)\n",
    "# file.close()"
   ]
  },
  {
   "cell_type": "code",
   "execution_count": 5,
   "metadata": {},
   "outputs": [],
   "source": [
    "# print(udn_adr_a_list_o_title)\n",
    "# print(len(udn_adr_a_list_o_title))\n",
    "# print(udn_adr_a_list_o_date)\n",
    "udn_adr_a_list_o_date = all_udn_news_data_dict['date']\n",
    "udn_adr_a_list_o_title = all_udn_news_data_dict['title']\n",
    "udn_adr_a_list_o_description = all_udn_news_data_dict['summary']"
   ]
  },
  {
   "cell_type": "code",
   "execution_count": null,
   "metadata": {},
   "outputs": [],
   "source": [
    "3.再用網址逐一獲得3000多篇文章中的時間、標題及簡介\n",
    "整理成可用資料\n",
    "整理成以時間為key的dict"
   ]
  },
  {
   "cell_type": "code",
   "execution_count": 2,
   "metadata": {},
   "outputs": [],
   "source": [
    "import datetime\n",
    "today = datetime.date.today()\n",
    "date_list = []\n",
    "data_size_date = 340\n",
    "for i in range(1,data_size_date):\n",
    "    date = today - datetime.timedelta(days=i)\n",
    "    date = date.strftime(\"%Y-%m-%d %H:%M:%S\")\n",
    "    str_date = date[0]+date[1]+date[2]+date[3]+\"/\"+date[5]+date[6]+\"/\"+date[8]+date[9]\n",
    "    date_list.append(str_date)\n",
    "print(date_list)"
   ]
  },
  {
   "cell_type": "code",
   "execution_count": 3,
   "metadata": {},
   "outputs": [],
   "source": [
    "#------------整理成以時間為key的dict\n",
    "udn_title_date_dict = {}\n",
    "udn_description_date_dict = {}\n",
    "udn_adr_a_list_o_date_n = []\n",
    "for t in date_list:\n",
    "    udn_title_date_dict[t] = []\n",
    "    udn_description_date_dict[t] = [] \n",
    "for y in range(len(udn_adr_a_list_o_date)):\n",
    "    yy = udn_adr_a_list_o_date[y]\n",
    "    y1 = str()\n",
    "    #print(str(y))\n",
    "    for r in range(10):\n",
    "        y1 += yy[r]\n",
    "    udn_adr_a_list_o_date_n.append(y1)\n",
    "for t in date_list:\n",
    "    for u in range(len(udn_adr_a_list_o_date)):\n",
    "        if t == udn_adr_a_list_o_date_n[u]:\n",
    "            udn_title_date_dict[t].append(udn_adr_a_list_o_title[u])\n",
    "            udn_description_date_dict[t].append(udn_adr_a_list_o_description[u])\n",
    "# print(udn_adr_a_list_o_date_n)\n",
    "# print(udn_adr_a_list_o_date)\n",
    "# print(udn_description_date_dict)"
   ]
  },
  {
   "cell_type": "code",
   "execution_count": null,
   "metadata": {},
   "outputs": [],
   "source": [
    "4.將一整串的標題轉換成單一的詞彙，並找出最常出現的詞彙\n",
    "先將所有文字整合成單一文字檔或字串，用結疤找出最重要的關鍵字"
   ]
  },
  {
   "cell_type": "code",
   "execution_count": 4,
   "metadata": {},
   "outputs": [],
   "source": [
    "import jieba\n",
    "from jieba.analyse import extract_tags as et\n",
    "import codecs\n",
    "from time import time\n",
    "from operator import itemgetter\n",
    "from tqdm import tnrange, tqdm_notebook\n",
    "import tqdm\n",
    "print(len(udn_adr_a_list_o_title))\n",
    "total_title_str = str()\n",
    "total_description_str = str()\n",
    "key_word_title_list =[]\n",
    "key_word_description_list =[]\n",
    "key_word_title_list_2 =[]\n",
    "key_word_description_list_2 =[]\n",
    "for t in range(len(udn_adr_a_list_o_title)):\n",
    "    total_title_str += str(udn_adr_a_list_o_title[t])\n",
    "    total_description_str += str(udn_adr_a_list_o_description[t])\n",
    "for i in tnrange(100, desc='1st loop'):\n",
    "    for t in range(20):\n",
    "        total_title_str += str(udn_adr_a_list_o_title[t*130])\n",
    "        total_description_str += str(udn_adr_a_list_o_description[t*130])\n",
    "print(\"check p 1\")"
   ]
  },
  {
   "cell_type": "markdown",
   "metadata": {},
   "source": [
    "4.將一整串的標題轉換成單一的詞彙，並找出最常出現的詞彙\n",
    "找出標題最重要的關鍵字，並列成清單"
   ]
  },
  {
   "cell_type": "code",
   "execution_count": 29,
   "metadata": {},
   "outputs": [
    {
     "name": "stdout",
     "output_type": "stream",
     "text": [
      "check p 4\n",
      "['經濟', '產業', '日報', '市場', '熱點', '證券', '國際', '焦點', '金融', '觀點', '外匯', '中國', '美國', '關稅', '報告', '脈動', '報台', '期貨', '台股', '指數', '中美', '大陸', '財經', '報川', '天地', '話題', '專家', '熱門', '壓力', '稅務法', '電子', '匯率', '蘋果', '匯市', '變數', '戰衝', '區間', '訂單', '亞洲', '楊金龍', '國家', '機會', '台灣', '加碼', '手機', '戰延', '鄭崇華', '均線', '大事', '時刻']\n"
     ]
    }
   ],
   "source": [
    "from jieba.analyse import extract_tags as et\n",
    "key_word_title_list = []\n",
    "tag_title=list(et(total_title_str,topK=50, allowPOS=['n','ns','nr','na'],withWeight=True))\n",
    "print(\"check p 4\")\n",
    "for t in tag_title:\n",
    "    key_word_title_list.append(t[0])\n",
    "print(key_word_title_list)\n",
    "#print(key_word_description_list_2)"
   ]
  },
  {
   "cell_type": "markdown",
   "metadata": {},
   "source": [
    "4.將一整串的標題轉換成單一的詞彙，並找出最常出現的詞彙\n",
    "使用nltk分類 輪流以不同關鍵詞為主 找相似詞。目前的文字都算中性，情緒分析不一定有用，結果發現nltk情緒分析只適合英文，中文會全被視為中性"
   ]
  },
  {
   "cell_type": "code",
   "execution_count": 30,
   "metadata": {},
   "outputs": [
    {
     "name": "stdout",
     "output_type": "stream",
     "text": [
      "['economic', 'industry', 'daily', 'market', 'hot spot', 'Securities', 'International', 'focus', 'financial', 'View', 'Foreign exchange', 'China', 'United States', 'tariff', 'report', 'pulsation', 'Bulletin board', 'futures', 'Taiwan stock', 'index', 'Central America', 'mainland', 'Finance', 'Aikawa', 'world', 'topic', 'expert', 'Popular', 'pressure', 'Tax law', 'electronic', 'exchange rate', 'apple', 'Foreign exchange market', 'variable', 'War', 'Interval', 'Order', 'Asia', 'Yang Jinlong', 'country', 'opportunity', 'Taiwan', 'Plus', 'Mobile phone', 'War', 'Zheng Chonghua', 'Moving average', 'Important', 'time'] {'economic': '經濟', 'industry': '產業', 'daily': '日報', 'market': '市場', 'hot spot': '熱點', 'Securities': '證券', 'International': '國際', 'focus': '焦點', 'financial': '金融', 'View': '觀點', 'Foreign exchange': '外匯', 'China': '中國', 'United States': '美國', 'tariff': '關稅', 'report': '報告', 'pulsation': '脈動', 'Bulletin board': '報台', 'futures': '期貨', 'Taiwan stock': '台股', 'index': '指數', 'Central America': '中美', 'mainland': '大陸', 'Finance': '財經', 'Aikawa': '報川', 'world': '天地', 'topic': '話題', 'expert': '專家', 'Popular': '熱門', 'pressure': '壓力', 'Tax law': '稅務法', 'electronic': '電子', 'exchange rate': '匯率', 'apple': '蘋果', 'Foreign exchange market': '匯市', 'variable': '變數', 'War': '戰延', 'Interval': '區間', 'Order': '訂單', 'Asia': '亞洲', 'Yang Jinlong': '楊金龍', 'country': '國家', 'opportunity': '機會', 'Taiwan': '台灣', 'Plus': '加碼', 'Mobile phone': '手機', 'Zheng Chonghua': '鄭崇華', 'Moving average': '均線', 'Important': '大事', 'time': '時刻'}\n"
     ]
    }
   ],
   "source": [
    "#---------------title 翻譯\n",
    "import jieba.analyse\n",
    "from nltk.corpus import sinica_treebank\n",
    "import nltk\n",
    "from googletrans import Translator\n",
    "translator = Translator()\n",
    "trans_to_en_list_title = [] # 翻譯後的英文list\n",
    "trans_to_en_dict_title = {} # 英中對照dict\n",
    "for des in key_word_title_list:\n",
    "    trans_to_en_title = translator.translate(str(des)).text #翻譯\n",
    "    trans_to_en_list_title.append(trans_to_en_title)\n",
    "    trans_to_en_dict_title[str(trans_to_en_title)] = des\n",
    "print(trans_to_en_list_title,trans_to_en_dict_title)"
   ]
  },
  {
   "cell_type": "markdown",
   "metadata": {},
   "source": [
    "5.使用nltk情緒分析判定正面及負面詞彙\n",
    "評分，並將正面、負面、中性詞分別存成list"
   ]
  },
  {
   "cell_type": "code",
   "execution_count": 31,
   "metadata": {},
   "outputs": [
    {
     "name": "stdout",
     "output_type": "stream",
     "text": [
      "{'economic': {'neg': 0.0, 'neu': 1.0, 'pos': 0.0, 'compound': 0.0}, 'industry': {'neg': 0.0, 'neu': 1.0, 'pos': 0.0, 'compound': 0.0}, 'daily': {'neg': 0.0, 'neu': 1.0, 'pos': 0.0, 'compound': 0.0}, 'market': {'neg': 0.0, 'neu': 1.0, 'pos': 0.0, 'compound': 0.0}, 'hot spot': {'neg': 0.0, 'neu': 1.0, 'pos': 0.0, 'compound': 0.0}, 'Securities': {'neg': 0.0, 'neu': 0.0, 'pos': 1.0, 'compound': 0.296}, 'International': {'neg': 0.0, 'neu': 1.0, 'pos': 0.0, 'compound': 0.0}, 'focus': {'neg': 0.0, 'neu': 1.0, 'pos': 0.0, 'compound': 0.0}, 'financial': {'neg': 0.0, 'neu': 1.0, 'pos': 0.0, 'compound': 0.0}, 'View': {'neg': 0.0, 'neu': 1.0, 'pos': 0.0, 'compound': 0.0}, 'Foreign exchange': {'neg': 0.0, 'neu': 1.0, 'pos': 0.0, 'compound': 0.0}, 'China': {'neg': 0.0, 'neu': 1.0, 'pos': 0.0, 'compound': 0.0}, 'United States': {'neg': 0.0, 'neu': 0.263, 'pos': 0.737, 'compound': 0.4215}, 'tariff': {'neg': 0.0, 'neu': 1.0, 'pos': 0.0, 'compound': 0.0}, 'report': {'neg': 0.0, 'neu': 1.0, 'pos': 0.0, 'compound': 0.0}, 'pulsation': {'neg': 0.0, 'neu': 1.0, 'pos': 0.0, 'compound': 0.0}, 'Bulletin board': {'neg': 0.0, 'neu': 1.0, 'pos': 0.0, 'compound': 0.0}, 'futures': {'neg': 0.0, 'neu': 1.0, 'pos': 0.0, 'compound': 0.0}, 'Taiwan stock': {'neg': 0.0, 'neu': 1.0, 'pos': 0.0, 'compound': 0.0}, 'index': {'neg': 0.0, 'neu': 1.0, 'pos': 0.0, 'compound': 0.0}, 'Central America': {'neg': 0.0, 'neu': 1.0, 'pos': 0.0, 'compound': 0.0}, 'mainland': {'neg': 0.0, 'neu': 1.0, 'pos': 0.0, 'compound': 0.0}, 'Finance': {'neg': 0.0, 'neu': 1.0, 'pos': 0.0, 'compound': 0.0}, 'Aikawa': {'neg': 0.0, 'neu': 1.0, 'pos': 0.0, 'compound': 0.0}, 'world': {'neg': 0.0, 'neu': 1.0, 'pos': 0.0, 'compound': 0.0}, 'topic': {'neg': 0.0, 'neu': 1.0, 'pos': 0.0, 'compound': 0.0}, 'expert': {'neg': 0.0, 'neu': 1.0, 'pos': 0.0, 'compound': 0.0}, 'Popular': {'neg': 0.0, 'neu': 0.0, 'pos': 1.0, 'compound': 0.4215}, 'pressure': {'neg': 1.0, 'neu': 0.0, 'pos': 0.0, 'compound': -0.296}, 'Tax law': {'neg': 0.0, 'neu': 1.0, 'pos': 0.0, 'compound': 0.0}, 'electronic': {'neg': 0.0, 'neu': 1.0, 'pos': 0.0, 'compound': 0.0}, 'exchange rate': {'neg': 0.0, 'neu': 1.0, 'pos': 0.0, 'compound': 0.0}, 'apple': {'neg': 0.0, 'neu': 1.0, 'pos': 0.0, 'compound': 0.0}, 'Foreign exchange market': {'neg': 0.0, 'neu': 1.0, 'pos': 0.0, 'compound': 0.0}, 'variable': {'neg': 0.0, 'neu': 1.0, 'pos': 0.0, 'compound': 0.0}, 'War': {'neg': 1.0, 'neu': 0.0, 'pos': 0.0, 'compound': -0.5994}, 'Interval': {'neg': 0.0, 'neu': 1.0, 'pos': 0.0, 'compound': 0.0}, 'Order': {'neg': 0.0, 'neu': 1.0, 'pos': 0.0, 'compound': 0.0}, 'Asia': {'neg': 0.0, 'neu': 1.0, 'pos': 0.0, 'compound': 0.0}, 'Yang Jinlong': {'neg': 0.0, 'neu': 1.0, 'pos': 0.0, 'compound': 0.0}, 'country': {'neg': 0.0, 'neu': 1.0, 'pos': 0.0, 'compound': 0.0}, 'opportunity': {'neg': 0.0, 'neu': 0.0, 'pos': 1.0, 'compound': 0.4215}, 'Taiwan': {'neg': 0.0, 'neu': 1.0, 'pos': 0.0, 'compound': 0.0}, 'Plus': {'neg': 0.0, 'neu': 1.0, 'pos': 0.0, 'compound': 0.0}, 'Mobile phone': {'neg': 0.0, 'neu': 1.0, 'pos': 0.0, 'compound': 0.0}, 'Zheng Chonghua': {'neg': 0.0, 'neu': 1.0, 'pos': 0.0, 'compound': 0.0}, 'Moving average': {'neg': 0.0, 'neu': 1.0, 'pos': 0.0, 'compound': 0.0}, 'Important': {'neg': 0.0, 'neu': 0.0, 'pos': 1.0, 'compound': 0.2023}, 'time': {'neg': 0.0, 'neu': 1.0, 'pos': 0.0, 'compound': 0.0}}\n",
      "['壓力', '戰延', '戰延']\n",
      "['經濟', '產業', '日報', '市場', '熱點', '國際', '焦點', '金融', '觀點', '外匯', '中國', '關稅', '報告', '脈動', '報台', '期貨', '台股', '指數', '中美', '大陸', '財經', '報川', '天地', '話題', '專家', '稅務法', '電子', '匯率', '蘋果', '匯市', '變數', '區間', '訂單', '亞洲', '楊金龍', '國家', '台灣', '加碼', '手機', '鄭崇華', '均線', '時刻']\n",
      "['證券', '美國', '熱門', '機會', '大事']\n"
     ]
    }
   ],
   "source": [
    "#-----------title 評分\n",
    "key_word_title_score_dict_en ={}\n",
    "from nltk.sentiment.vader import SentimentIntensityAnalyzer\n",
    "import sys\n",
    "sia = SentimentIntensityAnalyzer()\n",
    "for key_word_en in trans_to_en_list_title:\n",
    "    key_word_title_score = sia.polarity_scores(key_word_en)\n",
    "    key_word_title_score_dict_en[str(key_word_en)] = key_word_title_score\n",
    "print(key_word_title_score_dict_en)\n",
    "influential_key_word_neg_list_en_title = []\n",
    "influential_key_word_neu_list_en_title = []\n",
    "influential_key_word_pos_list_en_title = []\n",
    "influential_key_word_neg_list_tw_title = []\n",
    "influential_key_word_neu_list_tw_title = []\n",
    "influential_key_word_pos_list_tw_title = []\n",
    "# print(key_word_description_score_dict_en[str(Taiwan)]['compound'])\n",
    "for word in trans_to_en_list_title:\n",
    "    if key_word_title_score_dict_en[word]['compound'] < 0:\n",
    "        influential_key_word_neg_list_en_title.append(word)\n",
    "        influential_key_word_neg_list_tw_title.append(trans_to_en_dict_title[word])\n",
    "    if key_word_title_score_dict_en[word]['compound'] == 0:\n",
    "        influential_key_word_neu_list_en_title.append(word)\n",
    "        influential_key_word_neu_list_tw_title.append(trans_to_en_dict_title[word])\n",
    "    if key_word_title_score_dict_en[word]['compound'] > 0:\n",
    "        influential_key_word_pos_list_en_title.append(word)\n",
    "        influential_key_word_pos_list_tw_title.append(trans_to_en_dict_title[word])\n",
    "print(influential_key_word_neg_list_tw_title)\n",
    "print(influential_key_word_neu_list_tw_title)\n",
    "print(influential_key_word_pos_list_tw_title)"
   ]
  },
  {
   "cell_type": "markdown",
   "metadata": {},
   "source": [
    "6.計算每天正負詞彙量的比例"
   ]
  },
  {
   "cell_type": "code",
   "execution_count": 32,
   "metadata": {},
   "outputs": [
    {
     "name": "stdout",
     "output_type": "stream",
     "text": [
      "[[0, 0], [0.8888888888888888, 0.1111111111111111], [1.0, 0.0], [1.0, 0.0], [1.0, 0.0], [1.0, 0.0], [1.0, 0.0], [1.0, 0.0], [1.0, 0.0], [1.0, 0.0], [1.0, 0.0], [0.8333333333333334, 0.16666666666666666], [1.0, 0.0], [0.8571428571428571, 0.14285714285714285], [1.0, 0.0], [1.0, 0.0], [1.0, 0.0], [1.0, 0.0], [0.6666666666666666, 0.3333333333333333], [1.0, 0.0], [1.0, 0.0], [1.0, 0.0], [1.0, 0.0], [1.0, 0.0], [0, 0], [0, 0], [1.0, 0.0], [0, 0], [1.0, 0.0], [1.0, 0.0], [0, 0], [0, 0], [1.0, 0.0], [0, 0], [0, 0], [1.0, 0.0], [0, 0], [1.0, 0.0], [1.0, 0.0], [0, 0], [1.0, 0.0], [1.0, 0.0], [0, 0], [1.0, 0.0], [1.0, 0.0], [0, 0], [1.0, 0.0], [1.0, 0.0], [1.0, 0.0], [0, 0], [1.0, 0.0], [1.0, 0.0], [1.0, 0.0], [1.0, 0.0], [0, 0], [0, 0], [1.0, 0.0], [1.0, 0.0], [0, 0], [1.0, 0.0], [0, 0], [1.0, 0.0], [1.0, 0.0], [1.0, 0.0], [1.0, 0.0], [1.0, 0.0], [0, 0], [0, 0], [0, 0], [0.5, 0.5], [1.0, 0.0], [1.0, 0.0], [1.0, 0.0], [1.0, 0.0], [0, 0], [1.0, 0.0], [0, 0], [1.0, 0.0], [1.0, 0.0], [1.0, 0.0], [1.0, 0.0], [1.0, 0.0], [1.0, 0.0], [1.0, 0.0], [1.0, 0.0], [0, 0], [1.0, 0.0], [0, 0], [1.0, 0.0], [0, 0], [1.0, 0.0], [1.0, 0.0], [1.0, 0.0], [1.0, 0.0], [1.0, 0.0], [1.0, 0.0], [1.0, 0.0], [1.0, 0.0], [1.0, 0.0], [1.0, 0.0], [1.0, 0.0], [0, 0], [1.0, 0.0], [1.0, 0.0], [1.0, 0.0], [1.0, 0.0], [1.0, 0.0], [1.0, 0.0], [1.0, 0.0], [0, 0], [1.0, 0.0], [0, 0], [0, 0], [0, 0], [0, 0], [0, 0], [0, 0], [1.0, 0.0], [1.0, 0.0], [1.0, 0.0], [1.0, 0.0], [0, 0], [1.0, 0.0], [0, 0], [1.0, 0.0], [1.0, 0.0], [1.0, 0.0], [1.0, 0.0], [1.0, 0.0], [0, 0], [0, 0], [1.0, 0.0], [0, 0], [1.0, 0.0], [1.0, 0.0], [0, 0], [0, 0], [1.0, 0.0], [1.0, 0.0], [1.0, 0.0], [1.0, 0.0], [1.0, 0.0], [1.0, 0.0], [1.0, 0.0], [1.0, 0.0], [0, 0], [1.0, 0.0], [1.0, 0.0], [0, 0], [0, 0], [1.0, 0.0], [1.0, 0.0], [1.0, 0.0], [1.0, 0.0], [1.0, 0.0], [1.0, 0.0], [1.0, 0.0], [1.0, 0.0], [0, 0], [0, 0], [0.0, 1.0], [0.0, 1.0], [1.0, 0.0], [0.8571428571428571, 0.14285714285714285], [1.0, 0.0], [0.5, 0.5], [1.0, 0.0], [1.0, 0.0], [1.0, 0.0], [1.0, 0.0], [1.0, 0.0], [0, 0], [1.0, 0.0], [1.0, 0.0], [1.0, 0.0], [1.0, 0.0], [1.0, 0.0], [1.0, 0.0], [1.0, 0.0], [1.0, 0.0], [1.0, 0.0], [1.0, 0.0], [0.8, 0.2], [1.0, 0.0], [1.0, 0.0], [1.0, 0.0], [1.0, 0.0], [1.0, 0.0], [1.0, 0.0], [1.0, 0.0], [0.3333333333333333, 0.6666666666666666], [1.0, 0.0], [1.0, 0.0], [0, 0], [1.0, 0.0], [1.0, 0.0], [1.0, 0.0], [1.0, 0.0], [1.0, 0.0], [1.0, 0.0], [1.0, 0.0], [1.0, 0.0], [0.8571428571428571, 0.14285714285714285], [1.0, 0.0], [0.8, 0.2], [1.0, 0.0], [1.0, 0.0], [1.0, 0.0], [1.0, 0.0], [1.0, 0.0], [0.3333333333333333, 0.6666666666666666], [1.0, 0.0], [1.0, 0.0], [0, 0], [1.0, 0.0], [1.0, 0.0], [1.0, 0.0], [1.0, 0.0], [1.0, 0.0], [0, 0], [0, 0], [0, 0], [0, 0], [1.0, 0.0], [1.0, 0.0], [1.0, 0.0], [1.0, 0.0], [1.0, 0.0], [0, 0], [1.0, 0.0], [1.0, 0.0], [1.0, 0.0], [1.0, 0.0], [1.0, 0.0], [1.0, 0.0], [1.0, 0.0], [1.0, 0.0], [1.0, 0.0], [1.0, 0.0], [0, 0], [0, 0], [1.0, 0.0], [0, 0], [1.0, 0.0], [1.0, 0.0], [1.0, 0.0], [0.7142857142857143, 0.2857142857142857], [1.0, 0.0], [0.5, 0.5], [0.6, 0.4], [1.0, 0.0], [0.7777777777777778, 0.2222222222222222], [0.875, 0.125], [0.8, 0.2], [0.5, 0.5], [1.0, 0.0], [1.0, 0.0], [0.3333333333333333, 0.6666666666666666], [0.5, 0.5], [0.4, 0.6], [1.0, 0.0], [1.0, 0.0], [1.0, 0.0], [1.0, 0.0], [1.0, 0.0], [1.0, 0.0], [1.0, 0.0], [1.0, 0.0], [1.0, 0.0], [1.0, 0.0], [0, 0], [0, 0], [0, 0], [1.0, 0.0], [1.0, 0.0], [1.0, 0.0], [1.0, 0.0], [0.0, 1.0], [0.3333333333333333, 0.6666666666666666], [1.0, 0.0], [0.625, 0.375], [1.0, 0.0], [1.0, 0.0], [0.3333333333333333, 0.6666666666666666], [1.0, 0.0], [1.0, 0.0], [1.0, 0.0], [1.0, 0.0], [1.0, 0.0], [0.25, 0.75], [1.0, 0.0], [1.0, 0.0], [0.6, 0.4], [1.0, 0.0], [1.0, 0.0], [1.0, 0.0], [0.0, 1.0], [1.0, 0.0], [1.0, 0.0], [1.0, 0.0], [1.0, 0.0], [1.0, 0.0], [0, 0], [1.0, 0.0], [1.0, 0.0], [1.0, 0.0], [1.0, 0.0], [1.0, 0.0], [0, 0], [1.0, 0.0], [1.0, 0.0], [1.0, 0.0], [1.0, 0.0], [1.0, 0.0], [1.0, 0.0], [1.0, 0.0], [1.0, 0.0], [0.6666666666666666, 0.3333333333333333], [1.0, 0.0], [0, 0], [0.75, 0.25], [0.75, 0.25], [0.6666666666666666, 0.3333333333333333], [1.0, 0.0], [1.0, 0.0], [1.0, 0.0], [1.0, 0.0], [1.0, 0.0], [0, 0], [0, 0], [0, 0], [0, 0], [0, 0], [0, 0], [0, 0], [0, 0], [0, 0], [0, 0], [0, 0]]\n"
     ]
    }
   ],
   "source": [
    "#------------------title 每天關鍵詞自述 比例分類\n",
    "count_list_t = []\n",
    "count_list_num_t = []\n",
    "count_list_num_p_t = []\n",
    "count_list_num_n_t = []\n",
    "count_list_per_p_t = []\n",
    "count_list_per_n_t = []\n",
    "date_percentage_dict_p_t = {}\n",
    "date_percentage_dict_n_t = {}\n",
    "date_percentage_dict_t = {}\n",
    "for d in date_list:\n",
    "    voc_list_title = udn_title_date_dict[str(d)]\n",
    "    #voc_list_description = udn_description_date_dict[str(d)]\n",
    "    pos_num = 0\n",
    "    neg_num = 0\n",
    "    percentage_of_d_p = 0\n",
    "    percentage_of_d_n = 0\n",
    "    for pos_wo in influential_key_word_pos_list_tw_title:\n",
    "        for r in range(len(voc_list_title)):\n",
    "            if pos_wo in voc_list_title[r]:\n",
    "                pos_num+=1\n",
    "    for neg_wo in influential_key_word_neg_list_tw_title:\n",
    "        for r in range(len(voc_list_title)):\n",
    "            if neg_wo in voc_list_title[r]:\n",
    "                neg_num +=1\n",
    "    if pos_num+neg_num != 0:\n",
    "        percentage_of_d_p = pos_num/(pos_num+neg_num)\n",
    "        percentage_of_d_n = neg_num/(pos_num+neg_num)\n",
    "        count_list_t.append([percentage_of_d_p,percentage_of_d_n])\n",
    "        count_list_num_t.append([pos_num,neg_num])\n",
    "        count_list_num_p_t.append(pos_num)\n",
    "        count_list_num_n_t.append(neg_num)\n",
    "        count_list_per_p_t.append(percentage_of_d_p)\n",
    "        count_list_per_n_t.append(percentage_of_d_n)\n",
    "    else:\n",
    "        count_list_t.append([0,0])\n",
    "        count_list_num_t.append([0,0])\n",
    "        count_list_num_p_t.append(0)\n",
    "        count_list_num_n_t.append(0)\n",
    "        count_list_per_p_t.append(0)\n",
    "        count_list_per_n_t.append(0)\n",
    "    date_percentage_dict_p_t[str(d)] = percentage_of_d_p\n",
    "    date_percentage_dict_n_t[str(d)] = percentage_of_d_n\n",
    "    date_percentage_dict_t[str(d)] = ([percentage_of_d_p,percentage_of_d_n])\n",
    "#print(date_percentage_dict)    \n",
    "print(count_list_t)"
   ]
  },
  {
   "cell_type": "markdown",
   "metadata": {},
   "source": [
    "7.決定分群數量\n"
   ]
  },
  {
   "cell_type": "code",
   "execution_count": 33,
   "metadata": {},
   "outputs": [
    {
     "data": {
      "image/png": "[encoded data removed]",
      "text/plain": [
       "<Figure size 432x288 with 1 Axes>"
      ]
     },
     "metadata": {},
     "output_type": "display_data"
    },
    {
     "name": "stdout",
     "output_type": "stream",
     "text": [
      "[0.8891151976846485, 0.9372156355908499, 0.9416934844991879, 0.9521856508402198, 0.9634435778090273, 0.9700198987562716, 0.9727865268424818, 0.9712132721718819]\n"
     ]
    }
   ],
   "source": [
    "#------------title \n",
    "from sklearn import cluster, datasets, metrics\n",
    "import matplotlib.pyplot as plt\n",
    "\n",
    "# 迴圈\n",
    "silhouette_avgs_t = []\n",
    "ks = range(2,10)\n",
    "for k in ks:\n",
    "    kmeans_fit = cluster.KMeans(n_clusters = k).fit(count_list_t)\n",
    "    cluster_labels = kmeans_fit.labels_\n",
    "    silhouette_avg_t = metrics.silhouette_score(count_list_t, cluster_labels)\n",
    "    silhouette_avgs_t.append(silhouette_avg_t)\n",
    "\n",
    "# 作圖並印出 k = 2 到 10 的績效\n",
    "plt.bar(ks, silhouette_avgs_t)\n",
    "plt.show()\n",
    "print(silhouette_avgs_t)"
   ]
  },
  {
   "cell_type": "markdown",
   "metadata": {},
   "source": [
    "8.用k means分出群"
   ]
  },
  {
   "cell_type": "code",
   "execution_count": 34,
   "metadata": {},
   "outputs": [
    {
     "name": "stderr",
     "output_type": "stream",
     "text": [
      "c:\\users\\will\\appdata\\local\\programs\\python\\python36-32\\lib\\site-packages\\sklearn\\cluster\\k_means_.py:971: ConvergenceWarning: Number of distinct clusters (2) found smaller than n_clusters (7). Possibly due to duplicate points in X.\n",
      "  return_n_iter=True)\n"
     ]
    },
    {
     "data": {
      "image/png": "[encoded data removed]",
      "text/plain": [
       "<Figure size 864x648 with 2 Axes>"
      ]
     },
     "metadata": {},
     "output_type": "display_data"
    },
    {
     "name": "stdout",
     "output_type": "stream",
     "text": [
      "[1 1 1 1 1 1 1 1 1 1 1 1 1 1 1 1 1 1 1 1 1 1 1 1 0 0 0 0 1 1 0 0 0 0 0 0 0\n",
      " 1 0 1 0 1 1 1 1 1 1 1 0 0 0 0 0 1 0 0 1 0 0 1 1 0 1 0 0 0 0 1 0 1 0 1 0 0\n",
      " 1 1 0 0 0 0 1 1 1 1 1 0 1 0 1 0 0 1 1 1 1 1 1 1 1 1 0 0 1 1 1 1 0 1 1 1 0\n",
      " 0 1 0 0 0 1 1 1 0 0 1 1 0 1 1 1 1 1 0 0 0 1 1 1 0 0 1 1 0 1 1 1 1 0 1 0 1\n",
      " 1 0 1 0 0 0 1 1 0 1 1 0 1 0 1 1 1 1 0 1 1 1 1 1 1 1 1 1 1 1 1 0 1 1 1 1 0\n",
      " 1 1 0 1 0 1 1 1 1 1 1 0 0 1 1 1 1 1 1 1 1 1 1 1 1 1 1 1 0 0 0 1 1 1 0 0 0\n",
      " 0 1 1 1 1 1 1 1 1 1 1 0 1 1 1 1 1 1 1 1 1 1 1 1 1 1 1 1 1 1 1 1 1 1 1 1 1\n",
      " 1 1 1 1 1 1 1 1 1 1 1 1 1 1 1 1 1 1 1 1 1 1 1 1 1 1 1 1 1 1 1 1 1 1 1 1 1\n",
      " 1 1 1 1 1 1 1 1 1 1 1 1 1 1 1 1 1 1 1 1 1 1 1 1 1 1 1 1 1 1 1 1 0 0 0 0 0\n",
      " 0 0 0 0 0 0]\n"
     ]
    }
   ],
   "source": [
    "#---------------title\n",
    "import numpy as np\n",
    "import matplotlib.pyplot as plt\n",
    "from sklearn import cluster, datasets, metrics\n",
    "%matplotlib inline\n",
    "plt.style.use('ggplot')\n",
    "plt.figure(figsize=(12, 9))\n",
    "font = {'family' : 'DFKai-SB',\n",
    "'weight' : 'bold',\n",
    "'size'  : '10'} #字型設定\n",
    "plt.rc('font', **font) #字型設定 # pass in the font dict as kwargs\n",
    "plt.rc('axes',unicode_minus=False) #字型設定\n",
    "ax1 = plt.subplot(3,2,1)  #子圖們\n",
    "#第一行第二列图形\n",
    "ax2 = plt.subplot(3,2,2)\n",
    "plt.sca(ax1)\n",
    "y_pred_num = cluster.KMeans(n_clusters=7).fit_predict(count_list_num_t)\n",
    "plt.title('每天關鍵詞發生的次數')\n",
    "plt.xlabel('positive')\n",
    "plt.ylabel('negative')\n",
    "plt.scatter(count_list_num_p_t, count_list_num_n_t,c=y_pred_num)\n",
    "plt.sca(ax2)\n",
    "y_pred_per = cluster.KMeans(n_clusters=7).fit_predict(count_list)\n",
    "plt.title('每天關鍵詞發生的比例')\n",
    "plt.xlabel('positive')\n",
    "plt.ylabel('negative')\n",
    "plt.scatter(count_list_per_p_t, count_list_per_n_t,c=y_pred_per)\n",
    "plt.show()\n",
    "print(y_pred_per)"
   ]
  },
  {
   "cell_type": "markdown",
   "metadata": {},
   "source": [
    "以下用description再做一次結疤整理、情緒分析及kmeans"
   ]
  },
  {
   "cell_type": "code",
   "execution_count": 28,
   "metadata": {},
   "outputs": [
    {
     "name": "stdout",
     "output_type": "stream",
     "text": [
      "check p 3\n",
      "['中國', '美國', '市場', '經濟', '指數', '美中', '台灣', '關稅', '台股', '大陸', '國家', '企業', '雙方', '因應', '資金', '銀行', '中美', '電子', '產品', '財經', '台商', '產業', '亞洲', '代工', '客戶', '董事', '台幣', '總裁', '全球', '東南亞', '訂單', '台達', '法人', '加徵', '川普', '總統', '產線', '終場', '股價', '瑞軒', '軍隊', '匯率', '風險', '半導體', '機會', '權值', '國際', '財報', '股市', '蘋果']\n"
     ]
    }
   ],
   "source": [
    "from jieba.analyse import extract_tags as et\n",
    "key_word_description_list = []\n",
    "#for i in tnrange(100, desc='3st loop'):\n",
    "tag_description=list(et(total_description_str,topK=50, allowPOS=['n','ns','nr','na'],withWeight=True))\n",
    "#tag_description_2=jieba.analyse.textrank(total_description_str, withWeight=True)\n",
    "print(\"check p 3\")\n",
    "#TD-IDF\n",
    "# for t in tag_title:\n",
    "#     print(u'方法1'\": %s\\t\\t weight: %f\" % (t[0],t[1]))\n",
    "# #Textrank\n",
    "# for x, w in tag_title_2:\n",
    "#     print(u'方法2'\": %s\\t\\t weight: %f\" % (x, w))\n",
    "for t in tag_description:\n",
    "    key_word_description_list.append(t[0])\n",
    "print(key_word_description_list)"
   ]
  },
  {
   "cell_type": "code",
   "execution_count": 35,
   "metadata": {},
   "outputs": [
    {
     "name": "stdout",
     "output_type": "stream",
     "text": [
      "['China', 'United States', 'market', 'economic', 'index', 'US and China', 'Taiwan', 'tariff', 'Taiwan stock', 'mainland', 'country', 'enterprise', 'both sides', 'In response', 'funds', 'bank', 'Central America', 'electronic', 'product', 'Finance', 'Taiwanese business', 'industry', 'Asia', 'Foundry', 'client', 'director', 'Taiwan dollar', 'President', 'global', 'Southeast Asia', 'Order', 'Delta', 'Corporation', 'Add', 'Trump', 'president', 'Production line', 'Final', 'share price', 'Ruixuan', 'army', 'exchange rate', 'risk', 'semiconductor', 'opportunity', 'Weight', 'International', 'Financial report', 'stock market', 'apple'] {'China': '中國', 'United States': '美國', 'market': '市場', 'economic': '經濟', 'index': '指數', 'US and China': '美中', 'Taiwan': '台灣', 'tariff': '關稅', 'Taiwan stock': '台股', 'mainland': '大陸', 'country': '國家', 'enterprise': '企業', 'both sides': '雙方', 'In response': '因應', 'funds': '資金', 'bank': '銀行', 'Central America': '中美', 'electronic': '電子', 'product': '產品', 'Finance': '財經', 'Taiwanese business': '台商', 'industry': '產業', 'Asia': '亞洲', 'Foundry': '代工', 'client': '客戶', 'director': '董事', 'Taiwan dollar': '台幣', 'President': '總裁', 'global': '全球', 'Southeast Asia': '東南亞', 'Order': '訂單', 'Delta': '台達', 'Corporation': '法人', 'Add': '加徵', 'Trump': '川普', 'president': '總統', 'Production line': '產線', 'Final': '終場', 'share price': '股價', 'Ruixuan': '瑞軒', 'army': '軍隊', 'exchange rate': '匯率', 'risk': '風險', 'semiconductor': '半導體', 'opportunity': '機會', 'Weight': '權值', 'International': '國際', 'Financial report': '財報', 'stock market': '股市', 'apple': '蘋果'}\n"
     ]
    }
   ],
   "source": [
    "#------------description 翻譯\n",
    "import jieba.analyse\n",
    "from nltk.corpus import sinica_treebank\n",
    "import nltk\n",
    "# import codecs\n",
    "# sia = SIA()\n",
    "from googletrans import Translator\n",
    "translator = Translator()\n",
    "trans_to_en_list = []\n",
    "trans_to_en_dict = {}\n",
    "for des in key_word_description_list:\n",
    "    trans_to_en = translator.translate(str(des)).text\n",
    "    trans_to_en_list.append(trans_to_en)\n",
    "    trans_to_en_dict[str(trans_to_en)] = des\n",
    "print(trans_to_en_list,trans_to_en_dict)"
   ]
  },
  {
   "cell_type": "code",
   "execution_count": 36,
   "metadata": {},
   "outputs": [
    {
     "name": "stdout",
     "output_type": "stream",
     "text": [
      "{'China': {'neg': 0.0, 'neu': 1.0, 'pos': 0.0, 'compound': 0.0}, 'United States': {'neg': 0.0, 'neu': 0.263, 'pos': 0.737, 'compound': 0.4215}, 'market': {'neg': 0.0, 'neu': 1.0, 'pos': 0.0, 'compound': 0.0}, 'economic': {'neg': 0.0, 'neu': 1.0, 'pos': 0.0, 'compound': 0.0}, 'index': {'neg': 0.0, 'neu': 1.0, 'pos': 0.0, 'compound': 0.0}, 'US and China': {'neg': 0.0, 'neu': 1.0, 'pos': 0.0, 'compound': 0.0}, 'Taiwan': {'neg': 0.0, 'neu': 1.0, 'pos': 0.0, 'compound': 0.0}, 'tariff': {'neg': 0.0, 'neu': 1.0, 'pos': 0.0, 'compound': 0.0}, 'Taiwan stock': {'neg': 0.0, 'neu': 1.0, 'pos': 0.0, 'compound': 0.0}, 'mainland': {'neg': 0.0, 'neu': 1.0, 'pos': 0.0, 'compound': 0.0}, 'country': {'neg': 0.0, 'neu': 1.0, 'pos': 0.0, 'compound': 0.0}, 'enterprise': {'neg': 0.0, 'neu': 1.0, 'pos': 0.0, 'compound': 0.0}, 'both sides': {'neg': 0.0, 'neu': 1.0, 'pos': 0.0, 'compound': 0.0}, 'In response': {'neg': 0.0, 'neu': 1.0, 'pos': 0.0, 'compound': 0.0}, 'funds': {'neg': 0.0, 'neu': 1.0, 'pos': 0.0, 'compound': 0.0}, 'bank': {'neg': 0.0, 'neu': 1.0, 'pos': 0.0, 'compound': 0.0}, 'Central America': {'neg': 0.0, 'neu': 1.0, 'pos': 0.0, 'compound': 0.0}, 'electronic': {'neg': 0.0, 'neu': 1.0, 'pos': 0.0, 'compound': 0.0}, 'product': {'neg': 0.0, 'neu': 1.0, 'pos': 0.0, 'compound': 0.0}, 'Finance': {'neg': 0.0, 'neu': 1.0, 'pos': 0.0, 'compound': 0.0}, 'Taiwanese business': {'neg': 0.0, 'neu': 1.0, 'pos': 0.0, 'compound': 0.0}, 'industry': {'neg': 0.0, 'neu': 1.0, 'pos': 0.0, 'compound': 0.0}, 'Asia': {'neg': 0.0, 'neu': 1.0, 'pos': 0.0, 'compound': 0.0}, 'Foundry': {'neg': 0.0, 'neu': 1.0, 'pos': 0.0, 'compound': 0.0}, 'client': {'neg': 0.0, 'neu': 1.0, 'pos': 0.0, 'compound': 0.0}, 'director': {'neg': 0.0, 'neu': 1.0, 'pos': 0.0, 'compound': 0.0}, 'Taiwan dollar': {'neg': 0.0, 'neu': 1.0, 'pos': 0.0, 'compound': 0.0}, 'President': {'neg': 0.0, 'neu': 1.0, 'pos': 0.0, 'compound': 0.0}, 'global': {'neg': 0.0, 'neu': 1.0, 'pos': 0.0, 'compound': 0.0}, 'Southeast Asia': {'neg': 0.0, 'neu': 1.0, 'pos': 0.0, 'compound': 0.0}, 'Order': {'neg': 0.0, 'neu': 1.0, 'pos': 0.0, 'compound': 0.0}, 'Delta': {'neg': 0.0, 'neu': 1.0, 'pos': 0.0, 'compound': 0.0}, 'Corporation': {'neg': 0.0, 'neu': 1.0, 'pos': 0.0, 'compound': 0.0}, 'Add': {'neg': 0.0, 'neu': 1.0, 'pos': 0.0, 'compound': 0.0}, 'Trump': {'neg': 0.0, 'neu': 1.0, 'pos': 0.0, 'compound': 0.0}, 'president': {'neg': 0.0, 'neu': 1.0, 'pos': 0.0, 'compound': 0.0}, 'Production line': {'neg': 0.0, 'neu': 1.0, 'pos': 0.0, 'compound': 0.0}, 'Final': {'neg': 0.0, 'neu': 1.0, 'pos': 0.0, 'compound': 0.0}, 'share price': {'neg': 0.0, 'neu': 0.312, 'pos': 0.688, 'compound': 0.296}, 'Ruixuan': {'neg': 0.0, 'neu': 1.0, 'pos': 0.0, 'compound': 0.0}, 'army': {'neg': 0.0, 'neu': 1.0, 'pos': 0.0, 'compound': 0.0}, 'exchange rate': {'neg': 0.0, 'neu': 1.0, 'pos': 0.0, 'compound': 0.0}, 'risk': {'neg': 1.0, 'neu': 0.0, 'pos': 0.0, 'compound': -0.2732}, 'semiconductor': {'neg': 0.0, 'neu': 1.0, 'pos': 0.0, 'compound': 0.0}, 'opportunity': {'neg': 0.0, 'neu': 0.0, 'pos': 1.0, 'compound': 0.4215}, 'Weight': {'neg': 0.0, 'neu': 1.0, 'pos': 0.0, 'compound': 0.0}, 'International': {'neg': 0.0, 'neu': 1.0, 'pos': 0.0, 'compound': 0.0}, 'Financial report': {'neg': 0.0, 'neu': 1.0, 'pos': 0.0, 'compound': 0.0}, 'stock market': {'neg': 0.0, 'neu': 1.0, 'pos': 0.0, 'compound': 0.0}, 'apple': {'neg': 0.0, 'neu': 1.0, 'pos': 0.0, 'compound': 0.0}}\n",
      "['風險']\n",
      "['中國', '市場', '經濟', '指數', '美中', '台灣', '關稅', '台股', '大陸', '國家', '企業', '雙方', '因應', '資金', '銀行', '中美', '電子', '產品', '財經', '台商', '產業', '亞洲', '代工', '客戶', '董事', '台幣', '總裁', '全球', '東南亞', '訂單', '台達', '法人', '加徵', '川普', '總統', '產線', '終場', '瑞軒', '軍隊', '匯率', '半導體', '權值', '國際', '財報', '股市', '蘋果']\n",
      "['美國', '股價', '機會']\n"
     ]
    }
   ],
   "source": [
    "#------------------description 評分\n",
    "key_word_description_score_dict_en ={}\n",
    "from nltk.sentiment.vader import SentimentIntensityAnalyzer\n",
    "import sys\n",
    "sia = SentimentIntensityAnalyzer()\n",
    "for key_word_en in trans_to_en_list:\n",
    "    key_word_description_score = sia.polarity_scores(key_word_en)\n",
    "    key_word_description_score_dict_en[str(key_word_en)] = key_word_description_score\n",
    "print(key_word_description_score_dict_en)\n",
    "influential_key_word_neg_list_en = []\n",
    "influential_key_word_neu_list_en = []\n",
    "influential_key_word_pos_list_en = []\n",
    "influential_key_word_neg_list_tw = []\n",
    "influential_key_word_neu_list_tw = []\n",
    "influential_key_word_pos_list_tw = []\n",
    "# print(key_word_description_score_dict_en[str(Taiwan)]['compound'])\n",
    "for word in trans_to_en_list:\n",
    "    if key_word_description_score_dict_en[word]['compound'] < 0:\n",
    "        influential_key_word_neg_list_en.append(word)\n",
    "        influential_key_word_neg_list_tw.append(trans_to_en_dict[word])\n",
    "    if key_word_description_score_dict_en[word]['compound'] == 0:\n",
    "        influential_key_word_neu_list_en.append(word)\n",
    "        influential_key_word_neu_list_tw.append(trans_to_en_dict[word])\n",
    "    if key_word_description_score_dict_en[word]['compound'] > 0:\n",
    "        influential_key_word_pos_list_en.append(word)\n",
    "        influential_key_word_pos_list_tw.append(trans_to_en_dict[word])\n",
    "print(influential_key_word_neg_list_tw)\n",
    "print(influential_key_word_neu_list_tw)\n",
    "print(influential_key_word_pos_list_tw)"
   ]
  },
  {
   "cell_type": "code",
   "execution_count": 7,
   "metadata": {},
   "outputs": [],
   "source": [
    "#------------------description 每天關鍵詞自述 比例分類\n",
    "count_list = []\n",
    "count_list_num = []\n",
    "count_list_num_p = []\n",
    "count_list_num_n = []\n",
    "count_list_per_p = []\n",
    "count_list_per_n = []\n",
    "date_percentage_dict_p = {}\n",
    "date_percentage_dict_n = {}\n",
    "date_percentage_dict = {}\n",
    "for d in date_list:\n",
    "    voc_list_title = udn_title_date_dict[str(d)]\n",
    "    voc_list_description = udn_description_date_dict[str(d)]\n",
    "    pos_num = 0\n",
    "    neg_num = 0\n",
    "    percentage_of_d_p = 0\n",
    "    percentage_of_d_n = 0\n",
    "    for pos_wo in influential_key_word_pos_list_tw:\n",
    "        for r in range(len(voc_list_description)):\n",
    "            if pos_wo in voc_list_description[r]:\n",
    "                pos_num+=1\n",
    "    for neg_wo in influential_key_word_neg_list_tw:\n",
    "        for r in range(len(voc_list_description)):\n",
    "            if neg_wo in voc_list_description[r]:\n",
    "                neg_num +=1\n",
    "    if pos_num+neg_num != 0:\n",
    "        percentage_of_d_p = pos_num/(pos_num+neg_num)\n",
    "        percentage_of_d_n = neg_num/(pos_num+neg_num)\n",
    "        count_list.append([percentage_of_d_p,percentage_of_d_n])\n",
    "        count_list_num.append([pos_num,neg_num])\n",
    "        count_list_num_p.append(pos_num)\n",
    "        count_list_num_n.append(neg_num)\n",
    "        count_list_per_p.append(percentage_of_d_p)\n",
    "        count_list_per_n.append(percentage_of_d_n)\n",
    "    else:\n",
    "        count_list.append([0,0])\n",
    "        count_list_num.append([0,0])\n",
    "        count_list_num_p.append(0)\n",
    "        count_list_num_n.append(0)\n",
    "        count_list_per_p.append(0)\n",
    "        count_list_per_n.append(0)\n",
    "    date_percentage_dict_p[str(d)] = percentage_of_d_p\n",
    "    date_percentage_dict_n[str(d)] = percentage_of_d_n\n",
    "    date_percentage_dict[str(d)] = ([percentage_of_d_p,percentage_of_d_n])\n",
    "#print(date_percentage_dict)    \n",
    "#print(count_list)"
   ]
  },
  {
   "cell_type": "markdown",
   "metadata": {},
   "source": [
    "決定分群數量 使用metrics.silhouette_score決定分群數量，可知差異有限但分成十群效果可能最好。然而此處為了方便操作先以三群為試驗。"
   ]
  },
  {
   "cell_type": "code",
   "execution_count": 37,
   "metadata": {},
   "outputs": [
    {
     "name": "stderr",
     "output_type": "stream",
     "text": [
      "c:\\users\\will\\appdata\\local\\programs\\python\\python36-32\\lib\\site-packages\\sklearn\\cluster\\k_means_.py:971: ConvergenceWarning: Number of distinct clusters (2) found smaller than n_clusters (3). Possibly due to duplicate points in X.\n",
      "  return_n_iter=True)\n",
      "c:\\users\\will\\appdata\\local\\programs\\python\\python36-32\\lib\\site-packages\\sklearn\\cluster\\k_means_.py:971: ConvergenceWarning: Number of distinct clusters (2) found smaller than n_clusters (4). Possibly due to duplicate points in X.\n",
      "  return_n_iter=True)\n",
      "c:\\users\\will\\appdata\\local\\programs\\python\\python36-32\\lib\\site-packages\\sklearn\\cluster\\k_means_.py:971: ConvergenceWarning: Number of distinct clusters (2) found smaller than n_clusters (5). Possibly due to duplicate points in X.\n",
      "  return_n_iter=True)\n",
      "c:\\users\\will\\appdata\\local\\programs\\python\\python36-32\\lib\\site-packages\\sklearn\\cluster\\k_means_.py:971: ConvergenceWarning: Number of distinct clusters (2) found smaller than n_clusters (6). Possibly due to duplicate points in X.\n",
      "  return_n_iter=True)\n",
      "c:\\users\\will\\appdata\\local\\programs\\python\\python36-32\\lib\\site-packages\\sklearn\\cluster\\k_means_.py:971: ConvergenceWarning: Number of distinct clusters (2) found smaller than n_clusters (7). Possibly due to duplicate points in X.\n",
      "  return_n_iter=True)\n"
     ]
    },
    {
     "data": {
      "image/png": "[encoded data removed]",
      "text/plain": [
       "<Figure size 432x288 with 1 Axes>"
      ]
     },
     "metadata": {},
     "output_type": "display_data"
    },
    {
     "name": "stdout",
     "output_type": "stream",
     "text": [
      "[1.0, 1.0, 1.0, 1.0, 1.0, 1.0]\n"
     ]
    }
   ],
   "source": [
    "#------------des \n",
    "from sklearn import cluster, datasets, metrics\n",
    "import matplotlib.pyplot as plt\n",
    "\n",
    "# 迴圈\n",
    "silhouette_avgs = []\n",
    "ks = range(2,8)\n",
    "for k in ks:\n",
    "    kmeans_fit = cluster.KMeans(n_clusters = k).fit(count_list)\n",
    "    cluster_labels = kmeans_fit.labels_\n",
    "    silhouette_avg = metrics.silhouette_score(count_list, cluster_labels)\n",
    "    silhouette_avgs.append(silhouette_avg)\n",
    "\n",
    "# 作圖並印出 k = 2 到 10 的績效\n",
    "plt.bar(ks, silhouette_avgs)\n",
    "plt.show()\n",
    "print(silhouette_avgs)"
   ]
  },
  {
   "cell_type": "markdown",
   "metadata": {},
   "source": [
    "用k means分出群 用sklearn.cluster.KMeans，以各天正負關鍵詞比例及數量XY軸，將日期分成三群，並視覺化分群"
   ]
  },
  {
   "cell_type": "code",
   "execution_count": 21,
   "metadata": {},
   "outputs": [
    {
     "name": "stderr",
     "output_type": "stream",
     "text": [
      "c:\\users\\will\\appdata\\local\\programs\\python\\python36-32\\lib\\site-packages\\sklearn\\cluster\\k_means_.py:971: ConvergenceWarning: Number of distinct clusters (2) found smaller than n_clusters (3). Possibly due to duplicate points in X.\n",
      "  return_n_iter=True)\n"
     ]
    },
    {
     "data": {
      "image/png": "[encoded data removed]",
      "text/plain": [
       "<Figure size 864x648 with 2 Axes>"
      ]
     },
     "metadata": {},
     "output_type": "display_data"
    },
    {
     "name": "stdout",
     "output_type": "stream",
     "text": [
      "[1 1 1 1 1 1 1 1 1 1 1 1 1 1 1 1 1 1 1 1 1 1 1 1 0 0 0 0 1 1 0 0 0 0 0 0 0\n",
      " 1 0 1 0 1 1 1 1 1 1 1 0 0 0 0 0 1 0 0 1 0 0 1 1 0 1 0 0 0 0 1 0 1 0 1 0 0\n",
      " 1 1 0 0 0 0 1 1 1 1 1 0 1 0 1 0 0 1 1 1 1 1 1 1 1 1 0 0 1 1 1 1 0 1 1 1 0\n",
      " 0 1 0 0 0 1 1 1 0 0 1 1 0 1 1 1 1 1 0 0 0 1 1 1 0 0 1 1 0 1 1 1 1 0 1 0 1\n",
      " 1 0 1 0 0 0 1 1 0 1 1 0 1 0 1 1 1 1 0 1 1 1 1 1 1 1 1 1 1 1 1 0 1 1 1 1 0\n",
      " 1 1 0 1 0 1 1 1 1 1 1 0 0 1 1 1 1 1 1 1 1 1 1 1 1 1 1 1 0 0 0 1 1 1 0 0 0\n",
      " 0 1 1 1 1 1 1 1 1 1 1 0 1 1 1 1 1 1 1 1 1 1 1 1 1 1 1 1 1 1 1 1 1 1 1 1 1\n",
      " 1 1 1 1 1 1 1 1 1 1 1 1 1 1 1 1 1 1 1 1 1 1 1 1 1 1 1 1 1 1 1 1 1 1 1 1 1\n",
      " 1 1 1 1 1 1 1 1 1 1 1 1 1 1 1 1 1 1 1 1 1 1 1 1 1 1 1 1 1 1 1 1 0 0 0 0 0\n",
      " 0 0 0 0 0 0]\n"
     ]
    }
   ],
   "source": [
    "#---------------des\n",
    "import numpy as np\n",
    "import matplotlib.pyplot as plt\n",
    "from sklearn import cluster, datasets, metrics\n",
    "%matplotlib inline\n",
    "plt.style.use('ggplot')\n",
    "plt.figure(figsize=(12, 9))\n",
    "font = {'family' : 'DFKai-SB',\n",
    "'weight' : 'bold',\n",
    "'size'  : '10'} #字型設定\n",
    "plt.rc('font', **font) #字型設定 # pass in the font dict as kwargs\n",
    "plt.rc('axes',unicode_minus=False) #字型設定\n",
    "ax1 = plt.subplot(3,2,1)  #子圖們\n",
    "#第一行第二列图形\n",
    "ax2 = plt.subplot(3,2,2)\n",
    "plt.sca(ax1)\n",
    "y_pred_num = cluster.KMeans(n_clusters=3).fit_predict(count_list_num)\n",
    "plt.title('每天關鍵詞發生的次數')\n",
    "plt.xlabel('positive')\n",
    "plt.ylabel('negative')\n",
    "plt.scatter(count_list_num_p, count_list_num_n,c=y_pred_num)\n",
    "plt.sca(ax2)\n",
    "y_pred_per = cluster.KMeans(n_clusters=3).fit_predict(count_list)\n",
    "plt.title('每天關鍵詞發生的比例')\n",
    "plt.xlabel('positive')\n",
    "plt.ylabel('negative')\n",
    "plt.scatter(count_list_per_p, count_list_per_n,c=y_pred_per)\n",
    "plt.show()\n",
    "print(y_pred_per)"
   ]
  },
  {
   "cell_type": "code",
   "execution_count": 117,
   "metadata": {},
   "outputs": [
    {
     "name": "stdout",
     "output_type": "stream",
     "text": [
      "2019/05/27 20:51:34\n",
      "諾貝爾經濟學獎得主羅默：貿易戰將持續 各國宜應變 | 美中貿易戰 | 國際 | 經濟日報\n",
      "2018年諾貝爾經濟學獎得主羅默（Paul M. Romer）27日抵台指出，美國這波景氣循環仍將持續。美中貿易戰也將...\n"
     ]
    }
   ],
   "source": [
    "import xlrd \n",
    "# # 以xlrd打開表格給book\n",
    "# book = xlrd.open_workbook(\"C:\\\\Users\\\\Will\\\\Desktop\\\\經濟日報文字內容1.csv\")\n",
    "# # 獲取工作表的方法之一，用下標。\n",
    "# sheel_1 = book.sheet_by_index(0)\n",
    "# # 打印第一個工作表中行0列1的值，用下標。\n",
    "# print(sheel_1.cell_value(rowx=0,colx=0))\n",
    "file_r = \"C:\\\\Users\\\\Will\\\\Desktop\\\\經濟日報文字內容1.csv\"\n",
    "book_r = xlrd.open_workbook(file_r,encoding_override=\"utf-8\")\n",
    "sheet_1 = book_r.sheet_by_index(0)\n",
    "print(sheet_1.cell_value(rowx=0,colx=0))\n",
    "print(sheet_1.cell_value(rowx=0,colx=1))\n",
    "print(sheet_1.cell_value(rowx=0,colx=2))"
   ]
  },
  {
   "cell_type": "markdown",
   "metadata": {},
   "source": [
    "9.k means及nltk分類法的小結論\n",
    "這次使用nltk情緒分析，從經濟日報的標題、簡介找出適當的正負面關鍵詞清單，再用kmeans分群分析找出類別，歲未進行t檢定測試，但可以看出成效不彰，因為正負面關鍵詞清單內容過少，可能有三項原因:\n",
    "1.經濟日報內容或用字習慣相當中性，以陳述事實為主，很少評論\n",
    "2.nltk情緒分析過於嚴苛，難以分出足夠數量的正負面情緒\n",
    "3.大多會經常出現的詞都為中性，應該用整句的方式判斷情緒更佳\n",
    "考量到這三點論，我們彙集英國路透社和bbc的資料，並使用完整句子來判斷情緒，降低媒體自身用詞習慣的影響。"
   ]
  }
 ],
 "metadata": {
  "kernelspec": {
   "display_name": "Python 3",
   "language": "python",
   "name": "python3"
  },
  "language_info": {
   "codemirror_mode": {
    "name": "ipython",
    "version": 3
   },
   "file_extension": ".py",
   "mimetype": "text/x-python",
   "name": "python",
   "nbconvert_exporter": "python",
   "pygments_lexer": "ipython3",
   "version": "3.6.4"
  }
 },
 "nbformat": 4,
 "nbformat_minor": 2
}
