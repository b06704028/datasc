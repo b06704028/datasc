{
 "cells": [
  {
   "cell_type": "code",
   "execution_count": null,
   "metadata": {},
   "outputs": [],
   "source": [
    "stock_name_list = ['元大台商0054','元大電子0053','富邦科技0052','富邦金融0059','台積電2330','鴻海2317','南亞1303','台塑1301','國泰金2882']\n",
    "adr_l = []\n",
    "for y in range(len(stock_name_list)):\n",
    "    adr_l.append('C:\\\\Users\\\\Will\\\\Desktop\\datascience_upload\\\\股票資料\\\\股票資料'+stock_name_list[y]+\".pickle\")\n"
   ]
  }
 ],
 "metadata": {
  "kernelspec": {
   "display_name": "Python 3",
   "language": "python",
   "name": "python3"
  },
  "language_info": {
   "codemirror_mode": {
    "name": "ipython",
    "version": 3
   },
   "file_extension": ".py",
   "mimetype": "text/x-python",
   "name": "python",
   "nbconvert_exporter": "python",
   "pygments_lexer": "ipython3",
   "version": "3.6.4"
  }
 },
 "nbformat": 4,
 "nbformat_minor": 2
}
