{
 "cells": [
  {
   "cell_type": "code",
   "execution_count": null,
   "metadata": {},
   "outputs": [],
   "source": [
    "#---------------title 翻譯\n",
    "import jieba.analyse\n",
    "from nltk.corpus import sinica_treebank\n",
    "import nltk\n",
    "from googletrans import Translator\n",
    "translator = Translator()\n",
    "trans_to_en_list_title = [] # 翻譯後的英文list\n",
    "trans_to_en_dict_title = {} # 英中對照dict\n",
    "for des in key_word_title_list:\n",
    "    trans_to_en_title = translator.translate(str(des)).text #翻譯\n",
    "    trans_to_en_list_title.append(trans_to_en_title)\n",
    "    trans_to_en_dict_title[str(trans_to_en_title)] = des\n",
    "print(trans_to_en_list_title,trans_to_en_dict_title)"
   ]
  }
 ],
 "metadata": {
  "kernelspec": {
   "display_name": "Python 3",
   "language": "python",
   "name": "python3"
  },
  "language_info": {
   "codemirror_mode": {
    "name": "ipython",
    "version": 3
   },
   "file_extension": ".py",
   "mimetype": "text/x-python",
   "name": "python",
   "nbconvert_exporter": "python",
   "pygments_lexer": "ipython3",
   "version": "3.6.4"
  }
 },
 "nbformat": 4,
 "nbformat_minor": 2
}
