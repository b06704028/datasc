{
 "cells": [
  {
   "cell_type": "markdown",
   "metadata": {},
   "source": [
    "一、研究主題:如何從現有的CNN標題中，分辨何時的事件會對市場造成負面影響?\n",
    "\n",
    "二、專案目標:由於脫歐相關新聞中同時包含對股市會造成正面影響及負面影響的資訊，只透過單一關鍵字(brexit)不一定能看出該新聞對市場判斷的影響，因此希望透過數據探勘及機器學習，找出CNN標題常見關鍵字與脫歐事件正負面的關係。\n",
    "真正能代表脫歐相關新聞中，分別代表正負面事件的常見關鍵詞。\n",
    "\n",
    "三、研究方式: 透過PYTHON進行資料找尋、整理和分析，用sklearn進行K-means分群分析，並用matplotlib製作出視覺化圖表，最後用t檢定確認結果，以找出真正能代表脫歐相關新聞中，分別代表正負面事件的常見關鍵詞。\n",
    "\n",
    "四、研究步驟:\n",
    "1.\t設定想研究的資料目標、事件和資料範圍(時間、項目)\n",
    "2.\t透過爬蟲cnn國際版面，找出有重要關鍵字(brexit)的標題\n",
    "3.\t將一整串的標題轉換成單一的詞彙，並找出最常出現的詞彙\n",
    "4.\t人工判定正面及負面詞彙\n",
    "5.\t計算每天正負詞彙量的比例\n",
    "6.\t決定分群數量\n",
    "7.\t用k means分出群\n",
    "8.\t人工找出有發生重要脫歐事件的日期十八個\n",
    "9.\t準備小樣本假設檢定數據\n",
    "10. 小樣本假設檢定，目前分群是否真足以分出正負面事件?(以負面事件涵蓋率80%為基準，顯著水準為0.05)\n",
    "11.\t結論"
   ]
  },
  {
   "cell_type": "markdown",
   "metadata": {},
   "source": [
    "1.設定想研究的資料目標、事件和資料範圍(時間、項目)\n",
    "我希望分辨脫歐新聞對市場的影響，故時間範圍則從脫歐公投開始廣泛宣傳的2016年至今日"
   ]
  },
  {
   "cell_type": "markdown",
   "metadata": {},
   "source": [
    "2.透過爬蟲cnn國際版面，找出有重要關鍵字(brexit)的標題\n",
    "從CNN(https://edition.cnn.com/sitemaps/article...)尋找2016/01~2019/04的新聞標題網址，以cnn_loc_list儲存"
   ]
  },
  {
   "cell_type": "code",
   "execution_count": 45,
   "metadata": {
    "scrolled": false,
    "slideshow": {
     "slide_type": "slide"
    }
   },
   "outputs": [
    {
     "name": "stderr",
     "output_type": "stream",
     "text": [
      "c:\\users\\will\\appdata\\local\\programs\\python\\python36-32\\lib\\site-packages\\bs4\\__init__.py:181: UserWarning: No parser was explicitly specified, so I'm using the best available HTML parser for this system (\"lxml\"). This usually isn't a problem, but if you run this code on another system, or in a different virtual environment, it may use a different parser and behave differently.\n",
      "\n",
      "The code that caused this warning is on line 193 of the file c:\\users\\will\\appdata\\local\\programs\\python\\python36-32\\lib\\runpy.py. To get rid of this warning, change code that looks like this:\n",
      "\n",
      " BeautifulSoup(YOUR_MARKUP})\n",
      "\n",
      "to this:\n",
      "\n",
      " BeautifulSoup(YOUR_MARKUP, \"lxml\")\n",
      "\n",
      "  markup_type=markup_type))\n"
     ]
    }
   ],
   "source": [
    "import sys\n",
    "import os\n",
    "import requests, json, csv, datetime\n",
    "import re\n",
    "import time\n",
    "from xlwt import *\n",
    "import pickle\n",
    "import requests\n",
    "from datetime import datetime\n",
    "from bs4 import BeautifulSoup\n",
    "cnn_loc_list = []\n",
    "year_count_list = [\"2016\",'2017','2018']\n",
    "month_count_list = ['01','02','03','04','05','06','07','08','09','10','11','12']\n",
    "spe_2019_month_count_list = ['01','02','03','04']\n",
    "day_count_list = []\n",
    "for year in year_count_list:\n",
    "    for month in month_count_list:\n",
    "        cnn_url_twse = 'https://edition.cnn.com/sitemaps/article-'+year+'-'+month+'.xml'\n",
    "        cnn_res = requests.get(cnn_url_twse)\n",
    "        cnn_res.encoding = \"UTF-8\"\n",
    "        cnn_soup = BeautifulSoup(cnn_res.text)\n",
    "        #print(cnn_soup)\n",
    "        cnn_loc_list_o = cnn_soup.find_all(\"loc\")\n",
    "        for l in cnn_loc_list_o:\n",
    "            cn1 = l.contents[0]\n",
    "            cnn_loc_list.append(cn1)\n",
    "\n",
    "for mon in spe_2019_month_count_list:\n",
    "    cnn_url_twse = 'https://edition.cnn.com/sitemaps/article-2019-'+mon+'.xml'\n",
    "    cnn_res = requests.get(cnn_url_twse)\n",
    "    cnn_res.encoding = \"UTF-8\"\n",
    "    cnn_soup = BeautifulSoup(cnn_res.text)\n",
    "    #print(cnn_soup)\n",
    "    cnn_loc_list_o = cnn_soup.find_all(\"loc\")\n",
    "    for l in cnn_loc_list_o:\n",
    "        cn1 = l.contents[0]\n",
    "        cnn_loc_list.append(cn1)\n",
    "#print(year,cnn_loc_list)"
   ]
  },
  {
   "cell_type": "code",
   "execution_count": 46,
   "metadata": {},
   "outputs": [
    {
     "name": "stdout",
     "output_type": "stream",
     "text": [
      "2016/02/14\n"
     ]
    }
   ],
   "source": [
    "import datetime\n",
    "today = datetime.date.today()\n",
    "date_list = []\n",
    "data_size_date = 1180\n",
    "for i in range(1,data_size_date):\n",
    "    date = today - datetime.timedelta(days=i)\n",
    "    date = date.strftime(\"%Y-%m-%d %H:%M:%S\")\n",
    "    str_date = date[0]+date[1]+date[2]+date[3]+\"/\"+date[5]+date[6]+\"/\"+date[8]+date[9]\n",
    "    date_list.append(str_date)\n",
    "print(str_date)\n",
    "brexit_news_list = []\n",
    "brexit_list_day_dict = {}\n",
    "brexit_volca_list_day_dict = {}\n",
    "brexit_pos_neg_volca_list_day_dict = {}\n",
    "brexit_pos_neg_volca_percentage_dict_p = {}\n",
    "brexit_pos_neg_volca_percentage_dict_n = {}\n",
    "brexit_pos_neg_volca_percentage_dict = {}\n",
    "for j in range(data_size_date-1):\n",
    "    brexit_volca_list_day_dict[str(date_list[j])] = []\n",
    "    brexit_pos_neg_volca_list_day_dict[str(date_list[j])] = {'positive':0,'negtive':0}\n",
    "    brexit_pos_neg_volca_percentage_dict_p[str(date_list[j])] = 0\n",
    "    brexit_pos_neg_volca_percentage_dict_n[str(date_list[j])] = 0\n",
    "    brexit_pos_neg_volca_percentage_dict[str(date_list[j])] = []"
   ]
  },
  {
   "cell_type": "markdown",
   "metadata": {},
   "source": [
    "3.將一整串的標題轉換成單一的詞彙\n",
    "將一連串的網址字串轉換成多個詞彙，整理出每天有哪些詞彙"
   ]
  },
  {
   "cell_type": "code",
   "execution_count": 47,
   "metadata": {},
   "outputs": [
    {
     "name": "stdout",
     "output_type": "stream",
     "text": [
      "{'2019/05/07': [], '2019/05/06': [], '2019/05/05': [], '2019/05/04': [], '2019/05/03': [], '2019/05/02': [], '2019/05/01': [], '2019/04/30': [], '2019/04/29': [], '2019/04/28': [], '2019/04/27': [], '2019/04/26': [], '2019/04/25': [], '2019/04/24': [], '2019/04/23': [], '2019/04/22': [], '2019/04/21': [], '2019/04/20': [], '2019/04/19': [], '2019/04/18': [], '2019/04/17': ['intlbrexit', 'scli', 'brexit', 'eu', 'pope', 'thunberg'], '2019/04/16': [], '2019/04/15': [], '2019/04/14': ['intlbrexit', 'gbr', 'break', 'easter', 'brexit', 'may'], '2019/04/13': ['gbrgreta', 'intl', 'analysis', 'mcgee', 'luke'], '2019/04/12': [], '2019/04/11': ['intltheresa', 'gbr', 'commons', 'delay', 'brexit', 'may'], '2019/04/10': ['gbrtheresa', 'intl', 'analysis', 'extension', 'brexit', 'may', 'intltheresa', 'gbr', 'eu', 'delay', 'intlbrexitdelayeusummitgbrintlbrexit', 'gbr', 'contracts', 'mep', 'gbrbrexit', 'intl', 'uk', 'mcgee', 'luke', 'brussels', 'intlbrexit', 'gbr', 'brexit', 'union', 'european'], '2019/04/09': [], '2019/04/08': ['gbrtheresamaybrexitdelaygbrintlmay', 'intl', 'may', 'theresa', 'bill', 'brexit', 'intluk', 'gbr', 'elections', 'parliament', 'european', 'brexit', 'intluk', 'gbr', 'poll', 'brexit', 'leader', 'strong'], '2019/04/07': ['intlhansard', 'gbr', 'gamble', 'brexit', 'may', 'intltheresa', 'gbr', 'brexit', 'mogg', 'rees', 'jacob', 'johnson'], '2019/04/06': ['remarksboris', 'compromise', 'brexit', 'may', 'intltheresa', 'gbr', 'relationship', 'brexit', 'britain', 'intltheresa', 'gbr', 'analysis', 'brexit'], '2019/04/05': ['intlgermany', 'gbr', 'extension', 'brexit', 'may'], '2019/04/04': ['intl', 'gbr', 'optimism', 'of', 'signs', 'may'], '2019/04/03': ['intleurope', 'gbr', 'may', 'theresa', 'cooper', 'yvette', 'bill', 'deal', 'no', 'gbrbrexit', 'intl', 'talks', 'corbyn', 'may', 'vote', 'deal', 'no'], '2019/04/02': ['intlbrexittuesdaygbrintlbrexitwednesdaygbrintlbrexit', 'gbr', 'statement', 'brexit', 'may', 'gbrbrexitindicativevotesmondaygbrintlbrexit', 'intl', 'parliament', 'may', 'theresa'], '2019/04/01': ['gbrtheresa', 'intl', 'analysis', 'mcgee', 'luke', 'intlbrexit', 'gbr', 'parliament', 'votes', 'indicative', 'gbrbrexit', 'intl', '20', 'market', 'common', 'is', 'what', 'intlbrexit', 'gbr', 'betrayal', 'may'], '2019/03/31': [], '2019/03/30': ['intl', 'gbr', 'vote', 'fourth', 'brexit', 'gbrbrexit', 'intl', 'uk', 'election', 'general'], '2019/03/29': ['gbrmay', 'intl', 'vote', 'may', 'theresa', 'london', 'protest', 'gbrbrexitwithdrawaldealvotegbrintlbrexit', 'intl', 'defeated', 'deal', 'brexit', 'may', 'gbrtheresa', 'intl', 'analysis', 'mcgee', 'luke', 'gbrbrexitmayvotegbrintlbrexit', 'intl', 'arrives', 'day', 'intlbrexit', 'gbr', 'next', 'what'], '2019/03/28': ['gbrbrexit', 'intl', 'time', 'everyones', 'of', 'waste', 'a', 'brexit', 'gbr', 'intl', 'ongoing', 'turmoil'], '2019/03/27': ['gbrbrexitparliamentlatestgbrintlis', 'intl', 'brexit', 'at', 'sink', 'kitchen', 'the', 'throwing', 'is', 'gbrbrexit', 'intl', 'brexit', 'may', 'gbrtheresa', 'intl', 'alternative', 'brexit', 'the', 'are', 'intlwhat', 'gbr', 'journey', 'brexit', 'gbrbrexitlatest26marchgbrintlbritain', 'intl', 'bri', 'italy', 'brexit', 'europe'], '2019/03/26': ['intlchina', 'gbr', 'days', 'two', 'votes', 'indicative', 'intlbrexitlatestgbrintlbrexit', 'gbr', 'next', 'happens', 'what', 'gbrbrexit', 'intl', 'scli', 'brexit', 'rights', 'citizens', 'gbreu', 'intl', 'brexit', 'parliament', 'may'], '2019/03/25': ['intltheresa', 'gbr', 'votes', 'indicative', 'intlbrexit', 'gbr', 'parliament', 'may'], '2019/03/24': ['intlbrexit', 'gbr', 'speculation', 'may', 'hammond', 'referendum'], '2019/03/23': ['marcherscond', 'london'], '2019/03/22': ['gbrbrexitlondonmarchgbrintlbrexit', 'intl', 'next', 'what', 'gbrbrexit', 'scli', 'intl', 'may', 'petition', 'brexit', 'gbruk', 'intl', 'weeks', '3', 'years', '3', 'brexit'], '2019/03/21': ['intlbritain', 'gbr', 'eu', 'may', 'theresa', 'delay', 'gbrbrexit', 'intl', 'lifeline', 'brexit', 'may', 'theresa', 'gbrbrexitsummitdelaygbrintleu', 'intl', 'taxi', 'mps', 'attacks', 'related', 'gbrbrexitdelaylatestgbrintlbrexit', 'intl', 'delay', 'may', 'theresa'], '2019/03/20': ['gbrbrexit', 'intl', 'may', 'theresa', 'extension', 'brexit', '50'], '2019/03/19': ['gbrarticle', 'intl', 'analysis', 'close', 'a', 'to', 'coming', 'is', 'one', 'act'], '2019/03/18': ['intlt', 'gbr', 'bercow', 'john', 'may', 'theresa', 'luckybrexit', 'time', 'third', 'vote', 'brexit', 'may'], '2019/03/17': ['intltheresa', 'plea', 'unity'], '2019/03/16': [], '2019/03/15': [], '2019/03/14': ['gbrbrexit', 'intl', 'mcgee', 'luke', 'analysis', 'intlbrexit', 'gbr', 'referendum', 'brexit', 'second', 'extension', '50'], '2019/03/13': ['intlbrexitnodealvoteliveupdatesintlgbrexitdelayarticle50voteliveupdatesintlgbre', 'gbr', 'parliament', 'british', 'brexit', 'deal', 'gbrno', 'intl', 'fishermen', 'black', 'phil', 'whitby', 'gbrbrexit', 'intl', 'thursday', 'analysis', 'mcgee', 'luke', 'gbrbrexit', 'intl', 'analysis', 'vote', 'possible', 'brexit'], '2019/03/12': ['gbrmay', 'intl', 'analysis', 'mcgee', 'luke', 'intlbrexit', 'gbr', 'analysis', 'vote', 'gbrbrexit', 'intl', 'answered', 'questions', 'intlno', 'gbr', 'main', 'vote', 'deal', 'brexit', 'may'], '2019/03/11': ['trndbrexit', 'intl', 'update', 'explainer', 'intlbrexit', 'strasbourg', 'brexit'], '2019/03/10': [], '2019/03/09': ['intltheresamaybrexitvoteliveupdatesintlgbrtheresa', 'gbr', 'promises'], '2019/03/08': [], '2019/03/07': [], '2019/03/06': [], '2019/03/05': [], '2019/03/04': [], '2019/03/03': [], '2019/03/02': [], '2019/03/01': [], '2019/02/28': ['intlbrexit', 'gbr', 'commericials', 'tv', 'deal', 'no'], '2019/02/27': ['gbrbrexit', 'intl', 'mcgee', 'muddy', 'less', 'getting', 'battlefield', 'gbrit', 'intl', 'brexit', 'after', 'happens'], '2019/02/26': ['intlwhat', 'gbr', 'announcement', '50', 'article', 'brexit'], '2019/02/25': ['gbrbrexittheresamayarticle50latestgbrintlmay', 'intl', 'vote', 'public', 'party', 'labour'], '2019/02/24': ['intlbrexit', 'gbr', 'sheikh', 'el', 'sharm', 'may', 'theresa', 'intlbrexit', 'gbr', 'fishing', 'british', 'difficult', 'so', 'brexit', 'is'], '2019/02/23': ['intl', 'gbr', 'warning', 'delay'], '2019/02/22': [], '2019/02/21': [], '2019/02/20': ['gbrbrexit', 'intl', 'confusing', 'is', 'brexit', 'intlconfusing', 'gbr', 'brexit', 'quit', 'mps'], '2019/02/19': ['intlconservative', 'spt', 'one', 'formula', 'brexit', 'mercedes', 'wolff'], '2019/02/18': [], '2019/02/17': [], '2019/02/16': [], '2019/02/15': ['gbrtoto', 'intl', 'may', 'theresa'], '2019/02/14': ['intlbrexit', 'gbr', 'defeat', 'brexit', 'may'], '2019/02/13': ['intltheresa', 'gbr', 'endgame'], '2019/02/12': [], '2019/02/11': [], '2019/02/10': ['intlbrexit', 'gbr', 'brexit', 'deal', 'trade', 'switzerland'], '2019/02/09': ['intluk', 'gbr', 'contract', 'ferry', 'brexit'], '2019/02/08': ['gbruk', 'intl', 'party', 'brexit', 'farage', 'intlnigel', 'gbr', 'pressure', 'brexit', 'congress'], '2019/02/07': ['intlus', 'gbr', 'brexit', 'brussels', 'may', 'intltheresa', 'gbr', 'deal', 'tusk', 'labour', 'stalemate'], '2019/02/06': ['intlbrexit', 'scli', 'gbr', 'hell', 'in', 'place', 'special', 'tusk'], '2019/02/05': [], '2019/02/04': [], '2019/02/03': [], '2019/02/02': [], '2019/02/01': ['intlbrexit', 'gbr', 'brexit', 'travel', 'free'], '2019/01/31': ['gbrbrexit', 'intl', 'happening', 'is', 'intlvisa', 'gbr', 'brexit', 'speaker', 'commons', 'of', 'house', 'bercow'], '2019/01/30': ['intlt', 'gbr', 'eu', 'may', 'b', 'plan'], '2019/01/29': ['intlbrexit', 'gbr', 'brussels', 'of', 'mercy', 'at', 'itself', 'throws', 'uk', 'gbrbrexit', 'intl', 'vote', 'amendments', 'intlbrexit', 'eu', 'may', 'theresa', 'vote', 'amendments', 'intlbrexit', 'brexit', 'kent', 'donation', 'gbrblood', 'intl', 'movement', 'free', 'deal', 'no'], '2019/01/28': [], '2019/01/27': ['intlbrexit', 'gbr', 'dyson', 'brexit', 'model'], '2019/01/26': ['gbrbrexitdealamendmentsvotegbrintlbrexit', 'intl', 'powers', 'vote'], '2019/01/25': ['intlnon', 'gbr', 'mcgee', 'brexit', 'notice', 'not', 'might', 'they', 'and', 'intl', 'gbr', 'ground', 'common', 'speech', 'brexit', 'intlqueen', 'gbr', 'shortages', 'food'], '2019/01/24': [], '2019/01/23': ['intlbrexit', 'gbr', 'police', 'brexit', 'radicalism', 'right'], '2019/01/22': [], '2019/01/21': ['intlfar', 'gbr', 'may', 'theresa', 'fee', 'eu', 'gbrbrexit', 'intl', 'analysis', 'plan', 'brexit', 'may'], '2019/01/20': ['intlbrexit', 'gbr', 'street', 'downing', 'plot', 'lawmakers'], '2019/01/19': ['intlbrexit', 'gbr', 'plot', 'brexit', 'lawmakers'], '2019/01/18': [], '2019/01/17': ['intltheresa', 'gbr', 'may', 'theresa', 'flowchart', 'options', 'intluk', 'gbr', 'standoff', 'opposition', 'battle', 'brexit'], '2019/01/16': ['gbrmay', 'intl', 'brexit', 'vote', 'confidence', 'no', 'may', 'gbrbrexittheresamaydealvotegbrintltheresa', 'intl', 'may', 'theresa', 'intlbrexit', 'gbr', 'vote', 'deal', 'pages', 'front'], '2019/01/15': ['intlbrexit', 'gbr', 'may', 'theresa', 'vote', 'intlbrexit', 'gbr', 'analsyis', 'aftermath', 'vote', 'brexit', 'may', 'intlresa', 'gbr', 'day', 'decision'], '2019/01/14': ['intlbrexit', 'scli', 'gbr', 'brexit', 'delay', 'caesarian', 'siddiq', 'sclitheresa', 'intl', 'gbr', 'preppers', 'stockpile', 'box', 'intlbrexit', 'gbr', 'analysis', 'may', 'brexit', 'intluk', 'gbr', 'vote', 'may', 'theresa', 'brexit'], '2019/01/13': ['gbrlitics', 'intl', 'speech', 'brexit', 'may'], '2019/01/12': ['gbrulip', 'intl', 'britain', 'brexit', 'in', 'well', 'and', 'alive', 'gbrromford', 'intl', 'questions'], '2019/01/11': ['intlbrexit', 'scli', 'gbr', 'security', 'additional', 'shops', 'brexit'], '2019/01/10': [], '2019/01/09': [], '2019/01/08': ['intll', 'gbr', 'deal', 'no', 'oppose', 'ministers', 'uk', 'intlbrexit', 'gbr', 'protesters', 'harassment', 'soubry', 'anna'], '2019/01/07': [], '2019/01/06': [], '2019/01/05': [], '2019/01/04': [], '2019/01/03': ['intlrexit', 'rejected', 'negotiations'], '2019/01/02': [], '2019/01/01': [], '2018/12/31': [], '2018/12/30': ['intluk', 'gbr', '50', '50', 'fox', 'liam', 'deal'], '2018/12/29': [], '2018/12/28': [], '2018/12/27': [], '2018/12/26': [], '2018/12/25': [], '2018/12/24': ['intlbrexit', 'gbr', 'means', 'it', 'what', 'brexit', 'deal'], '2018/12/23': [], '2018/12/22': [], '2018/12/21': ['intlno', 'scli', 'gbr', 'brexit', 'stop', 'boys'], '2018/12/20': [], '2018/12/19': ['gbrbreunion', 'intl', 'deal', 'no', 'brexit'], '2018/12/18': ['gbrtheresa', 'intl', 'plans', 'brexit', 'deal'], '2018/12/17': ['gbrireland', 'intl', 'confidence', 'no', 'corbyn', 'jeremy', 'may', 'intlno', 'may', 'referendum', 'second'], '2018/12/16': [], '2018/12/15': [], '2018/12/14': ['intlbrexit', 'brussels', 'eu', 'may', 'theresa', 'intlbrexit', 'gbr', 'referendum', 'second', 'brexit', 'blair'], '2018/12/13': ['intltony', 'gbr', 'brexit', 'brussels', 'may'], '2018/12/12': ['intltheresa', 'gbr', 'brexit', 'result', 'vote', 'confidence', 'no', 'may', 'intlsa', 'gbr', 'brexit', 'may', 'intlnoconfidencevotebrexitgbrintltheresa', 'gbr', 'brexit', 'vote', 'confidence', 'no', 'may'], '2018/12/11': ['gbrtheresa', 'intl', 'analysis', 'latest', 'gbrnoconfidencevotebrexitgbrintlbrexit', 'intl', 'europe', 'uk', 'may', 'theresa', 'intlbrexit', 'gbr', 'protest', 'uk', 'mace', 'intlbrexit', 'uk', 'may', 'theresa'], '2018/12/10': ['intlbrexit', 'gbr', 'may', 'theresa', 'delay', 'vote', 'intlbrexit', 'gbr', 'ruling', 'eu', '50', 'article'], '2018/12/09': ['intlbrexit', 'gbr', 'may', 'theresa'], '2018/12/08': [], '2018/12/07': ['intlbrexit', 'gbr', 'england', 'matlock', 'intlbrexit', 'scenarios', 'next', 'happens', 'what'], '2018/12/06': [], '2018/12/05': ['intlbrexit', 'gbr', 'advice', 'legal', 'intlbrexit', 'analysis', 'may', 'theresa', 'vote', 'intlbrexit', 'spt', 'wilder', 'fury', 'nigeria', 'brexit', 'boxing'], '2018/12/04': ['intloshua', 'gbr', 'court', 'of', 'contempt', 'advice', 'legal', 'intlbrexit', 'gbr', 'position', 'legal', 'eu', 'uk'], '2018/12/03': ['intlbrexit', 'gbr', 'speech', 'brexit', 'may'], '2018/12/02': ['intltheresa', 'gbr', 'referendum', 'confidence', 'no'], '2018/12/01': [], '2018/11/30': [], '2018/11/29': [], '2018/11/28': [], '2018/11/27': ['intlbrexit', 'analysis', 'gbr', 'brexit'], '2018/11/26': [], '2018/11/25': ['intltrump', 'gbr', 'summit', 'brussels'], '2018/11/24': ['intlbrexit', 'gbr', 'brexit', 'brussels'], '2018/11/23': [], '2018/11/22': ['intlmay', 'gbr', 'relationship', 'future', 'brexit', 'eu', 'scliuk', 'intl', 'gbr', 'stockpiling', 'wine'], '2018/11/21': [], '2018/11/20': ['intlbrexit', 'gbr', 'may', 'veto', 'brexit'], '2018/11/19': [], '2018/11/18': ['intlgibraltar', 'gbr', 'corbyn', 'raab', 'may', 'deal'], '2018/11/17': ['intlbrexit', 'gbr', 'bannon', 'banks', 'intlbrexit', 'gbr', 'chaos', 'week', 'intlsingapore', 'trnd', 'gbr', 'update', 'brexit', 'to', 'guide', 'brits'], '2018/11/16': ['intlbrexit', 'gbr', 'may', 'theresa'], '2018/11/15': ['gbrbrexit', 'intl', 'analysis', 'may', 'theresa', 'gbrbrexit', 'intl', 'takeaways', 'policy', 'key', 'deal', 'intlbrexitlatestgbrintlbrexit', 'gbr', 'plan', 'brexit', 'for', 'fight', 'to', 'vows', 'may', 'intleresa', 'gbr', 'parliament', 'may', 'theresa', 'deal', 'intlbrexit', 'gbr', 'text', 'full', 'agreement', 'draft'], '2018/11/14': ['intlbrexit', 'gbr', 'may', 'cabinet', 'deal', 'intlbrexit', 'gbr', 'statement', 'brexit', 'full', 'may', 'intltheresa', 'latest'], '2018/11/13': ['intlbrexit', 'next', 'what', 'deal', 'intlbrexit', 'reached', 'deal'], '2018/11/12': ['intlbrexit', 'gbr', 'out', 'running', 'time', 'may'], '2018/11/11': [], '2018/11/10': [], '2018/11/09': ['intlbrexit', 'gbr', 'johnson', 'jo', 'brexit'], '2018/11/08': ['intluk', 'scli', 'calais', 'dover', 'raab'], '2018/11/07': [], '2018/11/06': [], '2018/11/05': [], '2018/11/04': ['intlbrexit', 'deal', 'brexit', 'vote', 'leaders'], '2018/11/03': ['intlbusiness', 'varadkar', 'brexit'], '2018/11/02': [], '2018/11/01': ['intlireland', 'investigation', 'banks', 'arron', 'brexit'], '2018/10/31': [], '2018/10/30': [], '2018/10/29': [], '2018/10/28': [], '2018/10/27': [], '2018/10/26': [], '2018/10/25': [], '2018/10/24': [], '2018/10/23': [], '2018/10/22': ['intluk', 'europe', 'uk', 'brexit', 'may'], '2018/10/21': [], '2018/10/20': ['intltheresa', 'march', 'vote', 'peoples'], '2018/10/19': ['intlbrexit', 'analysis', 'negotiations'], '2018/10/18': ['intlbrexit', 'union', 'european'], '2018/10/17': ['intlbrexit', 'summit', 'brexit', 'may'], '2018/10/16': ['intltheresa', 'may', 'theresa', 'brexit', 'eu'], '2018/10/15': [], '2018/10/14': ['intluk', 'uk', 'europe', 'ireland'], '2018/10/13': [], '2018/10/12': [], '2018/10/11': [], '2018/10/10': ['intlbrexit', 'advisers'], '2018/10/09': [], '2018/10/08': [], '2018/10/07': [], '2018/10/06': [], '2018/10/05': [], '2018/10/04': [], '2018/10/03': ['intlbrexit', 'spt', 'boats', 'industry', 'marine', 'british'], '2018/10/02': [], '2018/10/01': [], '2018/09/30': ['intlbrexit', 'festival'], '2018/09/29': [], '2018/09/28': ['intlbrexit', 'analysis', 'go', 'to', 'months', 'six'], '2018/09/27': [], '2018/09/26': [], '2018/09/25': ['intlbrexit', 'referendum', 'second', 'conference', 'labour'], '2018/09/24': [], '2018/09/23': [], '2018/09/22': ['intlbrexit', 'cherries', 'brexit'], '2018/09/21': ['intluk', 'brexit', 'workers', 'seasonal', 'europe', 'intluk', 'statement', 'brexit', 'may'], '2018/09/20': ['intltheresa', 'summit', 'may', 'theresa', 'salzburg'], '2018/09/19': ['intlbrexit', 'may', 'theresa', 'tusk', 'donald', 'salzburg'], '2018/09/18': [], '2018/09/17': [], '2018/09/16': [], '2018/09/15': [], '2018/09/14': [], '2018/09/13': [], '2018/09/12': [], '2018/09/11': [], '2018/09/10': [], '2018/09/09': ['intlbrexit', '', '', 'brexit', 'suicide'], '2018/09/08': [], '2018/09/07': [], '2018/09/06': [], '2018/09/05': [], '2018/09/04': [], '2018/09/03': [], '2018/09/02': ['referendumjohnson', 'may', 'theresa', 'brexit'], '2018/09/01': [], '2018/08/31': [], '2018/08/30': [], '2018/08/29': [], '2018/08/28': ['intluk', 'trip', 'africa', 'brexit', 'may'], '2018/08/27': [], '2018/08/26': [], '2018/08/25': [], '2018/08/24': [], '2018/08/23': [], '2018/08/22': [], '2018/08/21': [], '2018/08/20': [], '2018/08/19': [], '2018/08/18': [], '2018/08/17': [], '2018/08/16': [], '2018/08/15': [], '2018/08/14': [], '2018/08/13': [], '2018/08/12': [], '2018/08/11': [], '2018/08/10': [], '2018/08/09': [], '2018/08/08': [], '2018/08/07': [], '2018/08/06': [], '2018/08/05': ['intltheresa', 'deal', 'no', 'brexit'], '2018/08/04': [], '2018/08/03': [], '2018/08/02': [], '2018/08/01': ['intluk', 'spt', 'europe', 'in', 'back', 'burnley'], '2018/07/31': [], '2018/07/30': [], '2018/07/29': [], '2018/07/28': [], '2018/07/27': [], '2018/07/26': [], '2018/07/25': [], '2018/07/24': [], '2018/07/23': ['intlboris', 'report', 'rights', 'womens'], '2018/07/22': [], '2018/07/21': [], '2018/07/20': [], '2018/07/19': ['intlbrexit', 'ireland', 'northern', 'uk', 'brexit', 'may'], '2018/07/18': ['intltheresa', 'vote', 'brexit', 'mp', 'maternity', 'government'], '2018/07/17': ['intluk', 'may', 'theresa', 'brexit', 'intluk', 'brexit', 'commission', 'election'], '2018/07/16': ['intluk', 'nobilo', 'may', 'theresa'], '2018/07/15': [], '2018/07/14': [], '2018/07/13': [], '2018/07/12': [], '2018/07/11': [], '2018/07/10': ['intlbrexit', 'brexit', 'uk', 'may'], '2018/07/09': ['intltheresa', 'analysis', 'turmoil', 'brexit', 'may'], '2018/07/08': ['resignationtheresa', 'davis', 'david', 'secretary'], '2018/07/07': [], '2018/07/06': [], '2018/07/05': [], '2018/07/04': ['intlbrexit', 'banks', 'arron', 'links', 'russia', 'brexit'], '2018/07/03': [], '2018/07/02': [], '2018/07/01': [], '2018/06/30': [], '2018/06/29': [], '2018/06/28': [], '2018/06/27': [], '2018/06/26': [], '2018/06/25': [], '2018/06/24': [], '2018/06/23': [], '2018/06/22': [], '2018/06/21': [], '2018/06/20': [], '2018/06/19': [], '2018/06/18': [], '2018/06/17': [], '2018/06/16': [], '2018/06/15': [], '2018/06/14': [], '2018/06/13': [], '2018/06/12': [], '2018/06/11': ['intluk', 'vote', 'brexit', 'may'], '2018/06/10': [], '2018/06/09': [], '2018/06/08': ['intltheresa', 'trump', 'brexit', 'johnson'], '2018/06/07': [], '2018/06/06': [], '2018/06/05': [], '2018/06/04': [], '2018/06/03': [], '2018/06/02': [], '2018/06/01': [], '2018/05/31': [], '2018/05/30': [], '2018/05/29': [], '2018/05/28': [], '2018/05/27': [], '2018/05/26': [], '2018/05/25': [], '2018/05/24': [], '2018/05/23': [], '2018/05/22': [], '2018/05/21': [], '2018/05/20': [], '2018/05/19': [], '2018/05/18': [], '2018/05/17': [], '2018/05/16': [], '2018/05/15': [], '2018/05/14': [], '2018/05/13': [], '2018/05/12': [], '2018/05/11': [], '2018/05/10': [], '2018/05/09': [], '2018/05/08': [], '2018/05/07': [], '2018/05/06': [], '2018/05/05': [], '2018/05/04': [], '2018/05/03': [], '2018/05/02': [], '2018/05/01': [], '2018/04/30': [], '2018/04/29': [], '2018/04/28': [], '2018/04/27': [], '2018/04/26': [], '2018/04/25': [], '2018/04/24': [], '2018/04/23': [], '2018/04/22': [], '2018/04/21': [], '2018/04/20': [], '2018/04/19': [], '2018/04/18': ['intlbrexit', 'amanpour', 'syria', 'brexit', 'interview', 'cameron', 'intlvid', 'defeat', 'vote', 'brexit'], '2018/04/17': [], '2018/04/16': [], '2018/04/15': [], '2018/04/14': [], '2018/04/13': [], '2018/04/12': [], '2018/04/11': [], '2018/04/10': [], '2018/04/09': [], '2018/04/08': [], '2018/04/07': [], '2018/04/06': [], '2018/04/05': [], '2018/04/04': [], '2018/04/03': [], '2018/04/02': [], '2018/04/01': [], '2018/03/31': [], '2018/03/30': [], '2018/03/29': ['intluk', 'romford', 'voters', 'leave', 'year', 'one'], '2018/03/28': ['intlbrexit', 'trends', 'search', 'google'], '2018/03/27': ['intlbrexit', 'change', 'language'], '2018/03/26': [], '2018/03/25': [], '2018/03/24': [], '2018/03/23': [], '2018/03/22': [], '2018/03/21': [], '2018/03/20': [], '2018/03/19': ['intlbrexit', 'deal', 'brexit'], '2018/03/18': [], '2018/03/17': [], '2018/03/16': [], '2018/03/15': [], '2018/03/14': ['spteu', 'racing', 'horse', 'book', 'stud'], '2018/03/13': [], '2018/03/12': [], '2018/03/11': [], '2018/03/10': [], '2018/03/09': [], '2018/03/08': [], '2018/03/07': ['intlbrexit', 'racing', 'horse', 'breeding', 'thoroughbred'], '2018/03/06': [], '2018/03/05': [], '2018/03/04': [], '2018/03/03': [], '2018/03/02': [], '2018/03/01': [], '2018/02/28': [], '2018/02/27': [], '2018/02/26': [], '2018/02/25': [], '2018/02/24': ['intlnigel', 'uk', 'tusk', 'brexit'], '2018/02/23': [], '2018/02/22': [], '2018/02/21': [], '2018/02/20': [], '2018/02/19': [], '2018/02/18': [], '2018/02/17': ['intleu', 'brexit', 'may', 'security', 'eu'], '2018/02/16': [], '2018/02/15': [], '2018/02/14': [], '2018/02/13': [], '2018/02/12': [], '2018/02/11': [], '2018/02/10': [], '2018/02/09': [], '2018/02/08': [], '2018/02/07': [], '2018/02/06': [], '2018/02/05': [], '2018/02/04': [], '2018/02/03': [], '2018/02/02': [], '2018/02/01': [], '2018/01/31': [], '2018/01/30': [], '2018/01/29': [], '2018/01/28': [], '2018/01/27': [], '2018/01/26': [], '2018/01/25': [], '2018/01/24': [], '2018/01/23': [], '2018/01/22': [], '2018/01/21': [], '2018/01/20': [], '2018/01/19': [], '2018/01/18': [], '2018/01/17': ['intlbrexit', 'bill', 'withdrawal', 'eu'], '2018/01/16': [], '2018/01/15': [], '2018/01/14': [], '2018/01/13': [], '2018/01/12': [], '2018/01/11': ['intlbrexit', 'referendum', 'brexit', 'second', 'farage'], '2018/01/10': [], '2018/01/09': [], '2018/01/08': [], '2018/01/07': [], '2018/01/06': [], '2018/01/05': [], '2018/01/04': [], '2018/01/03': [], '2018/01/02': [], '2018/01/01': [], '2017/12/31': [], '2017/12/30': [], '2017/12/29': [], '2017/12/28': [], '2017/12/27': [], '2017/12/26': [], '2017/12/25': [], '2017/12/24': [], '2017/12/23': [], '2017/12/22': [], '2017/12/21': ['brexitbrexit', 'talks', 'bjorn', 'thomas', 'captain', 'cup', 'ryder'], '2017/12/20': [], '2017/12/19': [], '2017/12/18': [], '2017/12/17': ['intlopes', 'negotiations', 'brexit', 'may'], '2017/12/16': [], '2017/12/15': ['maytheresa', 'juncker'], '2017/12/14': ['intlbrexit', 'council', 'eu', 'brexit'], '2017/12/13': ['voteuk', 'brexit', 'minister', 'prime'], '2017/12/12': [], '2017/12/11': [], '2017/12/10': [], '2017/12/09': [], '2017/12/08': ['britainbritish', 'may', 'theresa'], '2017/12/07': [], '2017/12/06': [], '2017/12/05': ['intlbrexit', 'trouble', 'may', 'theresa'], '2017/12/04': ['intlbrexit', 'may', 'theresa', 'border', 'irish', 'talks', 'intlbrexit', 'border', 'ireland', 'northern'], '2017/12/03': ['intlbrexit', 'luck', 'may', 'theresa'], '2017/12/02': [], '2017/12/01': [], '2017/11/30': [], '2017/11/29': [], '2017/11/28': [], '2017/11/27': [], '2017/11/26': ['maybrexit', 'theresa', 'border', 'ireland'], '2017/11/25': [], '2017/11/24': [], '2017/11/23': [], '2017/11/22': [], '2017/11/21': [], '2017/11/20': [], '2017/11/19': [], '2017/11/18': [], '2017/11/17': [], '2017/11/16': [], '2017/11/15': [], '2017/11/14': [], '2017/11/13': [], '2017/11/12': [], '2017/11/11': [], '2017/11/10': ['talksbrexit', 'eu', 'uk'], '2017/11/09': [], '2017/11/08': [], '2017/11/07': [], '2017/11/06': [], '2017/11/05': [], '2017/11/04': [], '2017/11/03': [], '2017/11/02': [], '2017/11/01': [], '2017/10/31': [], '2017/10/30': [], '2017/10/29': [], '2017/10/28': [], '2017/10/27': [], '2017/10/26': [], '2017/10/25': [], '2017/10/24': ['eubrexit', 'tusk', 'donald'], '2017/10/23': [], '2017/10/22': [], '2017/10/21': [], '2017/10/20': ['maybrexit', 'merkel', 'council', 'european', 'talks'], '2017/10/19': [], '2017/10/18': [], '2017/10/17': [], '2017/10/16': [], '2017/10/15': [], '2017/10/14': [], '2017/10/13': [], '2017/10/12': [], '2017/10/11': [], '2017/10/10': [], '2017/10/09': [], '2017/10/08': [], '2017/10/07': [], '2017/10/06': [], '2017/10/05': [], '2017/10/04': [], '2017/10/03': [], '2017/10/02': [], '2017/10/01': [], '2017/09/30': [], '2017/09/29': [], '2017/09/28': [], '2017/09/27': [], '2017/09/26': [], '2017/09/25': [], '2017/09/24': [], '2017/09/23': [], '2017/09/22': [], '2017/09/21': ['florencetheresa', 'speech', 'brexit', 'may'], '2017/09/20': [], '2017/09/19': [], '2017/09/18': [], '2017/09/17': [], '2017/09/16': [], '2017/09/15': [], '2017/09/14': [], '2017/09/13': ['brexitbrexit', 'eu'], '2017/09/12': [], '2017/09/11': ['votejuncker', 'bill', 'withdrawal'], '2017/09/10': [], '2017/09/09': [], '2017/09/08': [], '2017/09/07': ['returnsbrexit', 'parliament', 'may', 'theresa'], '2017/09/06': [], '2017/09/05': [], '2017/09/04': [], '2017/09/03': [], '2017/09/02': [], '2017/09/01': [], '2017/08/31': [], '2017/08/30': [], '2017/08/29': [], '2017/08/28': [], '2017/08/27': [], '2017/08/26': [], '2017/08/25': ['papersuk', 'position', 'government', 'uk'], '2017/08/24': [], '2017/08/23': [], '2017/08/22': [], '2017/08/21': [], '2017/08/20': [], '2017/08/19': [], '2017/08/18': [], '2017/08/17': [], '2017/08/16': [], '2017/08/15': [], '2017/08/14': [], '2017/08/13': [], '2017/08/12': [], '2017/08/11': ['chapmanbrexit', 'james', 'stopped', 'be', 'brexit'], '2017/08/10': [], '2017/08/09': [], '2017/08/08': [], '2017/08/07': [], '2017/08/06': [], '2017/08/05': [], '2017/08/04': [], '2017/08/03': [], '2017/08/02': [], '2017/08/01': ['splitscould', 'government', 'british', 'brexit', 'may'], '2017/07/31': ['movementbrexit', 'free', 'may'], '2017/07/30': [], '2017/07/29': [], '2017/07/28': [], '2017/07/27': ['movementbrexit', 'free', 'immigration'], '2017/07/26': [], '2017/07/25': [], '2017/07/24': [], '2017/07/23': [], '2017/07/22': [], '2017/07/21': [], '2017/07/20': [], '2017/07/19': [], '2017/07/18': [], '2017/07/17': [], '2017/07/16': [], '2017/07/15': [], '2017/07/14': [], '2017/07/13': [], '2017/07/12': [], '2017/07/11': [], '2017/07/10': ['nationalsbrexit', 'eu'], '2017/07/09': [], '2017/07/08': [], '2017/07/07': [], '2017/07/06': [], '2017/07/05': [], '2017/07/04': [], '2017/07/03': [], '2017/07/02': [], '2017/07/01': [], '2017/06/30': [], '2017/06/29': [], '2017/06/28': [], '2017/06/27': [], '2017/06/26': [], '2017/06/25': [], '2017/06/24': [], '2017/06/23': ['maymay', 'brexit', 'nationals'], '2017/06/22': ['rightseu', 'brexit', 'may'], '2017/06/21': ['trndtheresa', 'brexit', 'hat', 'speech'], '2017/06/20': [], '2017/06/19': [], '2017/06/18': [], '2017/06/17': [], '2017/06/16': ['beginqueen', 'talks'], '2017/06/15': [], '2017/06/14': [], '2017/06/13': ['barnierbrexit', 'michel', 'may', 'theresa', 'brexit', 'mayeu', 'theresa', 'barnier', 'eu'], '2017/06/12': [], '2017/06/11': [], '2017/06/10': ['talksbrexit', 'for', 'ready', 'eu', 'merkel'], '2017/06/09': [], '2017/06/08': [], '2017/06/07': [], '2017/06/06': [], '2017/06/05': [], '2017/06/04': [], '2017/06/03': [], '2017/06/02': [], '2017/06/01': [], '2017/05/31': [], '2017/05/30': [], '2017/05/29': [], '2017/05/28': [], '2017/05/27': [], '2017/05/26': [], '2017/05/25': [], '2017/05/24': [], '2017/05/23': [], '2017/05/22': [], '2017/05/21': [], '2017/05/20': [], '2017/05/19': [], '2017/05/18': [], '2017/05/17': [], '2017/05/16': [], '2017/05/15': [], '2017/05/14': [], '2017/05/13': [], '2017/05/12': [], '2017/05/11': [], '2017/05/10': [], '2017/05/09': [], '2017/05/08': [], '2017/05/07': [], '2017/05/06': [], '2017/05/05': ['resultsgibraltar', 'election', 'may', 'theresa'], '2017/05/04': [], '2017/05/03': ['eubrexit', 'election', 'brexit'], '2017/05/02': ['disastermay', 'dinner', 'brexit', 'juncker'], '2017/05/01': [], '2017/04/30': [], '2017/04/29': ['ukbrexit', 'summit', 'eu'], '2017/04/28': ['irelandbrexit', 'uk', 'eu'], '2017/04/27': ['ukbrexit', 'merkel', 'germany'], '2017/04/26': [], '2017/04/25': ['partybrexit', 'labour', 'uk'], '2017/04/24': [], '2017/04/23': [], '2017/04/22': [], '2017/04/21': [], '2017/04/20': [], '2017/04/19': [], '2017/04/18': [], '2017/04/17': [], '2017/04/16': [], '2017/04/15': [], '2017/04/14': [], '2017/04/13': [], '2017/04/12': ['reportbrexit', 'crash', 'website'], '2017/04/11': [], '2017/04/10': [], '2017/04/09': [], '2017/04/08': [], '2017/04/07': [], '2017/04/06': [], '2017/04/05': [], '2017/04/04': [], '2017/04/03': ['brexitbrexit', 'spain', 'britain'], '2017/04/02': [], '2017/04/01': [], '2017/03/31': ['tradeuk', 'brexit', 'uk'], '2017/03/30': ['lawseu', 'eu', 'bill', 'repeal', 'great'], '2017/03/29': ['securitybrexit', 'may', 'theresa', '50', 'article', 'herebrexit', 'got', 'we', 'how', 'eubrexit', 'may', 'theresa', 'brexit', '50', 'listarticle', 'do', 'to', '50', 'article', 'viewsbrexit', 'brexit', 'brexiteurope', 'letter', '50'], '2017/03/28': ['brexitarticle', '50', 'mayarticle', 'sturgeon', 'brexit', 'mail'], '2017/03/27': [], '2017/03/26': [], '2017/03/25': ['marchdaily', 'brexit', 'anti'], '2017/03/24': [], '2017/03/23': [], '2017/03/22': [], '2017/03/21': [], '2017/03/20': ['uklondon', 'juncker', 'eu'], '2017/03/19': [], '2017/03/18': [], '2017/03/17': [], '2017/03/16': ['brexitbrexit', 'sturgeon', 'nicola', 'referendum', 'scottish', 'may', '50a', 'article', 'eu', 'assent', 'royal'], '2017/03/15': ['eubrexit', 'may', 'theresa'], '2017/03/14': ['sturgeonbrexit', 'nicola', 'may', 'theresa', '50', 'article'], '2017/03/13': ['parliamentbrexit', '50', 'article'], '2017/03/12': ['scenariobrexit', 'deal', 'no', 'may', 'theresa'], '2017/03/11': [], '2017/03/10': [], '2017/03/09': ['referendumbrexit', 'scotland', 'brexit', 'sturgeon'], '2017/03/08': [], '2017/03/07': [], '2017/03/06': [], '2017/03/05': [], '2017/03/04': [], '2017/03/03': ['independencenicola', 'brexit', 'scotland', 'may'], '2017/03/02': [], '2017/03/01': ['lordsuk', 'of', 'house', 'bill'], '2017/02/28': [], '2017/02/27': [], '2017/02/26': [], '2017/02/25': [], '2017/02/24': [], '2017/02/23': [], '2017/02/22': [], '2017/02/21': ['billbrexit', 'brexit', 'debates'], '2017/02/20': [], '2017/02/19': [], '2017/02/18': [], '2017/02/17': ['speechlords', 'brexit', 'blair'], '2017/02/16': [], '2017/02/15': [], '2017/02/14': [], '2017/02/13': [], '2017/02/12': [], '2017/02/11': [], '2017/02/10': [], '2017/02/09': [], '2017/02/08': ['50tony', 'article', 'vote', 'parliament', 'bill'], '2017/02/07': [], '2017/02/06': [], '2017/02/05': [], '2017/02/04': [], '2017/02/03': [], '2017/02/02': ['paperbrexit', 'white'], '2017/02/01': ['votebrexit', 'parliament', 'brexit', '50', 'debatearticle', 'bill', 'brexit'], '2017/01/31': ['debatebrexit', 'bill'], '2017/01/30': [], '2017/01/29': [], '2017/01/28': [], '2017/01/27': [], '2017/01/26': ['publishedbrexit', 'bill', '50', 'article'], '2017/01/25': ['maybrexit', 'theresa', 'paper', 'white'], '2017/01/24': ['threatsbrexit', 'brexit', 'miller', 'rulinggina', 'court', 'supreme', '50', 'article'], '2017/01/23': [], '2017/01/22': [], '2017/01/21': [], '2017/01/20': [], '2017/01/19': [], '2017/01/18': [], '2017/01/17': [], '2017/01/16': [], '2017/01/15': ['maybrexit', 'theresa', 'uk'], '2017/01/14': [], '2017/01/13': [], '2017/01/12': [], '2017/01/11': [], '2017/01/10': [], '2017/01/09': [], '2017/01/08': [], '2017/01/07': [], '2017/01/06': [], '2017/01/05': [], '2017/01/04': [], '2017/01/03': [], '2017/01/02': [], '2017/01/01': [], '2016/12/31': [], '2016/12/30': [], '2016/12/29': [], '2016/12/28': [], '2016/12/27': [], '2016/12/26': [], '2016/12/25': [], '2016/12/24': [], '2016/12/23': [], '2016/12/22': [], '2016/12/21': [], '2016/12/20': [], '2016/12/19': ['pollbrexit', 'brexit'], '2016/12/18': [], '2016/12/17': [], '2016/12/16': [], '2016/12/15': [], '2016/12/14': [], '2016/12/13': [], '2016/12/12': [], '2016/12/11': [], '2016/12/10': [], '2016/12/09': [], '2016/12/08': [], '2016/12/07': [], '2016/12/06': ['barniercnn', 'michel', 'negotiations', 'brexit'], '2016/12/05': ['challengeeu', 'court', '50', 'article'], '2016/12/04': [], '2016/12/03': [], '2016/12/02': [], '2016/12/01': [], '2016/11/30': [], '2016/11/29': [], '2016/11/28': [], '2016/11/27': [], '2016/11/26': [], '2016/11/25': [], '2016/11/24': [], '2016/11/23': [], '2016/11/22': [], '2016/11/21': [], '2016/11/20': [], '2016/11/19': [], '2016/11/18': [], '2016/11/17': [], '2016/11/16': [], '2016/11/15': [], '2016/11/14': [], '2016/11/13': [], '2016/11/12': [], '2016/11/11': [], '2016/11/10': [], '2016/11/09': [], '2016/11/08': ['casebritain', 'legal', 'scotland'], '2016/11/07': [], '2016/11/06': [], '2016/11/05': ['threatsbrexit', 'miller', 'gina'], '2016/11/04': ['reactionbrexit', 'brexit', 'rulingeurope', 'court', 'high', 'process', 'dictionarybrexit', 'collins', 'year', 'the', 'of', 'word'], '2016/11/03': ['50brexit', 'article', 'brexit', 'miller', 'rulinggina', 'court', 'cheated', 'voters', 'leave'], '2016/11/02': [], '2016/11/01': [], '2016/10/31': [], '2016/10/30': [], '2016/10/29': [], '2016/10/28': ['brexituk', 'bribes', 'jacobson', 'miles', 'manager'], '2016/10/27': [], '2016/10/26': [], '2016/10/25': [], '2016/10/24': [], '2016/10/23': [], '2016/10/22': [], '2016/10/21': [], '2016/10/20': [], '2016/10/19': [], '2016/10/18': [], '2016/10/17': [], '2016/10/16': ['columnfootball', 'eu', 'johnson', 'boris', 'brexit'], '2016/10/15': [], '2016/10/14': [], '2016/10/13': [], '2016/10/12': [], '2016/10/11': [], '2016/10/10': [], '2016/10/09': [], '2016/10/08': [], '2016/10/07': [], '2016/10/06': [], '2016/10/05': [], '2016/10/04': [], '2016/10/03': [], '2016/10/02': [], '2016/10/01': [], '2016/09/30': ['daysbrexit', '100', 'news'], '2016/09/29': [], '2016/09/28': [], '2016/09/27': [], '2016/09/26': [], '2016/09/25': [], '2016/09/24': [], '2016/09/23': [], '2016/09/22': [], '2016/09/21': [], '2016/09/20': [], '2016/09/19': [], '2016/09/18': [], '2016/09/17': [], '2016/09/16': [], '2016/09/15': [], '2016/09/14': [], '2016/09/13': [], '2016/09/12': [], '2016/09/11': [], '2016/09/10': [], '2016/09/09': [], '2016/09/08': [], '2016/09/07': ['romfordbrexit', 'migrants', 'eu'], '2016/09/06': [], '2016/09/05': [], '2016/09/04': ['maybrexit', 'brexit'], '2016/09/03': [], '2016/09/02': [], '2016/09/01': [], '2016/08/31': [], '2016/08/30': [], '2016/08/29': [], '2016/08/28': [], '2016/08/27': [], '2016/08/26': [], '2016/08/25': [], '2016/08/24': [], '2016/08/23': [], '2016/08/22': [], '2016/08/21': [], '2016/08/20': [], '2016/08/19': [], '2016/08/18': [], '2016/08/17': [], '2016/08/16': [], '2016/08/15': [], '2016/08/14': [], '2016/08/13': [], '2016/08/12': [], '2016/08/11': [], '2016/08/10': [], '2016/08/09': [], '2016/08/08': [], '2016/08/07': [], '2016/08/06': [], '2016/08/05': [], '2016/08/04': [], '2016/08/03': [], '2016/08/02': [], '2016/08/01': [], '2016/07/31': [], '2016/07/30': [], '2016/07/29': [], '2016/07/28': [], '2016/07/27': [], '2016/07/26': ['onbrexit', 'month', 'one', 'romford'], '2016/07/25': [], '2016/07/24': [], '2016/07/23': [], '2016/07/22': [], '2016/07/21': [], '2016/07/20': [], '2016/07/19': ['yearbrexit', 'of', 'end', 'before', 'brexit', 'trigger', 'not', 'will', 'leagueuk', 'premier', 'english', 'on', 'effect'], '2016/07/18': [], '2016/07/17': [], '2016/07/16': [], '2016/07/15': ['votersbrexit', 'remain', 'leave', 'brexit'], '2016/07/14': ['nextromford', 'whats', 'brexit'], '2016/07/13': [], '2016/07/12': [], '2016/07/11': [], '2016/07/10': [], '2016/07/09': ['petitionbritain', 'eu', 'britain'], '2016/07/08': ['crimesbrexit', 'hate', 'britain'], '2016/07/07': ['votebrexit', 'conservatives', 'britain'], '2016/07/06': [], '2016/07/05': [], '2016/07/04': ['brexitbrexit', 'ukip', 'resign'], '2016/07/03': [], '2016/07/02': ['londonbrexit', 'europe', 'march'], '2016/07/01': ['ministerfarage', 'prime', 'britain', 'adsbrexit', 'unused', 'attacksbrexit', 'racist', 'onbrexit', 'week', 'one', 'mediabrexit', 'social', 'britain'], '2016/06/30': [], '2016/06/29': ['referendumuk', 'eu', 'brexit', 'racismuk', 'population', 'immigrant', 'uk'], '2016/06/28': ['referendumbrexit', 'eu', 'brexit'], '2016/06/27': ['brexituk', 'on', 'up', 'inevitablecatch', 'brexit', 'brexitbritain', 'post', 'attacks', 'hullracist', 'brexit', 'johnsonhappy', 'boris', 'corbyn', 'jeremy', 'brexit', 'chanceuk', 'putin', 'eu'], '2016/06/26': ['corbynbrexit', 'labour', 'brexit'], '2016/06/25': ['meetbrexit', 'leaders', 'eu'], '2016/06/24': ['brexituk', 'on', 'up', 'guidecatch', 'visual', 'referendum', 'eu', 'votebrexit', 'brexit', 'after', 'passports', 'irish', 'for', 'search', 'ideaits', 'good', 'britain', 'robertsonbrexit', 'aftermath', 'eubrexit', 'leave', 'to', 'steps', 'happenedbrexit', 'hell', 'the', 'what', 'reactionbrexit', 'brexit', 'referendum'], '2016/06/23': [], '2016/06/22': ['peopleuk', 'eu', 'britain', 'londonbrexit', 'tattoo', 'racistbrexit', 'immigration'], '2016/06/21': ['robertsonbrexit', 'debate', 'security'], '2016/06/20': ['europeansbrexit', 'referendumbrexit', 'eu', 'brexit'], '2016/06/19': ['resumebrexit', 'campaigns', 'brexit'], '2016/06/18': [], '2016/06/17': [], '2016/06/16': ['referendumbritain', 'immigration', 'britain'], '2016/06/15': [], '2016/06/14': [], '2016/06/13': [], '2016/06/12': [], '2016/06/11': ['curryuk', 'referendum', 'eu', 'britain'], '2016/06/10': [], '2016/06/09': [], '2016/06/08': ['referendumbrexit', 'brexit'], '2016/06/07': ['registrationuk', 'voter', 'referendum', 'eu'], '2016/06/06': [], '2016/06/05': [], '2016/06/04': [], '2016/06/03': [], '2016/06/02': [], '2016/06/01': [], '2016/05/31': [], '2016/05/30': ['migrantsuk', 'albanian', 'brexit'], '2016/05/29': [], '2016/05/28': [], '2016/05/27': [], '2016/05/26': [], '2016/05/25': [], '2016/05/24': [], '2016/05/23': ['brexitbritain'], '2016/05/22': [], '2016/05/21': [], '2016/05/20': [], '2016/05/19': [], '2016/05/18': [], '2016/05/17': [], '2016/05/16': [], '2016/05/15': [], '2016/05/14': [], '2016/05/13': ['songturkey', 'uk', 'brexit'], '2016/05/12': [], '2016/05/11': [], '2016/05/10': [], '2016/05/09': ['speecheurovision', 'cameron', 'brexit'], '2016/05/08': [], '2016/05/07': [], '2016/05/06': [], '2016/05/05': [], '2016/05/04': [], '2016/05/03': [], '2016/05/02': [], '2016/05/01': [], '2016/04/30': [], '2016/04/29': [], '2016/04/28': [], '2016/04/27': [], '2016/04/26': [], '2016/04/25': ['migrationhollande', 'campaign', 'brexit'], '2016/04/24': [], '2016/04/23': [], '2016/04/22': [], '2016/04/21': [], '2016/04/20': [], '2016/04/19': [], '2016/04/18': [], '2016/04/17': [], '2016/04/16': [], '2016/04/15': [], '2016/04/14': [], '2016/04/13': ['brituk', 'a', 'hug', 'brexit'], '2016/04/12': [], '2016/04/11': [], '2016/04/10': [], '2016/04/09': [], '2016/04/08': [], '2016/04/07': [], '2016/04/06': [], '2016/04/05': [], '2016/04/04': [], '2016/04/03': [], '2016/04/02': [], '2016/04/01': [], '2016/03/31': [], '2016/03/30': [], '2016/03/29': [], '2016/03/28': [], '2016/03/27': [], '2016/03/26': [], '2016/03/25': [], '2016/03/24': [], '2016/03/23': [], '2016/03/22': [], '2016/03/21': [], '2016/03/20': [], '2016/03/19': [], '2016/03/18': [], '2016/03/17': [], '2016/03/16': [], '2016/03/15': [], '2016/03/14': [], '2016/03/13': [], '2016/03/12': [], '2016/03/11': [], '2016/03/10': ['cameronukcamerontuskbrexittalksbritain', 'brexit', 'queen'], '2016/03/09': ['neutralityuk', 'brexit', 'reportroyal', 'brexit', 'queen'], '2016/03/08': [], '2016/03/07': [], '2016/03/06': [], '2016/03/05': [], '2016/03/04': ['consequencesuk', 'brexit'], '2016/03/03': [], '2016/03/02': [], '2016/03/01': [], '2016/02/29': [], '2016/02/28': [], '2016/02/27': [], '2016/02/26': [], '2016/02/25': [], '2016/02/24': [], '2016/02/23': [], '2016/02/22': ['brexit', 'eu', 'johnson', 'boris'], '2016/02/21': ['brexitbritain', 'eu', 'johnson', 'boris'], '2016/02/20': [], '2016/02/19': [], '2016/02/18': [], '2016/02/17': [], '2016/02/16': [], '2016/02/15': [], '2016/02/14': []}\n"
     ]
    }
   ],
   "source": [
    "#找出有那些新聞與脫歐有關\n",
    "brexit_news_list = []\n",
    "brexit_total_volca_list = []\n",
    "for addr in cnn_loc_list:\n",
    "    if 'brexit' in addr:\n",
    "        brexit_news_list.append(addr)\n",
    "#print(brexit_news_list)\n",
    "volca = str()\n",
    "for addr in brexit_news_list:\n",
    "    str(addr)\n",
    "    #print(addr)\n",
    "    for c in range(12,60):\n",
    "        c = c*-1\n",
    "        #print(c)\n",
    "        addr_alp = addr[c]\n",
    "        if addr_alp != \"/\":\n",
    "            if addr_alp != \"-\":\n",
    "                volca += addr_alp\n",
    "                #print(volca)\n",
    "            if addr_alp == \"-\":\n",
    "                for s in brexit_volca_list_day_dict:\n",
    "                    if s in addr:\n",
    "                        volca = volca[::-1]\n",
    "                        brexit_volca_list_day_dict[s].append(volca)\n",
    "                        brexit_total_volca_list.append(volca)\n",
    "                        volca = str()\n",
    "        if addr_alp == \"/\":\n",
    "            break\n",
    "print(brexit_volca_list_day_dict)"
   ]
  },
  {
   "cell_type": "markdown",
   "metadata": {},
   "source": [
    "3.找出最常出現的詞彙\n",
    "使用collections.Counter找出最常出現的四十個關鍵詞"
   ]
  },
  {
   "cell_type": "code",
   "execution_count": 48,
   "metadata": {},
   "outputs": [
    {
     "name": "stdout",
     "output_type": "stream",
     "text": [
      "[('brexit', 166), ('gbr', 108), ('may', 99), ('intlbrexit', 87), ('intl', 65), ('theresa', 48), ('eu', 38), ('vote', 26), ('deal', 25), ('uk', 21), ('gbrbrexit', 21), ('intltheresa', 20), ('analysis', 20), ('intluk', 18), ('50', 17), ('no', 13), ('referendum', 12), ('britain', 12), ('article', 12), ('bill', 10), ('parliament', 10), ('mcgee', 9), ('what', 8), ('of', 8), ('scli', 8), ('europe', 7), ('brussels', 7), ('delay', 7), ('luke', 7), ('johnson', 6), ('to', 6), ('gbrtheresa', 6), ('is', 6), ('labour', 5), ('eubrexit', 5), ('one', 5), ('brexitbrexit', 5), ('maybrexit', 5), ('court', 5), ('speech', 5)]\n",
      "['brexit', 'gbr', 'may', 'intlbrexit', 'intl', 'theresa', 'eu', 'vote', 'deal', 'uk', 'gbrbrexit', 'intltheresa', 'analysis', 'intluk', '50', 'no', 'referendum', 'britain', 'article', 'bill', 'parliament', 'mcgee', 'what', 'of', 'scli', 'europe', 'brussels', 'delay', 'luke', 'johnson', 'to', 'gbrtheresa', 'is', 'labour', 'eubrexit', 'one', 'brexitbrexit', 'maybrexit', 'court', 'speech']\n"
     ]
    }
   ],
   "source": [
    "from collections import Counter\n",
    "brexit_volca_count_list = Counter(brexit_total_volca_list).most_common(40)\n",
    "brexit_important_volca_count_list =  [key for key, _ in Counter(brexit_total_volca_list).most_common(40)]\n",
    "print(brexit_volca_count_list)\n",
    "print(brexit_important_volca_count_list)"
   ]
  },
  {
   "cell_type": "markdown",
   "metadata": {},
   "source": [
    "4.人工判定正面及負面詞彙\n",
    "先從上述資訊，用人工判定那些可能為正面及負面的關鍵詞，並製作成list"
   ]
  },
  {
   "cell_type": "code",
   "execution_count": 49,
   "metadata": {},
   "outputs": [],
   "source": [
    "positive_words_list = []\n",
    "negtive_words_list = []\n",
    "count_list = []\n",
    "count_list_num = []\n",
    "count_list_num_p = []\n",
    "count_list_num_n = []\n",
    "count_list_per_p = []\n",
    "count_list_per_n = []\n",
    "positive_words_list_1 = [ 'deal', 'intltheresa', 'analysis', 'intluk', 'eu', 'uk','mcgee', 'scli', 'referendum', 'brussels', 'parliament']\n",
    "negtive_words_list_1 = ['brexit', 'gbr', 'intlbrexit', 'may', 'intl', 'theresa', 'vote', 'gbrbrexit','no','what', 'delay', 'luke', 'europe']\n",
    "\n",
    "        \n"
   ]
  },
  {
   "cell_type": "markdown",
   "metadata": {},
   "source": [
    "5.計算每天正負詞彙量的比例和次數\n",
    "準備KMEANS分析的資料，統整每天出現的正負詞彙數量，並計算出正負面詞彙分別佔當天重要詞彙的比例"
   ]
  },
  {
   "cell_type": "code",
   "execution_count": 50,
   "metadata": {},
   "outputs": [],
   "source": [
    "for d in date_list:\n",
    "    voc_list = brexit_volca_list_day_dict[str(d)]\n",
    "    pos_num = 0\n",
    "    neg_num = 0\n",
    "    percentage_of_d_p = 0\n",
    "    percentage_of_d_n = 0\n",
    "    for pos_wo in positive_words_list_1:\n",
    "        if pos_wo in voc_list:\n",
    "            pos_num+=1\n",
    "    for neg_wo in negtive_words_list_1:\n",
    "        if neg_wo in voc_list:\n",
    "            neg_num +=1\n",
    "    if pos_num+neg_num != 0:\n",
    "        percentage_of_d_p = pos_num/(pos_num+neg_num)\n",
    "        percentage_of_d_n = neg_num/(pos_num+neg_num)\n",
    "        count_list.append([percentage_of_d_p,percentage_of_d_n])\n",
    "        count_list_num.append([pos_num,neg_num])\n",
    "        count_list_num_p.append(pos_num)\n",
    "        count_list_num_n.append(neg_num)\n",
    "        count_list_per_p.append(percentage_of_d_p)\n",
    "        count_list_per_n.append(percentage_of_d_n)\n",
    "    else:\n",
    "        count_list.append([0,0])\n",
    "        count_list_num.append([0,0])\n",
    "        count_list_num_p.append(0)\n",
    "        count_list_num_n.append(0)\n",
    "        count_list_per_p.append(0)\n",
    "        count_list_per_n.append(0)\n",
    "    brexit_pos_neg_volca_percentage_dict_p[str(d)] = percentage_of_d_p\n",
    "    brexit_pos_neg_volca_percentage_dict_n[str(d)] = percentage_of_d_n\n",
    "    brexit_pos_neg_volca_percentage_dict[str(d)] = ([percentage_of_d_p,percentage_of_d_n])\n",
    "#print(brexit_pos_neg_volca_percentage_dict_n)\n",
    "#print(brexit_pos_neg_volca_percentage_dict)\n",
    "#print(count_list)    "
   ]
  },
  {
   "cell_type": "markdown",
   "metadata": {},
   "source": [
    "6.決定分群數量\n",
    "使用metrics.silhouette_score決定分群數量，可知差異有限但分成十群效果可能最好。然而此處為了方便操作先以三群為試驗。"
   ]
  },
  {
   "cell_type": "code",
   "execution_count": 51,
   "metadata": {},
   "outputs": [
    {
     "data": {
      "image/png": "[encoded data removed]",
      "text/plain": [
       "<Figure size 432x288 with 1 Axes>"
      ]
     },
     "metadata": {},
     "output_type": "display_data"
    },
    {
     "name": "stdout",
     "output_type": "stream",
     "text": [
      "[0.9040654814641875, 0.9341259700994001, 0.9602874358217464, 0.9703935990206162, 0.973345522791878, 0.9775885182957509, 0.9837031961031056, 0.9900327991967183, 0.990234949462478]\n"
     ]
    }
   ],
   "source": [
    "from sklearn import cluster, datasets, metrics\n",
    "import matplotlib.pyplot as plt\n",
    "\n",
    "# 迴圈\n",
    "silhouette_avgs = []\n",
    "ks = range(2, 11)\n",
    "for k in ks:\n",
    "    kmeans_fit = cluster.KMeans(n_clusters = k).fit(count_list)\n",
    "    cluster_labels = kmeans_fit.labels_\n",
    "    silhouette_avg = metrics.silhouette_score(count_list, cluster_labels)\n",
    "    silhouette_avgs.append(silhouette_avg)\n",
    "\n",
    "# 作圖並印出 k = 2 到 10 的績效\n",
    "plt.bar(ks, silhouette_avgs)\n",
    "plt.show()\n",
    "print(silhouette_avgs)"
   ]
  },
  {
   "cell_type": "code",
   "execution_count": 52,
   "metadata": {},
   "outputs": [
    {
     "name": "stdout",
     "output_type": "stream",
     "text": [
      "分群結果：\n",
      "[0 0 0 ... 0 0 0]\n"
     ]
    }
   ],
   "source": [
    "from sklearn import cluster, datasets\n",
    "kmeans_fit = cluster.KMeans(n_clusters = 10).fit(count_list)\n",
    "cluster_labels = kmeans_fit.labels_\n",
    "print(\"分群結果：\")\n",
    "print(cluster_labels)"
   ]
  },
  {
   "cell_type": "code",
   "execution_count": 53,
   "metadata": {},
   "outputs": [
    {
     "data": {
      "image/png": "[encoded data removed]",
      "text/plain": [
       "<Figure size 432x288 with 1 Axes>"
      ]
     },
     "metadata": {},
     "output_type": "display_data"
    },
    {
     "name": "stdout",
     "output_type": "stream",
     "text": [
      "[0.8743736199870801, 0.8747904940626346, 0.8578992857222323, 0.8908794940944141, 0.8926448417823523, 0.9061572937925135, 0.9153096188286591, 0.926572294501622, 0.9445089737584789]\n",
      "分群結果：\n",
      "[0 0 0 ... 0 0 0]\n"
     ]
    }
   ],
   "source": [
    "from sklearn import cluster, datasets, metrics\n",
    "import matplotlib.pyplot as plt\n",
    "\n",
    "# 迴圈\n",
    "silhouette_avgs = []\n",
    "ks = range(2, 11)\n",
    "for k in ks:\n",
    "    kmeans_fit = cluster.KMeans(n_clusters = k).fit(count_list_num)\n",
    "    cluster_labels = kmeans_fit.labels_\n",
    "    silhouette_avg = metrics.silhouette_score(count_list_num, cluster_labels)\n",
    "    silhouette_avgs.append(silhouette_avg)\n",
    "\n",
    "# 作圖並印出 k = 2 到 10 的績效\n",
    "plt.bar(ks, silhouette_avgs)\n",
    "plt.show()\n",
    "print(silhouette_avgs)\n",
    "from sklearn import cluster, datasets\n",
    "kmeans_fit = cluster.KMeans(n_clusters = 10).fit(count_list_num)\n",
    "cluster_labels = kmeans_fit.labels_\n",
    "print(\"分群結果：\")\n",
    "print(cluster_labels)"
   ]
  },
  {
   "cell_type": "markdown",
   "metadata": {},
   "source": [
    "7.用k means分出群\n",
    "用sklearn.cluster.KMeans，以各天正負關鍵詞比例及數量XY軸，將日期分成三群，並視覺化分群"
   ]
  },
  {
   "cell_type": "code",
   "execution_count": 54,
   "metadata": {},
   "outputs": [
    {
     "data": {
      "image/png": "[encoded data removed]",
      "text/plain": [
       "<Figure size 864x648 with 2 Axes>"
      ]
     },
     "metadata": {},
     "output_type": "display_data"
    },
    {
     "name": "stdout",
     "output_type": "stream",
     "text": [
      "[0 0 0 ... 0 0 0]\n"
     ]
    }
   ],
   "source": [
    "import numpy as np\n",
    "import matplotlib.pyplot as plt\n",
    "from sklearn import cluster, datasets, metrics\n",
    "%matplotlib inline\n",
    "plt.style.use('ggplot')\n",
    "plt.figure(figsize=(12, 9))\n",
    "font = {'family' : 'DFKai-SB',\n",
    "'weight' : 'bold',\n",
    "'size'  : '10'} #字型設定\n",
    "plt.rc('font', **font) #字型設定 # pass in the font dict as kwargs\n",
    "plt.rc('axes',unicode_minus=False) #字型設定\n",
    "ax1 = plt.subplot(3,2,1)  #子圖們\n",
    "#第一行第二列图形\n",
    "ax2 = plt.subplot(3,2,2)\n",
    "plt.sca(ax1)\n",
    "y_pred_num = cluster.KMeans(n_clusters=3).fit_predict(count_list_num)\n",
    "plt.title('每天關鍵詞發生的次數')\n",
    "plt.xlabel('positive')\n",
    "plt.ylabel('negative')\n",
    "plt.scatter(count_list_num_p, count_list_num_n,c=y_pred_num)\n",
    "plt.sca(ax2)\n",
    "y_pred_per = cluster.KMeans(n_clusters=3).fit_predict(count_list)\n",
    "plt.title('每天關鍵詞發生的比例')\n",
    "plt.xlabel('positive')\n",
    "plt.ylabel('negative')\n",
    "plt.scatter(count_list_per_p, count_list_per_n,c=y_pred_per)\n",
    "plt.show()\n",
    "print(y_pred_per)"
   ]
  },
  {
   "cell_type": "markdown",
   "metadata": {},
   "source": [
    "8.人工找出有發生重要脫歐事件的日期十八個\n",
    "由於K means為非監督，故從已知資訊中找尋檢查方式\n",
    "透過https://www.macromicro.me/time_line?id=13&stat=561 找出18個會影響到股市的重要日期，作為檢查"
   ]
  },
  {
   "cell_type": "code",
   "execution_count": 55,
   "metadata": {},
   "outputs": [],
   "source": [
    "real_negative_date_list = ['2016/02/18','2016/06/23','2016/06/24','2016/06/13','2017/01/17','2017/02/02','2017/02/24','2017/06/08','2017/11/29','2018/07/09','2019/03/06','2019/01/29']\n",
    "real_positive_date_list = ['2017/03/13','2017/03/29','2017/06/19','2017/12/08','2017/12/15','2018/09/19']   "
   ]
  },
  {
   "cell_type": "markdown",
   "metadata": {},
   "source": [
    "9.準備小樣本假設檢定數據\n",
    "整理出母體中各群中的日期，並視覺化實際事件發生在哪群"
   ]
  },
  {
   "cell_type": "code",
   "execution_count": 56,
   "metadata": {},
   "outputs": [
    {
     "name": "stdout",
     "output_type": "stream",
     "text": [
      "{'0': 9, '1': 2, '2': 1}\n",
      "{'0': 0, '1': 0, '2': 6}\n"
     ]
    },
    {
     "data": {
      "image/png": "[encoded data removed]",
      "text/plain": [
       "<Figure size 648x360 with 1 Axes>"
      ]
     },
     "metadata": {},
     "output_type": "display_data"
    }
   ],
   "source": [
    "k_range = [0,1,2]\n",
    "k_cluster_date_dict_3 = {}\n",
    "k_cluster_pos_count_dict_3 = {}\n",
    "k_cluster_neg_count_dict_3 = {}\n",
    "for f in k_range:\n",
    "    k_cluster_date_dict_3[str(f)] = []\n",
    "    k_cluster_pos_count_dict_3[str(f)] = 0\n",
    "    k_cluster_neg_count_dict_3[str(f)] = 0\n",
    "for i in range(len(date_list)):\n",
    "    date = date_list[i]\n",
    "    for k in k_range:\n",
    "        if y_pred_num[i] == k:\n",
    "            k_cluster_date_dict_3[str(k)].append(date)\n",
    "            break\n",
    "# print(k_cluster_date_dict_3)\n",
    "# print(len(y_pred_num))\n",
    "\n",
    "import matplotlib\n",
    "import matplotlib.pyplot as plt\n",
    "for rn in real_negative_date_list:\n",
    "    for i in k_range:\n",
    "        if rn in k_cluster_date_dict_3[str(i)]:\n",
    "            k_cluster_neg_count_dict_3[str(i)] += 1\n",
    "for rp in real_positive_date_list:\n",
    "    for i in k_range:\n",
    "        if rn in k_cluster_date_dict_3[str(i)]:\n",
    "            k_cluster_pos_count_dict_3[str(i)] += 1\n",
    "print(k_cluster_neg_count_dict_3)\n",
    "print(k_cluster_pos_count_dict_3)\n",
    "plt.subplots(figsize=(9,5)) #圖形大小\n",
    "font = {'family' : 'DFKai-SB',\n",
    "'weight' : 'bold',\n",
    "'size'  : '10'} #字型設定\n",
    "plt.rc('font', **font) #字型設定 # pass in the font dict as kwargs\n",
    "plt.rc('axes',unicode_minus=False) #字型設定\n",
    "plt.bar(k_range,list(k_cluster_neg_count_dict_3.values()),color = 'darkorange', label='真正發生負面事件次數', width = -0.4, align = \"edge\")\n",
    "plt.bar(k_range,list(k_cluster_pos_count_dict_3.values()),color = 'darkgreen', label='真正發生正面事件次數', width = 0.4, align = \"edge\")\n",
    "#print(sort_tw_place)\n",
    "plt.legend(loc='upper right')\n",
    "plt.ylabel('次數')\n",
    "yaxis = np.arange(0,10,1)\n",
    "xaxis = np.arange(-0.5,2.5,0.5)\n",
    "plt.yticks(yaxis)\n",
    "plt.legend()\n",
    "plt.show()"
   ]
  },
  {
   "cell_type": "markdown",
   "metadata": {},
   "source": [
    "10.假設檢定，目前分群是否真足以分出正負面事件?(以判斷正確率80%為基準，顯著水準為0.05)\n",
    "找出最能帶鰾正負面事件群集的群組，檢測日期若在分組內的則視為正確判斷(1)，反之則視為(0)，使用stats.ttest_1samp計算t值、p值"
   ]
  },
  {
   "cell_type": "code",
   "execution_count": 57,
   "metadata": {},
   "outputs": [
    {
     "name": "stdout",
     "output_type": "stream",
     "text": [
      "[1, 1, 1, 1, 1, 1, 1, 1, 1, 1, 1, 1, 1, 1, 1, 0, 0, 0]\n"
     ]
    },
    {
     "data": {
      "text/plain": [
       "Ttest_1sampResult(statistic=0.3687817782917153, pvalue=0.7168430154990375)"
      ]
     },
     "execution_count": 57,
     "metadata": {},
     "output_type": "execute_result"
    }
   ],
   "source": [
    "#t-test\n",
    "largest_pos_k_cluster = max(k_cluster_pos_count_dict_3, key=k_cluster_pos_count_dict_3.get)\n",
    "largest_neg_k_cluster = max(k_cluster_neg_count_dict_3, key=k_cluster_neg_count_dict_3.get)\n",
    "right_pos = k_cluster_pos_count_dict_3[str(largest_pos_k_cluster)]\n",
    "rgiht_neg = k_cluster_neg_count_dict_3[str(largest_neg_k_cluster)]\n",
    "rgiht_all = right_pos + rgiht_neg\n",
    "all_test_date = len(real_negative_date_list) + len(real_positive_date_list)\n",
    "test_list_1 = []\n",
    "#print(rgiht_all,all_test_date)\n",
    "for i in range(rgiht_all):\n",
    "    test_list_1.append(1)\n",
    "for j in range(all_test_date-rgiht_all):\n",
    "    test_list_1.append(0)\n",
    "print(test_list_1)\n",
    "from scipy import stats\n",
    "stats.ttest_1samp(test_list_1,0.8)"
   ]
  },
  {
   "cell_type": "markdown",
   "metadata": {},
   "source": [
    "結果發現此樣本在判斷正確率80%為基準，顯著水準為0.05的情況下，t值為0.3687817782917153，右尾p值為1-0.716=0.284。因0.284>0.05，我們沒有足夠的證據拒絕此虛無假設，故此結果並不顯著。在顯著水準為0.05的情況下，用此組正負關鍵字的分類分出正面及負面事件的成功率未大於0.8。"
   ]
  },
  {
   "cell_type": "markdown",
   "metadata": {},
   "source": [
    "10.再手工假設檢定一次，目前分群是否真足以分出正負面事件?(以判斷正確率80%為基準，顯著水準為0.05)\n",
    "\n",
    "人工進行t檢定: 檢測此正負關鍵字的分類是否能透過K MEANS分出正面及負面事件，設μ為成功分出正負面新聞的機率，p為抽樣結果\n",
    "虛無假設: μ = 0.8 ；對立假設: μ >0.8；顯著水準為0.05\n",
    "p = 15/18, q = 3/18\n",
    "t(0.05,17) = 1.74\n",
    "拒絕域為p > 0.9688\n",
    "因15/18= 0.8333 < 0.9688，我們沒有足夠的證據拒絕此虛無假設，故此結果並不顯著。在顯著水準為0.05的情況下，用此組正負關鍵字的分類分出正面及負面事件的成功率未大於0.8。\n",
    "\n",
    "調降期待和顯著水準(以判斷正確率70%為基準，顯著水準為0.1)\n",
    "虛無假設: μ = 0.7 ；對立假設: μ >0.7；顯著水準為0.1\n",
    "p = 15/18, q = 3/18\n",
    "t(0.1,17) = 1.33\n",
    "拒絕域為p > 0.8478\n",
    "因15/18= 0.8333 < 0.8478，我們沒有足夠的證據拒絕此虛無假設，故此結果並不顯著。在顯著水準為0.1的情況下，用此組正負關鍵字的分類分出正面及負面事件的成功率未大於0.7"
   ]
  },
  {
   "cell_type": "markdown",
   "metadata": {},
   "source": [
    "11.結論\n",
    "此分群結果不符合我的期待，故此組正負關鍵詞分群方式需要再調整"
   ]
  },
  {
   "cell_type": "markdown",
   "metadata": {},
   "source": [
    "12.未來展望\n",
    "目前只有測試單一的正負關鍵詞組合的分辨成效，未來希望能用程式自動生成不同組合的關鍵詞，再進行kmeans計算，最終透過t檢定找出能促成顯著結果的詞彙組合。"
   ]
  },
  {
   "cell_type": "code",
   "execution_count": null,
   "metadata": {},
   "outputs": [],
   "source": []
  }
 ],
 "metadata": {
  "kernelspec": {
   "display_name": "Python 3",
   "language": "python",
   "name": "python3"
  },
  "language_info": {
   "codemirror_mode": {
    "name": "ipython",
    "version": 3
   },
   "file_extension": ".py",
   "mimetype": "text/x-python",
   "name": "python",
   "nbconvert_exporter": "python",
   "pygments_lexer": "ipython3",
   "version": "3.6.4"
  }
 },
 "nbformat": 4,
 "nbformat_minor": 2
}
