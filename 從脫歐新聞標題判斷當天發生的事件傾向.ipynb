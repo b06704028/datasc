{
 "cells": [
  {
   "cell_type": "markdown",
   "metadata": {},
   "source": [
    "一、研究主題:如何從現有的CNN標題中，分辨何時的事件會對市場造成負面影響?\n",
    "\n",
    "二、專案目標:由於脫歐相關新聞中同時包含對股市會造成正面影響及負面影響的資訊，只透過單一關鍵字(brexit)不一定能看出該新聞對市場判斷的影響，因此希望透過數據探勘及機器學習，找出CNN標題常見關鍵字與脫歐事件正負面的關係。\n",
    "真正能代表脫歐相關新聞中，分別代表正負面事件的常見關鍵詞。\n",
    "\n",
    "三、研究方式: 透過PYTHON進行資料找尋、整理和分析，用sklearn進行K-means分群分析，並用matplotlib製作出視覺化圖表，最後用t檢定確認結果，以找出真正能代表脫歐相關新聞中，分別代表正負面事件的常見關鍵詞。\n",
    "\n",
    "四、研究步驟:\n",
    "1.\t設定想研究的資料目標、事件和資料範圍(時間、項目)\n",
    "2.\t透過爬蟲cnn國際版面，找出有重要關鍵字(brexit)的標題\n",
    "3.\t將一整串的標題轉換成單一的詞彙，並找出最常出現的詞彙\n",
    "4.\t人工判定正面及負面詞彙\n",
    "5.\t計算每天正負詞彙量的比例\n",
    "6.\t決定分群數量\n",
    "7.\t用k means分出群\n",
    "8.\t人工找出有發生重要脫歐事件的日期十八個\n",
    "9.\t準備小樣本假設檢定數據\n",
    "10. 小樣本假設檢定，目前分群是否真足以分出正負面事件?(以負面事件涵蓋率80%為基準，顯著水準為0.05)\n",
    "11.\t結論"
   ]
  },
  {
   "cell_type": "markdown",
   "metadata": {},
   "source": [
    "1.設定想研究的資料目標、事件和資料範圍(時間、項目)\n",
    "我希望分辨脫歐新聞對市場的影響，故時間範圍則從脫歐公投開始廣泛宣傳的2016年至今日"
   ]
  },
  {
   "cell_type": "markdown",
   "metadata": {},
   "source": [
    "2.透過爬蟲cnn國際版面，找出有重要關鍵字(brexit)的標題\n",
    "從CNN(https://edition.cnn.com/sitemaps/article...)尋找2016/01~2019/04的新聞標題網址，以cnn_loc_list儲存"
   ]
  },
  {
   "cell_type": "code",
   "execution_count": 1,
   "metadata": {
    "scrolled": false,
    "slideshow": {
     "slide_type": "slide"
    }
   },
   "outputs": [
    {
     "name": "stderr",
     "output_type": "stream",
     "text": [
      "c:\\users\\will\\appdata\\local\\programs\\python\\python36-32\\lib\\site-packages\\bs4\\__init__.py:181: UserWarning: No parser was explicitly specified, so I'm using the best available HTML parser for this system (\"lxml\"). This usually isn't a problem, but if you run this code on another system, or in a different virtual environment, it may use a different parser and behave differently.\n",
      "\n",
      "The code that caused this warning is on line 193 of the file c:\\users\\will\\appdata\\local\\programs\\python\\python36-32\\lib\\runpy.py. To get rid of this warning, change code that looks like this:\n",
      "\n",
      " BeautifulSoup(YOUR_MARKUP})\n",
      "\n",
      "to this:\n",
      "\n",
      " BeautifulSoup(YOUR_MARKUP, \"lxml\")\n",
      "\n",
      "  markup_type=markup_type))\n"
     ]
    }
   ],
   "source": [
    "import sys\n",
    "import os\n",
    "import requests, json, csv, datetime\n",
    "import re\n",
    "import time\n",
    "from xlwt import *\n",
    "import pickle\n",
    "import requests\n",
    "from datetime import datetime\n",
    "from bs4 import BeautifulSoup\n",
    "cnn_loc_list = []\n",
    "year_count_list = [\"2016\",'2017','2018']\n",
    "month_count_list = ['01','02','03','04','05','06','07','08','09','10','11','12']\n",
    "spe_2019_month_count_list = ['01','02','03','04']\n",
    "day_count_list = []\n",
    "for year in year_count_list:\n",
    "    for month in month_count_list:\n",
    "        cnn_url_twse = 'https://edition.cnn.com/sitemaps/article-'+year+'-'+month+'.xml'\n",
    "        cnn_res = requests.get(cnn_url_twse)\n",
    "        cnn_res.encoding = \"UTF-8\"\n",
    "        cnn_soup = BeautifulSoup(cnn_res.text)\n",
    "        #print(cnn_soup)\n",
    "        cnn_loc_list_o = cnn_soup.find_all(\"loc\")\n",
    "        for l in cnn_loc_list_o:\n",
    "            cn1 = l.contents[0]\n",
    "            cnn_loc_list.append(cn1)\n",
    "\n",
    "for mon in spe_2019_month_count_list:\n",
    "    cnn_url_twse = 'https://edition.cnn.com/sitemaps/article-2019-'+mon+'.xml'\n",
    "    cnn_res = requests.get(cnn_url_twse)\n",
    "    cnn_res.encoding = \"UTF-8\"\n",
    "    cnn_soup = BeautifulSoup(cnn_res.text)\n",
    "    #print(cnn_soup)\n",
    "    cnn_loc_list_o = cnn_soup.find_all(\"loc\")\n",
    "    for l in cnn_loc_list_o:\n",
    "        cn1 = l.contents[0]\n",
    "        cnn_loc_list.append(cn1)\n",
    "#print(year,cnn_loc_list)"
   ]
  },
  {
   "cell_type": "code",
   "execution_count": 2,
   "metadata": {},
   "outputs": [
    {
     "name": "stdout",
     "output_type": "stream",
     "text": [
      "2016/02/14\n"
     ]
    }
   ],
   "source": [
    "import datetime\n",
    "today = datetime.date.today()\n",
    "date_list = []\n",
    "data_size_date = 1180\n",
    "for i in range(1,data_size_date):\n",
    "    date = today - datetime.timedelta(days=i)\n",
    "    date = date.strftime(\"%Y-%m-%d %H:%M:%S\")\n",
    "    str_date = date[0]+date[1]+date[2]+date[3]+\"/\"+date[5]+date[6]+\"/\"+date[8]+date[9]\n",
    "    date_list.append(str_date)\n",
    "print(str_date)\n",
    "brexit_news_list = []\n",
    "brexit_list_day_dict = {}\n",
    "brexit_volca_list_day_dict = {}\n",
    "brexit_pos_neg_volca_list_day_dict = {}\n",
    "brexit_pos_neg_volca_percentage_dict_p = {}\n",
    "brexit_pos_neg_volca_percentage_dict_n = {}\n",
    "brexit_pos_neg_volca_percentage_dict = {}\n",
    "for j in range(data_size_date-1):\n",
    "    brexit_volca_list_day_dict[str(date_list[j])] = []\n",
    "    brexit_pos_neg_volca_list_day_dict[str(date_list[j])] = {'positive':0,'negtive':0}\n",
    "    brexit_pos_neg_volca_percentage_dict_p[str(date_list[j])] = 0\n",
    "    brexit_pos_neg_volca_percentage_dict_n[str(date_list[j])] = 0\n",
    "    brexit_pos_neg_volca_percentage_dict[str(date_list[j])] = []"
   ]
  },
  {
   "cell_type": "markdown",
   "metadata": {},
   "source": [
    "3.將一整串的標題轉換成單一的詞彙\n",
    "將一連串的網址字串轉換成多個詞彙，整理出每天有哪些詞彙"
   ]
  },
  {
   "cell_type": "code",
   "execution_count": 3,
   "metadata": {},
   "outputs": [
    {
     "name": "stdout",
     "output_type": "stream",
     "text": [
      "['intlhansard', 'gbr', 'gamble', 'brexit', 'may', 'intltheresa', 'gbr', 'brexit', 'mogg', 'rees', 'jacob', 'johnson']\n"
     ]
    }
   ],
   "source": [
    "#找出有那些新聞與脫歐有關\n",
    "brexit_news_list = []\n",
    "brexit_total_volca_list = []\n",
    "for addr in cnn_loc_list:\n",
    "    if 'brexit' in addr:\n",
    "        brexit_news_list.append(addr)\n",
    "#print(brexit_news_list)\n",
    "volca = str()\n",
    "for addr in brexit_news_list:\n",
    "    str(addr)\n",
    "    #print(addr)\n",
    "    for c in range(12,60):\n",
    "        c = c*-1\n",
    "        #print(c)\n",
    "        addr_alp = addr[c]\n",
    "        if addr_alp != \"/\":\n",
    "            if addr_alp != \"-\":\n",
    "                volca += addr_alp\n",
    "                #print(volca)\n",
    "            if addr_alp == \"-\":\n",
    "                for s in brexit_volca_list_day_dict:\n",
    "                    if s in addr:\n",
    "                        volca = volca[::-1]\n",
    "                        brexit_volca_list_day_dict[s].append(volca)\n",
    "                        brexit_total_volca_list.append(volca)\n",
    "                        volca = str()\n",
    "        if addr_alp == \"/\":\n",
    "            break\n",
    "print(brexit_volca_list_day_dict['2019/04/07'])"
   ]
  },
  {
   "cell_type": "markdown",
   "metadata": {},
   "source": [
    "3.找出最常出現的詞彙\n",
    "使用collections.Counter找出最常出現的四十個關鍵詞"
   ]
  },
  {
   "cell_type": "code",
   "execution_count": 4,
   "metadata": {},
   "outputs": [
    {
     "name": "stdout",
     "output_type": "stream",
     "text": [
      "[('brexit', 166), ('gbr', 108), ('may', 99), ('intlbrexit', 87), ('intl', 65), ('theresa', 48), ('eu', 38), ('vote', 26), ('deal', 25), ('uk', 21), ('gbrbrexit', 21), ('intltheresa', 20), ('analysis', 20), ('intluk', 18), ('50', 17), ('no', 13), ('referendum', 12), ('britain', 12), ('article', 12), ('bill', 10), ('parliament', 10), ('mcgee', 9), ('what', 8), ('of', 8), ('scli', 8), ('europe', 7), ('brussels', 7), ('delay', 7), ('luke', 7), ('johnson', 6), ('to', 6), ('gbrtheresa', 6), ('is', 6), ('labour', 5), ('eubrexit', 5), ('one', 5), ('brexitbrexit', 5), ('maybrexit', 5), ('court', 5), ('speech', 5)]\n",
      "['brexit', 'gbr', 'may', 'intlbrexit', 'intl', 'theresa', 'eu', 'vote', 'deal', 'uk', 'gbrbrexit', 'intltheresa', 'analysis', 'intluk', '50', 'no', 'referendum', 'britain', 'article', 'bill', 'parliament', 'mcgee', 'what', 'of', 'scli', 'europe', 'brussels', 'delay', 'luke', 'johnson', 'to', 'gbrtheresa', 'is', 'labour', 'eubrexit', 'one', 'brexitbrexit', 'maybrexit', 'court', 'speech']\n"
     ]
    }
   ],
   "source": [
    "from collections import Counter\n",
    "brexit_volca_count_list = Counter(brexit_total_volca_list).most_common(40)\n",
    "brexit_important_volca_count_list =  [key for key, _ in Counter(brexit_total_volca_list).most_common(40)]\n",
    "print(brexit_volca_count_list)\n",
    "print(brexit_important_volca_count_list)"
   ]
  },
  {
   "cell_type": "markdown",
   "metadata": {},
   "source": [
    "4.人工判定正面及負面詞彙\n",
    "先從上述資訊，用人工判定那些可能為正面及負面的關鍵詞，並製作成list"
   ]
  },
  {
   "cell_type": "code",
   "execution_count": 5,
   "metadata": {},
   "outputs": [],
   "source": [
    "positive_words_list = []\n",
    "negtive_words_list = []\n",
    "count_list = []\n",
    "count_list_num = []\n",
    "count_list_num_p = []\n",
    "count_list_num_n = []\n",
    "count_list_per_p = []\n",
    "count_list_per_n = []\n",
    "positive_words_list_1 = [ 'deal', 'intltheresa', 'analysis', 'intluk', 'eu', 'uk','mcgee', 'scli', 'referendum', 'brussels', 'parliament']\n",
    "negtive_words_list_1 = ['brexit', 'gbr', 'intlbrexit', 'may', 'intl', 'theresa', 'vote', 'gbrbrexit','no','what', 'delay', 'luke', 'europe']\n",
    "\n",
    "        \n"
   ]
  },
  {
   "cell_type": "markdown",
   "metadata": {},
   "source": [
    "5.計算每天正負詞彙量的比例和次數\n",
    "準備KMEANS分析的資料，統整每天出現的正負詞彙數量，並計算出正負面詞彙分別佔當天重要詞彙的比例"
   ]
  },
  {
   "cell_type": "code",
   "execution_count": 6,
   "metadata": {},
   "outputs": [],
   "source": [
    "for d in date_list:\n",
    "    voc_list = brexit_volca_list_day_dict[str(d)]\n",
    "    pos_num = 0\n",
    "    neg_num = 0\n",
    "    percentage_of_d_p = 0\n",
    "    percentage_of_d_n = 0\n",
    "    for pos_wo in positive_words_list_1:\n",
    "        if pos_wo in voc_list:\n",
    "            pos_num+=1\n",
    "    for neg_wo in negtive_words_list_1:\n",
    "        if neg_wo in voc_list:\n",
    "            neg_num +=1\n",
    "    if pos_num+neg_num != 0:\n",
    "        percentage_of_d_p = pos_num/(pos_num+neg_num)\n",
    "        percentage_of_d_n = neg_num/(pos_num+neg_num)\n",
    "        count_list.append([percentage_of_d_p,percentage_of_d_n])\n",
    "        count_list_num.append([pos_num,neg_num])\n",
    "        count_list_num_p.append(pos_num)\n",
    "        count_list_num_n.append(neg_num)\n",
    "        count_list_per_p.append(percentage_of_d_p)\n",
    "        count_list_per_n.append(percentage_of_d_n)\n",
    "    else:\n",
    "        count_list.append([0,0])\n",
    "        count_list_num.append([0,0])\n",
    "        count_list_num_p.append(0)\n",
    "        count_list_num_n.append(0)\n",
    "        count_list_per_p.append(0)\n",
    "        count_list_per_n.append(0)\n",
    "    brexit_pos_neg_volca_percentage_dict_p[str(d)] = percentage_of_d_p\n",
    "    brexit_pos_neg_volca_percentage_dict_n[str(d)] = percentage_of_d_n\n",
    "    brexit_pos_neg_volca_percentage_dict[str(d)] = ([percentage_of_d_p,percentage_of_d_n])\n",
    "#print(brexit_pos_neg_volca_percentage_dict_n)\n",
    "#print(brexit_pos_neg_volca_percentage_dict)\n",
    "#print(count_list)    "
   ]
  },
  {
   "cell_type": "markdown",
   "metadata": {},
   "source": [
    "6.決定分群數量\n",
    "使用metrics.silhouette_score決定分群數量，可知差異有限但分成十群效果可能最好。然而此處為了方便操作先以三群為試驗。"
   ]
  },
  {
   "cell_type": "code",
   "execution_count": 10,
   "metadata": {},
   "outputs": [
    {
     "data": {
      "image/png": "[encoded data removed]",
      "text/plain": [
       "<Figure size 432x288 with 1 Axes>"
      ]
     },
     "metadata": {
      "needs_background": "light"
     },
     "output_type": "display_data"
    },
    {
     "name": "stdout",
     "output_type": "stream",
     "text": [
      "[0.9040654814641875, 0.9349322257118388, 0.9602874358217464, 0.9703935990206162, 0.973345522791878, 0.9775885182957509, 0.9839903238730172, 0.9900327991967183, 0.990234949462478]\n"
     ]
    }
   ],
   "source": [
    "from sklearn import cluster, datasets, metrics\n",
    "import matplotlib.pyplot as plt\n",
    "\n",
    "# 迴圈\n",
    "silhouette_avgs = []\n",
    "ks = range(2, 11)\n",
    "for k in ks:\n",
    "    kmeans_fit = cluster.KMeans(n_clusters = k).fit(count_list)\n",
    "    cluster_labels = kmeans_fit.labels_\n",
    "    silhouette_avg = metrics.silhouette_score(count_list, cluster_labels)\n",
    "    silhouette_avgs.append(silhouette_avg)\n",
    "\n",
    "# 作圖並印出 k = 2 到 10 的績效\n",
    "plt.bar(ks, silhouette_avgs)\n",
    "plt.show()\n",
    "print(silhouette_avgs)"
   ]
  },
  {
   "cell_type": "code",
   "execution_count": 11,
   "metadata": {},
   "outputs": [
    {
     "name": "stdout",
     "output_type": "stream",
     "text": [
      "分群結果：\n",
      "[1 1 1 ... 1 1 1]\n"
     ]
    }
   ],
   "source": [
    "from sklearn import cluster, datasets\n",
    "kmeans_fit = cluster.KMeans(n_clusters = 10).fit(count_list)\n",
    "cluster_labels = kmeans_fit.labels_\n",
    "print(\"分群結果：\")\n",
    "print(cluster_labels)"
   ]
  },
  {
   "cell_type": "code",
   "execution_count": 12,
   "metadata": {},
   "outputs": [
    {
     "data": {
      "image/png": "[encoded data removed]",
      "text/plain": [
       "<Figure size 432x288 with 1 Axes>"
      ]
     },
     "metadata": {
      "needs_background": "light"
     },
     "output_type": "display_data"
    },
    {
     "name": "stdout",
     "output_type": "stream",
     "text": [
      "[0.8743736199870801, 0.8747904940626346, 0.8666326380528002, 0.8908794940944141, 0.8972668269353777, 0.9065497591865005, 0.9169475054916849, 0.9140152941315031, 0.9272178136025625]\n",
      "分群結果：\n",
      "[0 0 0 ... 0 0 0]\n"
     ]
    }
   ],
   "source": [
    "from sklearn import cluster, datasets, metrics\n",
    "import matplotlib.pyplot as plt\n",
    "\n",
    "# 迴圈\n",
    "silhouette_avgs = []\n",
    "ks = range(2, 11)\n",
    "for k in ks:\n",
    "    kmeans_fit = cluster.KMeans(n_clusters = k).fit(count_list_num)\n",
    "    cluster_labels = kmeans_fit.labels_\n",
    "    silhouette_avg = metrics.silhouette_score(count_list_num, cluster_labels)\n",
    "    silhouette_avgs.append(silhouette_avg)\n",
    "\n",
    "# 作圖並印出 k = 2 到 10 的績效\n",
    "plt.bar(ks, silhouette_avgs)\n",
    "plt.show()\n",
    "print(silhouette_avgs)\n",
    "from sklearn import cluster, datasets\n",
    "kmeans_fit = cluster.KMeans(n_clusters = 10).fit(count_list_num)\n",
    "cluster_labels = kmeans_fit.labels_\n",
    "print(\"分群結果：\")\n",
    "print(cluster_labels)"
   ]
  },
  {
   "cell_type": "markdown",
   "metadata": {},
   "source": [
    "7.用k means分出群\n",
    "用sklearn.cluster.KMeans，以各天正負關鍵詞比例及數量XY軸，將日期分成三群，並視覺化分群"
   ]
  },
  {
   "cell_type": "code",
   "execution_count": 13,
   "metadata": {},
   "outputs": [
    {
     "data": {
      "image/png": "[encoded data removed]",
      "text/plain": [
       "<Figure size 864x648 with 2 Axes>"
      ]
     },
     "metadata": {},
     "output_type": "display_data"
    },
    {
     "name": "stdout",
     "output_type": "stream",
     "text": [
      "[0 0 0 ... 0 0 0]\n"
     ]
    }
   ],
   "source": [
    "import numpy as np\n",
    "import matplotlib.pyplot as plt\n",
    "from sklearn import cluster, datasets, metrics\n",
    "%matplotlib inline\n",
    "plt.style.use('ggplot')\n",
    "plt.figure(figsize=(12, 9))\n",
    "font = {'family' : 'DFKai-SB',\n",
    "'weight' : 'bold',\n",
    "'size'  : '10'} #字型設定\n",
    "plt.rc('font', **font) #字型設定 # pass in the font dict as kwargs\n",
    "plt.rc('axes',unicode_minus=False) #字型設定\n",
    "ax1 = plt.subplot(3,2,1)  #子圖們\n",
    "#第一行第二列图形\n",
    "ax2 = plt.subplot(3,2,2)\n",
    "plt.sca(ax1)\n",
    "y_pred_num = cluster.KMeans(n_clusters=3).fit_predict(count_list_num)\n",
    "plt.title('每天關鍵詞發生的次數')\n",
    "plt.xlabel('positive')\n",
    "plt.ylabel('negative')\n",
    "plt.scatter(count_list_num_p, count_list_num_n,c=y_pred_num)\n",
    "plt.sca(ax2)\n",
    "y_pred_per = cluster.KMeans(n_clusters=3).fit_predict(count_list)\n",
    "plt.title('每天關鍵詞發生的比例')\n",
    "plt.xlabel('positive')\n",
    "plt.ylabel('negative')\n",
    "plt.scatter(count_list_per_p, count_list_per_n,c=y_pred_per)\n",
    "plt.show()\n",
    "print(y_pred_per)"
   ]
  },
  {
   "cell_type": "markdown",
   "metadata": {},
   "source": [
    "8.人工找出有發生重要脫歐事件的日期十八個\n",
    "由於K means為非監督，故從已知資訊中找尋檢查方式\n",
    "透過https://www.macromicro.me/time_line?id=13&stat=561 找出18個會影響到股市的重要日期，作為檢查"
   ]
  },
  {
   "cell_type": "code",
   "execution_count": 14,
   "metadata": {},
   "outputs": [],
   "source": [
    "real_negative_date_list = ['2016/02/18','2016/06/23','2016/06/24','2016/06/13','2017/01/17','2017/02/02','2017/02/24','2017/06/08','2017/11/29','2018/07/09','2019/03/06','2019/01/29']\n",
    "real_positive_date_list = ['2017/03/13','2017/03/29','2017/06/19','2017/12/08','2017/12/15','2018/09/19']   "
   ]
  },
  {
   "cell_type": "markdown",
   "metadata": {},
   "source": [
    "9.準備小樣本假設檢定數據\n",
    "整理出母體中各群中的日期，並視覺化實際事件發生在哪群"
   ]
  },
  {
   "cell_type": "code",
   "execution_count": 15,
   "metadata": {},
   "outputs": [
    {
     "name": "stdout",
     "output_type": "stream",
     "text": [
      "{'0': 9, '1': 1, '2': 2}\n",
      "{'0': 0, '1': 6, '2': 0}\n"
     ]
    },
    {
     "data": {
      "image/png": "[encoded data removed]",
      "text/plain": [
       "<Figure size 648x360 with 1 Axes>"
      ]
     },
     "metadata": {},
     "output_type": "display_data"
    }
   ],
   "source": [
    "k_range = [0,1,2]\n",
    "k_cluster_date_dict_3 = {}\n",
    "k_cluster_pos_count_dict_3 = {}\n",
    "k_cluster_neg_count_dict_3 = {}\n",
    "for f in k_range:\n",
    "    k_cluster_date_dict_3[str(f)] = []\n",
    "    k_cluster_pos_count_dict_3[str(f)] = 0\n",
    "    k_cluster_neg_count_dict_3[str(f)] = 0\n",
    "for i in range(len(date_list)):\n",
    "    date = date_list[i]\n",
    "    for k in k_range:\n",
    "        if y_pred_num[i] == k:\n",
    "            k_cluster_date_dict_3[str(k)].append(date)\n",
    "            break\n",
    "# print(k_cluster_date_dict_3)\n",
    "# print(len(y_pred_num))\n",
    "\n",
    "import matplotlib\n",
    "import matplotlib.pyplot as plt\n",
    "for rn in real_negative_date_list:\n",
    "    for i in k_range:\n",
    "        if rn in k_cluster_date_dict_3[str(i)]:\n",
    "            k_cluster_neg_count_dict_3[str(i)] += 1\n",
    "for rp in real_positive_date_list:\n",
    "    for i in k_range:\n",
    "        if rn in k_cluster_date_dict_3[str(i)]:\n",
    "            k_cluster_pos_count_dict_3[str(i)] += 1\n",
    "print(k_cluster_neg_count_dict_3)\n",
    "print(k_cluster_pos_count_dict_3)\n",
    "plt.subplots(figsize=(9,5)) #圖形大小\n",
    "font = {'family' : 'DFKai-SB',\n",
    "'weight' : 'bold',\n",
    "'size'  : '10'} #字型設定\n",
    "plt.rc('font', **font) #字型設定 # pass in the font dict as kwargs\n",
    "plt.rc('axes',unicode_minus=False) #字型設定\n",
    "plt.bar(k_range,list(k_cluster_neg_count_dict_3.values()),color = 'darkorange', label='真正發生負面事件次數', width = -0.4, align = \"edge\")\n",
    "plt.bar(k_range,list(k_cluster_pos_count_dict_3.values()),color = 'darkgreen', label='真正發生正面事件次數', width = 0.4, align = \"edge\")\n",
    "#print(sort_tw_place)\n",
    "plt.legend(loc='upper right')\n",
    "plt.ylabel('次數')\n",
    "yaxis = np.arange(0,10,1)\n",
    "xaxis = np.arange(-0.5,2.5,0.5)\n",
    "plt.yticks(yaxis)\n",
    "plt.legend()\n",
    "plt.show()"
   ]
  },
  {
   "cell_type": "markdown",
   "metadata": {},
   "source": [
    "10.假設檢定，目前分群是否真足以分出正負面事件?(以判斷正確率80%為基準，顯著水準為0.05)\n",
    "找出最能帶鰾正負面事件群集的群組，檢測日期若在分組內的則視為正確判斷(1)，反之則視為(0)，使用stats.ttest_1samp計算t值、p值"
   ]
  },
  {
   "cell_type": "code",
   "execution_count": 16,
   "metadata": {},
   "outputs": [
    {
     "name": "stdout",
     "output_type": "stream",
     "text": [
      "[1, 1, 1, 1, 1, 1, 1, 1, 1, 1, 1, 1, 1, 1, 1, 0, 0, 0]\n"
     ]
    },
    {
     "data": {
      "text/plain": [
       "Ttest_1sampResult(statistic=0.3687817782917153, pvalue=0.7168430154990375)"
      ]
     },
     "execution_count": 16,
     "metadata": {},
     "output_type": "execute_result"
    }
   ],
   "source": [
    "#t-test\n",
    "largest_pos_k_cluster = max(k_cluster_pos_count_dict_3, key=k_cluster_pos_count_dict_3.get)\n",
    "largest_neg_k_cluster = max(k_cluster_neg_count_dict_3, key=k_cluster_neg_count_dict_3.get)\n",
    "right_pos = k_cluster_pos_count_dict_3[str(largest_pos_k_cluster)]\n",
    "rgiht_neg = k_cluster_neg_count_dict_3[str(largest_neg_k_cluster)]\n",
    "rgiht_all = right_pos + rgiht_neg\n",
    "all_test_date = len(real_negative_date_list) + len(real_positive_date_list)\n",
    "test_list_1 = []\n",
    "#print(rgiht_all,all_test_date)\n",
    "for i in range(rgiht_all):\n",
    "    test_list_1.append(1)\n",
    "for j in range(all_test_date-rgiht_all):\n",
    "    test_list_1.append(0)\n",
    "print(test_list_1)\n",
    "from scipy import stats\n",
    "stats.ttest_1samp(test_list_1,0.8)"
   ]
  },
  {
   "cell_type": "markdown",
   "metadata": {},
   "source": [
    "結果發現此樣本在判斷正確率80%為基準，顯著水準為0.05的情況下，t值為0.3687817782917153，右尾p值為1-0.716=0.284。因0.284>0.05，我們沒有足夠的證據拒絕此虛無假設，故此結果並不顯著。在顯著水準為0.05的情況下，用此組正負關鍵字的分類分出正面及負面事件的成功率未大於0.8。"
   ]
  },
  {
   "cell_type": "markdown",
   "metadata": {},
   "source": [
    "10.再手工假設檢定一次，目前分群是否真足以分出正負面事件?(以判斷正確率80%為基準，顯著水準為0.05)\n",
    "\n",
    "人工進行t檢定: 檢測此正負關鍵字的分類是否能透過K MEANS分出正面及負面事件，設μ為成功分出正負面新聞的機率，p為抽樣結果\n",
    "虛無假設: μ = 0.8 ；對立假設: μ >0.8；顯著水準為0.05\n",
    "p = 15/18, q = 3/18\n",
    "t(0.05,17) = 1.74\n",
    "拒絕域為p > 0.9688\n",
    "因15/18= 0.8333 < 0.9688，我們沒有足夠的證據拒絕此虛無假設，故此結果並不顯著。在顯著水準為0.05的情況下，用此組正負關鍵字的分類分出正面及負面事件的成功率未大於0.8。\n",
    "\n",
    "調降期待和顯著水準(以判斷正確率70%為基準，顯著水準為0.1)\n",
    "虛無假設: μ = 0.7 ；對立假設: μ >0.7；顯著水準為0.1\n",
    "p = 15/18, q = 3/18\n",
    "t(0.1,17) = 1.33\n",
    "拒絕域為p > 0.8478\n",
    "因15/18= 0.8333 < 0.8478，我們沒有足夠的證據拒絕此虛無假設，故此結果並不顯著。在顯著水準為0.1的情況下，用此組正負關鍵字的分類分出正面及負面事件的成功率未大於0.7"
   ]
  },
  {
   "cell_type": "markdown",
   "metadata": {},
   "source": [
    "11.結論\n",
    "此分群結果不符合我的期待，故此組正負關鍵詞分群方式需要再調整"
   ]
  },
  {
   "cell_type": "markdown",
   "metadata": {},
   "source": [
    "12.未來展望\n",
    "目前只有測試單一的正負關鍵詞組合的分辨成效，未來希望能用程式自動生成不同組合的關鍵詞，再進行kmeans計算，最終透過t檢定找出能促成顯著結果的詞彙組合。"
   ]
  },
  {
   "cell_type": "code",
   "execution_count": null,
   "metadata": {},
   "outputs": [],
   "source": []
  }
 ],
 "metadata": {
  "kernelspec": {
   "display_name": "Python 3",
   "language": "python",
   "name": "python3"
  },
  "language_info": {
   "codemirror_mode": {
    "name": "ipython",
    "version": 3
   },
   "file_extension": ".py",
   "mimetype": "text/x-python",
   "name": "python",
   "nbconvert_exporter": "python",
   "pygments_lexer": "ipython3",
   "version": "3.6.4"
  }
 },
 "nbformat": 4,
 "nbformat_minor": 2
}
